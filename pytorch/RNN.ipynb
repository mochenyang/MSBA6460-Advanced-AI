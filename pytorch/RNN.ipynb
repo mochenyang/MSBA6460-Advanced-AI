{
 "cells": [
  {
   "attachments": {},
   "cell_type": "markdown",
   "id": "aec03969",
   "metadata": {},
   "source": [
    "## Pytorch Implementation of RNN for Text Classification"
   ]
  },
  {
   "cell_type": "code",
   "execution_count": 4,
   "id": "04ff4e77",
   "metadata": {},
   "outputs": [],
   "source": [
    "import torch\n",
    "from sklearn.model_selection import train_test_split\n",
    "import numpy as np\n",
    "from torch.utils.data import Dataset, DataLoader\n",
    "import torch.nn as nn\n",
    "from torchtext import data"
   ]
  },
  {
   "cell_type": "code",
   "execution_count": 2,
   "id": "907e34f4",
   "metadata": {},
   "outputs": [],
   "source": [
    "# load data\n",
    "text = []\n",
    "label = []\n",
    "for line in open(\"../datasets/sentiment.txt\"):\n",
    "    line = line.rstrip('\\n').split('\\t')\n",
    "    text.append(line[0])\n",
    "    label.append(int(line[1]))\n",
    "text = np.array(text)\n",
    "label = np.array(label)"
   ]
  },
  {
   "cell_type": "code",
   "execution_count": 26,
   "id": "293b9934",
   "metadata": {},
   "outputs": [],
   "source": [
    "# text pre-processing and vectorization in pytorch\n",
    "# build vocabulary with the spacy tokenizer and lowercasing\n",
    "TEXT = data.Field(sequential=True, tokenize='spacy', tokenizer_language='en_core_web_sm', lower=True, batch_first=True)\n",
    "LABEL = data.LabelField(dtype=torch.float, batch_first=True)\n",
    "fields = [('text', TEXT), ('label', LABEL)]\n",
    "examples = []\n",
    "for i in range(len(text)):\n",
    "    examples.append(data.Example.fromlist([text[i], label[i]], fields))\n",
    "sentimentDataset = data.Dataset(examples, fields)\n",
    "train_data, test_data = sentimentDataset.split(split_ratio=0.8)\n",
    "TEXT.build_vocab(train_data)\n",
    "LABEL.build_vocab(train_data)"
   ]
  },
  {
   "cell_type": "code",
   "execution_count": 42,
   "id": "231fd253",
   "metadata": {},
   "outputs": [
    {
     "name": "stdout",
     "output_type": "stream",
     "text": [
      "4613\n",
      "[('.', 2117), ('the', 1554), (',', 1025), ('and', 863), ('i', 816), (' ', 798), ('a', 720), ('it', 619), ('is', 617), ('to', 529)]\n",
      "['<unk>', '<pad>', '.', 'the', ',', 'and', 'i', ' ', 'a', 'it']\n",
      "2\n",
      "[0, 1]\n"
     ]
    }
   ],
   "source": [
    "# examine vocabulary\n",
    "print(len(TEXT.vocab))\n",
    "print(TEXT.vocab.freqs.most_common(10))\n",
    "# by default, the first token is unknown, the second is padding\n",
    "print(TEXT.vocab.itos[:10])\n",
    "print(len(LABEL.vocab))\n",
    "print(LABEL.vocab.itos[:2])"
   ]
  },
  {
   "cell_type": "code",
   "execution_count": 46,
   "id": "424f068c",
   "metadata": {},
   "outputs": [],
   "source": [
    "# construct datasets and batches\n",
    "train_iterator, test_iterator = data.BucketIterator.splits((train_data, test_data), batch_size=32, \n",
    "                                                           sort_key=lambda x: len(x.text), \n",
    "                                                           sort_within_batch=False)"
   ]
  },
  {
   "cell_type": "code",
   "execution_count": 60,
   "id": "86a29716",
   "metadata": {},
   "outputs": [],
   "source": [
    "# build an RNN with embedding layer\n",
    "class RNN(nn.Module):\n",
    "    \n",
    "    def __init__(self, vocab_size, embedding_dim, hidden_dim, output_dim, n_layers=1):\n",
    "        # vocab_size: size of the vocabulary\n",
    "        # embedding_dim: size of the word embeddings\n",
    "        # hidden_dim: size of the hidden states\n",
    "        # output_dim: size of the outputs\n",
    "        # n_layers: number of layers in the RNN (i.e. num of stacked RNNs, set to 1 by default)\n",
    "        # bidirectional: whether the RNN is bidirectional (default to False)\n",
    "        super().__init__()\n",
    "        self.embedding = nn.Embedding(vocab_size, embedding_dim)\n",
    "        # can use RNN, LSTM, or GRU here\n",
    "        #self.rnn = nn.RNN(embedding_dim, hidden_dim, n_layers, batch_first=True)\n",
    "        #self.rnn = nn.LSTM(embedding_dim, hidden_dim, n_layers, batch_first=True)\n",
    "        self.rnn = nn.GRU(embedding_dim, hidden_dim, n_layers, batch_first=True)\n",
    "        self.fc = nn.Linear(hidden_dim, output_dim)\n",
    "    \n",
    "    def forward(self, text):\n",
    "        embedded = self.embedding(text)\n",
    "        # Basic RNN or GRU produce two outputs: output and hidden. The first has hidden states at every time step and the second has the final hidden states\n",
    "        output, hidden = self.rnn(embedded)\n",
    "        # However, if you are using LSTM , there will be three outputs and the third one is the final cell state\n",
    "        #output, (hidden, cell) = self.rnn(embedded)\n",
    "        return self.fc(hidden.squeeze(0))"
   ]
  },
  {
   "cell_type": "code",
   "execution_count": 61,
   "id": "b818b59c",
   "metadata": {},
   "outputs": [],
   "source": [
    "# specify model parameters and training parameters\n",
    "vocab_size = len(TEXT.vocab)\n",
    "embedding_dim = 64\n",
    "hidden_dim = 128\n",
    "# note that output_dim is 1 because we are doing binary classification\n",
    "output_dim = 1\n",
    "model = RNN(vocab_size, embedding_dim, hidden_dim, output_dim)\n",
    "optimizer = torch.optim.Adam(model.parameters(), lr=1e-3)\n",
    "criterion = nn.BCEWithLogitsLoss()\n"
   ]
  },
  {
   "cell_type": "code",
   "execution_count": 62,
   "id": "551b4a54",
   "metadata": {},
   "outputs": [
    {
     "name": "stdout",
     "output_type": "stream",
     "text": [
      "Epoch: 0, Training Loss: 0.695453941822052\n",
      "Epoch: 0, Validation Loss: 0.6955385208129883\n",
      "Epoch: 1, Training Loss: 0.6828354001045227\n",
      "Epoch: 1, Validation Loss: 0.7000489234924316\n",
      "Epoch: 2, Training Loss: 0.6877161264419556\n",
      "Epoch: 2, Validation Loss: 0.6898696422576904\n",
      "Epoch: 3, Training Loss: 0.6021620035171509\n",
      "Epoch: 3, Validation Loss: 0.7490665316581726\n",
      "Epoch: 4, Training Loss: 0.44912979006767273\n",
      "Epoch: 4, Validation Loss: 0.8792015910148621\n",
      "Epoch: 5, Training Loss: 0.36820706725120544\n",
      "Epoch: 5, Validation Loss: 0.7942952513694763\n",
      "Epoch: 6, Training Loss: 0.636217474937439\n",
      "Epoch: 6, Validation Loss: 0.9420352578163147\n",
      "Epoch: 7, Training Loss: 0.16370218992233276\n",
      "Epoch: 7, Validation Loss: 0.9668347835540771\n",
      "Epoch: 8, Training Loss: 0.22463662922382355\n",
      "Epoch: 8, Validation Loss: 1.1872559785842896\n",
      "Epoch: 9, Training Loss: 0.10992171615362167\n",
      "Epoch: 9, Validation Loss: 1.3811120986938477\n"
     ]
    }
   ],
   "source": [
    "# train the model and print out validation loss after each epoch\n",
    "epochs = 10\n",
    "for epoch in range(epochs):\n",
    "    # training mode\n",
    "    model.train()\n",
    "    for batch in train_iterator:\n",
    "        optimizer.zero_grad()\n",
    "        predictions = model(batch.text).squeeze(1)\n",
    "        loss = criterion(predictions, batch.label)\n",
    "        loss.backward()\n",
    "        optimizer.step()\n",
    "    print(\"Epoch: {}, Training Loss: {}\".format(epoch, loss.item()))\n",
    "    \n",
    "    # evaluation mode\n",
    "    model.eval()\n",
    "    with torch.no_grad():\n",
    "        for batch in test_iterator:\n",
    "            predictions = model(batch.text).squeeze(1)\n",
    "            loss = criterion(predictions, batch.label)\n",
    "        print(\"Epoch: {}, Validation Loss: {}\".format(epoch, loss.item()))"
   ]
  },
  {
   "cell_type": "code",
   "execution_count": 75,
   "id": "113af57e",
   "metadata": {},
   "outputs": [],
   "source": [
    "# Of course, you can also do bidirectional RNNs, which is just a matter of setting bidirectional=True in the RNN constructor.\n",
    "# here is an example of bidirectional LSTM\n",
    "class BiLSTM(nn.Module):\n",
    "        \n",
    "    def __init__(self, vocab_size, embedding_dim, hidden_dim, output_dim, n_layers=1):\n",
    "        super().__init__()\n",
    "        self.embedding = nn.Embedding(vocab_size, embedding_dim)\n",
    "        self.rnn = nn.LSTM(embedding_dim, hidden_dim, n_layers, bidirectional=True, batch_first=True)\n",
    "        # note that the input dimension of the linear layer is doubled because we are concatenating the final hidden states from both directions\n",
    "        self.fc = nn.Linear(hidden_dim*2, output_dim)\n",
    "        \n",
    "    def forward(self, text):\n",
    "        embedded = self.embedding(text)\n",
    "        output, (hidden, cell) = self.rnn(embedded)\n",
    "        # the following line concatenates the final hidden states from both directions\n",
    "        hidden = torch.cat((hidden[-2,:,:], hidden[-1,:,:]), dim=1)\n",
    "        return self.fc(hidden.squeeze(0))"
   ]
  },
  {
   "cell_type": "code",
   "execution_count": 76,
   "id": "3565389b",
   "metadata": {},
   "outputs": [],
   "source": [
    "# specify model parameters and training parameters\n",
    "vocab_size = len(TEXT.vocab)\n",
    "embedding_dim = 64\n",
    "hidden_dim = 128\n",
    "# note that output_dim is 1 because we are doing binary classification\n",
    "output_dim = 1\n",
    "model = BiLSTM(vocab_size, embedding_dim, hidden_dim, output_dim)\n",
    "optimizer = torch.optim.Adam(model.parameters(), lr=1e-3)\n",
    "criterion = nn.BCEWithLogitsLoss()"
   ]
  },
  {
   "cell_type": "code",
   "execution_count": 77,
   "id": "d5895d7b",
   "metadata": {},
   "outputs": [
    {
     "name": "stdout",
     "output_type": "stream",
     "text": [
      "Epoch: 0, Training Loss: 0.7456362247467041\n",
      "Epoch: 0, Validation Loss: 0.6658830046653748\n",
      "Epoch: 1, Training Loss: 0.5884069800376892\n",
      "Epoch: 1, Validation Loss: 0.5843148231506348\n",
      "Epoch: 2, Training Loss: 0.6707966327667236\n",
      "Epoch: 2, Validation Loss: 0.6619852185249329\n",
      "Epoch: 3, Training Loss: 0.26380395889282227\n",
      "Epoch: 3, Validation Loss: 0.5596750378608704\n",
      "Epoch: 4, Training Loss: 0.1876998245716095\n",
      "Epoch: 4, Validation Loss: 0.66705721616745\n",
      "Epoch: 5, Training Loss: 0.42112839221954346\n",
      "Epoch: 5, Validation Loss: 0.6943915486335754\n",
      "Epoch: 6, Training Loss: 0.22854258120059967\n",
      "Epoch: 6, Validation Loss: 0.9938416481018066\n",
      "Epoch: 7, Training Loss: 0.27132993936538696\n",
      "Epoch: 7, Validation Loss: 0.9798004627227783\n",
      "Epoch: 8, Training Loss: 0.039236899465322495\n",
      "Epoch: 8, Validation Loss: 0.6700077056884766\n",
      "Epoch: 9, Training Loss: 0.1196562647819519\n",
      "Epoch: 9, Validation Loss: 0.8626105189323425\n"
     ]
    }
   ],
   "source": [
    "# train the model and print out validation loss after each epoch\n",
    "epochs = 10\n",
    "for epoch in range(epochs):\n",
    "    # training mode\n",
    "    model.train()\n",
    "    for batch in train_iterator:\n",
    "        optimizer.zero_grad()\n",
    "        predictions = model(batch.text).squeeze(1)\n",
    "        loss = criterion(predictions, batch.label)\n",
    "        loss.backward()\n",
    "        optimizer.step()\n",
    "    print(\"Epoch: {}, Training Loss: {}\".format(epoch, loss.item()))\n",
    "    \n",
    "    # evaluation mode\n",
    "    model.eval()\n",
    "    with torch.no_grad():\n",
    "        for batch in test_iterator:\n",
    "            predictions = model(batch.text).squeeze(1)\n",
    "            loss = criterion(predictions, batch.label)\n",
    "        print(\"Epoch: {}, Validation Loss: {}\".format(epoch, loss.item()))"
   ]
  }
 ],
 "metadata": {
  "kernelspec": {
   "display_name": "Python 3 (ipykernel)",
   "language": "python",
   "name": "python3"
  },
  "language_info": {
   "codemirror_mode": {
    "name": "ipython",
    "version": 3
   },
   "file_extension": ".py",
   "mimetype": "text/x-python",
   "name": "python",
   "nbconvert_exporter": "python",
   "pygments_lexer": "ipython3",
   "version": "3.10.11"
  }
 },
 "nbformat": 4,
 "nbformat_minor": 5
}
