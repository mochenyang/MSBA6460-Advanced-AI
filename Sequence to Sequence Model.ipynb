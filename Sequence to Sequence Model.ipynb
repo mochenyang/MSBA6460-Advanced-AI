{
 "cells": [
  {
   "cell_type": "markdown",
   "metadata": {},
   "source": [
    "# <center> MSBA 6460: Advanced AI for Business Applications </center>\n",
    "<center> Summer 2022, Mochen Yang </center>\n",
    "\n",
    "## <center> Sequence to Sequence Model </center>"
   ]
  },
  {
   "cell_type": "markdown",
   "metadata": {},
   "source": [
    "# Table of Contents\n",
    "1. [Setup](#setup)\n",
    "1. [Seq2Seq Model and the Encoder-Decoder Architecture](#encode_decode)\n",
    "    - [Sequence-to-Sequence (Seq2Seq) Modeling](#encode_decode_s2s)\n",
    "    - [Basic Ideas of the Encoder-Decoder Architecture](#encode_decode_architecture)\n",
    "    - [Technical Details of the Encoder-Decoder Architecture](#encode_decode_tech)\n",
    "    - [Implement Encoder-Decoder Architecture in Keras](#encode_decode_implement)\n",
    "1. [Attention Mechanism](#attention)\n",
    "    - [What is it and Why do We Need it?](#attention_motivation)\n",
    "    - [Technical Details of Attention Mechanism](#attention_tech)\n",
    "    - [Other Types of Attention](#attention_other)\n",
    "    - [Implement Attention Mechanism in Keras](#attention_implement)\n",
    "1. [Transformer](#transformer)\n",
    "    - [What is the Transformer Architecture?](#transformer_intro)\n",
    "    - [Key Components of Transformer](#transformer_components)\n",
    "    - [Other Components of Transformer and its Implementation](#transformer_other)\n",
    "1. [Application Case: BERT](#bert)\n",
    "    - [What is BERT?](#bert_intro)\n",
    "    - [Use BERT](#bert_example)\n",
    "1. [Application Case: GPT](#gpt)\n",
    "1. [Additional Resources](#resource)"
   ]
  },
  {
   "cell_type": "markdown",
   "metadata": {},
   "source": [
    "# Setup <a name=\"setup\"></a>\n",
    "\n",
    "We will try out different models and architectures that you will learn in this notebook on a machine translation task, using the [Tab-delimited Bilingual Sentence Pairs](http://www.manythings.org/anki/) dataset. This dataset contains multiple pairs of corresponding sentences in two different languages. For all the demos below, I will specifically take the English-Spanish dataset (you can download it from Canvas). You are encouraged to try out other language pairs (though some languages may require special preprocessing steps). A lot of the code in this notebook is adapted from Tensorflow tutorial [Neural machine translation with attention](https://www.tensorflow.org/tutorials/text/nmt_with_attention).\n",
    "\n",
    "Before building any models, we need to complete a few pre-processing steps, including:\n",
    "1. Read in the dataset, parse each line, and store the corresponding sentences in English and Spanish into two numpy arrays;\n",
    "2. For each sentence, tokenize it and represent it as a sequence of integer indices (just like what we did in the text classification case)."
   ]
  },
  {
   "cell_type": "code",
   "execution_count": 1,
   "metadata": {},
   "outputs": [],
   "source": [
    "# Import necessary packages\n",
    "import numpy as np\n",
    "import tensorflow as tf\n",
    "from tensorflow import keras\n",
    "import re"
   ]
  },
  {
   "cell_type": "code",
   "execution_count": 2,
   "metadata": {},
   "outputs": [
    {
     "name": "stdout",
     "output_type": "stream",
     "text": [
      "['<start> Go . <end>' '<start> Go . <end>' '<start> Go . <end>' ...\n",
      " '<start> A carbon footprint is the amount of carbon dioxide pollution that we produce as a result of our activities . Some people try to reduce their carbon footprint because they are concerned about climate change . <end>'\n",
      " '<start> Since there are usually multiple websites on any given topic , I usually just click the back button when I arrive on any webpage that has pop-up advertising . I just go to the next page found by Google and hope for something less irritating . <end>'\n",
      " '<start> If you want to sound like a native speaker , you must be willing to practice saying the same sentence over and over in the same way that banjo players practice the same phrase over and over until they can play it correctly and at the desired tempo . <end>']\n",
      "\n",
      "['<start> Ve . <end>' '<start> Vete . <end>' '<start> Vaya . <end>' ...\n",
      " '<start> Una huella de carbono es la cantidad de contaminación de dióxido de carbono que producimos como producto de nuestras actividades . Algunas personas intentan reducir su huella de carbono porque están preocupados acerca del cambio climático . <end>'\n",
      " '<start> Como suele haber varias páginas web sobre cualquier tema , normalmente sólo le doy al botón de retroceso cuando entro en una página web que tiene anuncios en ventanas emergentes . Simplemente voy a la siguiente página encontrada por Google y espero encontrar algo menos irritante . <end>'\n",
      " '<start> Si quieres sonar como un hablante nativo , debes estar dispuesto a practicar diciendo la misma frase una y otra vez de la misma manera en que un músico de banjo practica el mismo fraseo una y otra vez hasta que lo puedan tocar correctamente y en el tiempo esperado . <end>']\n",
      "\n",
      "In total: 128084 pairs of sentences.\n"
     ]
    }
   ],
   "source": [
    "# Read in the dataset - note that we need to specify encoding=\"utf-8\" when the language contains non ascii words.\n",
    "sentences_english = []\n",
    "sentences_spanish = []\n",
    "for line in open('../datasets/spa.txt', 'r', encoding = 'utf-8'):\n",
    "    s_english, s_spanish, other = line.rstrip('\\n').split('\\t')\n",
    "    \n",
    "    # Before we store the English sentence, we need to do a few processing.\n",
    "    # 1. We don't want to just discard punctuations. To make sure tokenization works properly, let's add a space between each punctuation and the preceding word. E.g., \"Hi.\" -> \"Hi .\" This is done with regular expression (don't worry about it if you are not familiar with it).\n",
    "    # 2. For reasons that will become clear later, we need to add two special \"words\" to indicate the beginning and end of each sentence.\n",
    "    s_english = re.sub(r\"([?.!,])\", r\" \\1 \", s_english)\n",
    "    s_english = re.sub(r'[\" \"]+', \" \", s_english)\n",
    "    s_english = s_english.strip()\n",
    "    s_english = '<start> ' + s_english + ' <end>'\n",
    "    sentences_english.append(s_english)\n",
    "    \n",
    "    # Similarly, do the two steps for Spanish sentences.\n",
    "    s_spanish = re.sub(r\"([?.!,¡¿])\", r\" \\1 \", s_spanish)\n",
    "    s_spanish = re.sub(r'[\" \"]+', \" \", s_spanish)\n",
    "    s_spanish = s_spanish.strip()\n",
    "    s_spanish = '<start> ' + s_spanish + ' <end>'\n",
    "    sentences_spanish.append(s_spanish)   \n",
    "\n",
    "sentences_english = np.array(sentences_english)\n",
    "sentences_spanish = np.array(sentences_spanish)\n",
    "# print to check\n",
    "print(sentences_english)\n",
    "print()\n",
    "print(sentences_spanish)\n",
    "print()\n",
    "print('In total: ' + str(len(sentences_spanish)) + ' pairs of sentences.')\n",
    "\n",
    "# The original data is quite large, and may result in high memory usage and long training time. Let's take a sample of 15000\n",
    "idx = np.random.choice(list(range(len(sentences_spanish))), size = 15000, replace = False)\n",
    "sentences_english = sentences_english[idx]\n",
    "sentences_spanish = sentences_spanish[idx]"
   ]
  },
  {
   "cell_type": "code",
   "execution_count": 12,
   "metadata": {},
   "outputs": [],
   "source": [
    "# Text preprocessing - just like what we did for text classification\n",
    "# we need one vectorization layer for each language\n",
    "\n",
    "# For English, we want to lowercase, but don't want to strip punctuations.\n",
    "def lowercase_only(text):\n",
    "    return tf.strings.lower(text)\n",
    "\n",
    "vectorize_layer_english = keras.layers.experimental.preprocessing.TextVectorization(\n",
    "    max_tokens = None,\n",
    "    standardize = lowercase_only,\n",
    "    split = 'whitespace',\n",
    "    ngrams = None,\n",
    "    output_mode = 'int',\n",
    "    output_sequence_length = None\n",
    ")\n",
    "\n",
    "vectorize_layer_spanish = keras.layers.experimental.preprocessing.TextVectorization(\n",
    "    max_tokens = None,\n",
    "    standardize = lowercase_only,\n",
    "    split = 'whitespace',\n",
    "    ngrams = None,\n",
    "    output_mode = 'int',\n",
    "    output_sequence_length = None\n",
    ")"
   ]
  },
  {
   "cell_type": "code",
   "execution_count": 13,
   "metadata": {},
   "outputs": [
    {
     "name": "stdout",
     "output_type": "stream",
     "text": [
      "['', '[UNK]', '<start>', '<end>', '.', 'the', 'i', 'to', 'you', 'tom', 'a', '?', 'is', 'he', 'in', 'that', 'of', 'it', ',', 'was', 'do', 'have', 'my', 'me', 'this', 'for', 'she', \"don't\", 'are', 'what', 'his', 'on', 'we', 'mary', 'with', 'your', 'be', 'want', \"i'm\", 'not', 'and', 'like', 'at', 'know', 'him', 'can', 'go', 'her', 'has', 'as', 'there', 'time', 'did', 'will', 'had', 'very', 'how', \"it's\", 'all', 'they', 'about', 'think', \"didn't\", 'here', 'up', 'get', 'going', 'out', \"can't\", 'one', 'an', 'were', 'from', 'no', 'if', 'why', 'when', 'by', \"doesn't\", \"you're\", 'good', 'just', 'please', 'would', 'who', 'come', 'see', 'so', 'need', \"i'll\", 'been', \"i've\", 'more', 'help', 'could', 'work', 'take', 'than', 'tell', 'where', 'now', 'us', 'but', 'something', 'too', 'day', 'never', 'got', 'last', 'some', 'car', 'lot', '!', 'should', 'much', 'money', 'people', 'am', 'back', \"isn't\", 'home', 'our', 'said', 'told', 'say', 'off', 'really', 'went', 'only', 'thought', 'new', 'eat', 'any', 'today', \"that's\", 'long', 'right', 'still', \"let's\", 'french', 'night', \"he's\", 'made', 'book', 'look', 'anything', 'well', 'talk', 'three', 'old', 'two', 'make', 'let', 'nothing', \"there's\", 'love', \"tom's\", 'room', 'them', 'every', 'school', 'saw', 'left', 'house', 'does', 'always', 'before', 'job', 'put', 'over', 'many', 'little', 'down', 'buy', 'speak', 'must', 'better', 'man', \"what's\", 'way', 'tomorrow', \"i'd\", 'father', 'again', 'yesterday', \"won't\", 'may', 'dog', 'asked', 'wants', 'into', 'problem', 'came', 'wanted', 'leave', 'boston', 'give', \"we're\", 'these', 'next', 'everything', 'years', 'soon', 'play', 'happened', 'feel', 'stay', 'read', 'or', \"couldn't\", 'door', 'ask', 'keep', 'stop', 'other', 'find', 'doing', 'done', 'children', 'understand', 'after', 'ever', 'mother', 'happy', 'cold', 'friends', 'first', 'call', 'almost', 'thing', 'their', 'lost', 'heard', 'hear', 'took', 'gave', 'able', 'yet', 'wrong', \"they're\", 'seen', 'live', 'coffee', 'bought', 'looking', 'life', 'even', 'without', 'late', 'hope', 'hard', 'boy', 'best', 'wait', 'same', 'name', 'morning', 'week', 'sleep', 'seems', 'enough', 'english', 'believe', 'because', 'use', 'married', 'john', 'food', 'away', 'afraid', 'try', 'tired', 'things', 'talking', 'remember', \"haven't\", 'already', 'yourself', \"you'll\", 'happen', 'big', 'sure', 'sister', 'knew', 'kind', 'everyone', 'watch', 'truth', 'found', 'days', 'alone', 'year', \"wasn't\", 'used', 'teacher', 'often', 'knows', 'busy', 'beautiful', 'water', 'someone', 'friend', 'family', 'brother', 'both', 'while', 'which', 'open', 'monday', 'met', \"mary's\", 'drink', 'bus', \"we'll\", 'learn', 'few', 'bed', 'bad', 'anyone', 'turn', 'mind', 'might', 'looks', 'walk', 'waiting', 'true', 'train', 'rain', 'own', 'idea', 'getting', 'answer', 'young', 'wife', 'parents', 'everybody', 'easy', 'books', \"you've\", 'word', 'usually', 'plan', 'person', 'most', 'hate', 'died', \"aren't\", 'ago', 'working', 'wish', 'visit', 'those', 'place', 'likes', 'being', 'tried', 'tonight', 'ten', 'such', 'sorry', 'phone', 'once', 'meeting', 'letter', 'finished', 'drive', 'care', 'called', 'story', 'police', 'party', 'nice', 'looked', 'gone', 'each', 'coming', 'christmas', 'anymore', 'world', 'study', 'sit', 'office', 'mine', 'important', 'great', 'felt', 'write', 'table', 'swim', 'start', 'reading', 'hurt', 'hours', 'early', 'class', 'window', \"who's\", 'started', 'shoes', 'needs', 'movie', 'month', 'meet', 'lunch', 'fire', 'doctor', 'dinner', 'city', 'around', 'until', 'show', 'fun', 'child', 'cake', 'accident', 'trouble', 'times', 'ready', 'pay', 'having', 'girl', 'country', 'together', 'since', 'minutes', 'living', 'kill', 'hand', 'face', 'else', 'decided', 'another', 'weather', 'surprised', 'stupid', 'station', 'spent', 'small', \"shouldn't\", \"she's\", 'red', 'playing', 'myself', 'lives', 'goes', 'finish', 'favorite', 'end', 'ate', 'woman', \"we've\", 'trying', 'then', 'tennis', 'spend', 'sick', 'secret', 'present', 'picture', 'nobody', 'japanese', 'homework', 'himself', 'fish', 'clothes', 'cat', 'breakfast', 'behind', 'began', 'arrived', \"you'd\", \"wouldn't\", 'song', 'says', 'music', 'hungry', 'hospital', 'five', 'advice', 'won', 'turned', 'river', 'hair', 'dream', 'break', 'angry', 'tv', 'older', 'mean', 'matter', 'fast', 'difficult', 'different', 'dark', 'change', 'careful', 'against', 'afternoon', 'under', 'town', 'students', 'stayed', 'seem', 'saying', 'question', 'needed', 'near', 'longer', 'japan', 'interesting', 'forget', 'far', 'eyes', 'eating', 'bit', 'become', 'australia', 'uncle', 'trust', 'summer', 'rich', 'quite', 'quit', 'possible', 'paid', 'outside', 'milk', 'makes', 'hit', 'glasses', 'gets', 'close', 'broke', 'born', 'trip', 'student', 'sound', 'smoking', 'side', 'safe', 'run', 'ran', 'park', 'order', 'number', 'moment', 'men', 'making', 'library', 'later', 'killed', 'hurry', \"hasn't\", 'eaten', 'dogs', 'computer', 'changed', 'catch', 'yours', 'wine', 'white', 'watching', 'tree', 'taking', 'street', 'stand', 'son', 'quickly', 'part', 'news', 'lie', 'language', 'hot', 'fell', 'expensive', 'dangerous', 'cut', 'cup', 'business', 'building', 'bicycle', 'age', '2:30', 'wonder', 'whole', 'wake', 'thinking', 'tall', 'sometimes', 'shut', \"should've\", 'short', 'several', 'seemed', 'movies', 'large', 'kitchen', \"it'll\", 'invited', 'high', 'head', 'hat', 'hardly', 'hands', 'glad', 'game', 'canadian', 'camera', 'box', 'birthday', 'baby', 'along', 'works', 'tokyo', 'thank', 'tea', 'stopped', 'sitting', 'sing', 'sat', 'reason', 'played', 'plane', 'pictures', 'piano', 'others', 'light', 'least', 'hour', 'hotel', 'finally', 'expect', 'death', 'daughter', 'comes', 'chance', 'brought', 'boys', 'beach', 'waited', 'strange', 'spoke', 'solve', 'smoke', 'showed', 'shot', 'rest', 'paper', 'pain', 'opened', 'meat', 'maybe', 'less', 'key', 'hold', 'helped', \"he'd\", 'girlfriend', 'floor', 'experience', 'dollars', 'die', 'company', 'caught', 'cannot', 'bring', 'blue', 'became', 'agree', 'abandoned', 'worry', \"where's\", 'wearing', 'trees', 'thinks', 'sunday', 'studied', 'strong', 'ship', 'real', 'rather', 'questions', 'problems', 'pretty', 'moved', 'lived', 'kept', 'ice', 'full', 'fine', 'during', 'dress', 'cry', 'cook', 'clean', 'choice', 'cats', 'black', 'advised', 'writing', 'worth', 'wonderful', 'war', 'twice', 'touch', 'tie', 'through', 'snow', 'set', 'seat', 'prefer', 'move', 'mistake', 'missed', 'miss', 'minute', 'lucky', 'listen', 'known', 'knife', 'herself', 'guitar', 'driving', 'decision', 'closed', 'clear', 'broken', 'boyfriend', 'blame', 'between', 'begin', 'attention', 'arrive', 'worked', 'words', 'win', 'walked', 'voice', 'umbrella', 'travel', 'thirty', 'television', 'team', 'sugar', 'studying', 'six', 'running', 'return', 'probably', 'noise', 'languages', 'interested', 'impossible', 'husband', 'glass', 'foreign', 'feeling', 'explain', 'dead', 'cost', 'boss', 'asleep', 'alive', 'air', 'across', 'yes', 'women', 'weeks', 'weekend', 'wear', 'waste', 'vacation', 'traffic', 'taught', 'swimming', 'surprise', 'success', 'store', 'speaks', 'speaking', 'smile', 'seven', 'sense', 'scared', 'rules', 'ride', 'respect', 'promised', 'promise', 'past', 'opinion', \"o'clock\", 'novel', 'license', 'kids', 'keys', 'jacket', 'hiding', 'guy', 'green', 'fruit', 'free', 'forgot', 'foot', 'fishing', 'dictionary', 'danger', 'choose', 'apple', 'anybody', 'actually', 'worried', 'winter', 'whether', \"weren't\", 'weight', 'wash', 'usual', 'telephone', 'teach', 'second', 'sad', 'returned', 'restaurant', 'price', 'policeman', 'plans', 'pen', 'patient', 'pass', 'ok', 'nervous', 'months', 'message', 'means', 'liked', 'leaving', 'lake', 'information', 'hide', 'heart', 'health', 'harder', 'half', 'girls', 'front', 'follow', 'fix', 'figure', 'fat', 'excuse', 'exactly', 'enjoyed', 'either', 'eggs', 'drinking', 'desk', 'couple', 'cooking', 'completely', 'carefully', 'baseball', 'apologize', 'airport', '000', 'younger', 'written', \"we'd\", 'washed', 'wall', 'walking', 'till', 'thanks', 'test', 'takes', 'taken', 'suddenly', 'standing', 'sky', 'shirt', 'serious', 'sell', 'seeing', 'save', 'satisfied', 'salt', 'report', 'radio', 'proud', 'popular', 'point', 'player', 'passport', 'passed', 'painting', 'none', 'native', 'mad', 'lying', 'loves', 'london', 'locked', 'line', 'laughed', 'horse', \"he'll\", 'garden', 'fear', 'expected', 'enjoy', 'empty', 'cream', 'crazy', 'convince', 'concert', 'church', 'check', 'charge', 'caused', 'cards', 'bottle', 'bird', 'bank', 'arm', 'anywhere', 'america', 'address', 'ability', 'worse', 'woke', 'whose', 'watched', 'translate', 'toilet', \"today's\", 'ticket', 'though', 'terrible', 'telling', 'taxi', 'talked', 'sun', 'suitcase', 'stuck', 'stranger', 'stolen', 'stairs', 'sounds', 'somewhere', 'smell', 'smart', 'slept', 'shower', 'share', 'sent', 'send', 'salary', 'raised', 'raining', 'pretended', 'president', 'position', 'planning', 'peace', 'ought', 'noon', \"must've\", 'mistakes', 'machine', 'loved', 'listening', 'learned', 'lawyer', 'kiss', 'its', 'immediately', 'grew', 'grandfather', 'flute', 'fighting', 'fed', 'fault', 'famous', 'failed', 'europe', 'elevator', 'eight', 'drunk', 'delicious', 'deep', 'complaining', 'color', 'coat', 'cheese', 'chair', 'case', 'calm', 'brothers', 'bill', 'believes', 'beer', 'assumed', 'arrested', 'animals', 'afford', 'accept', 'wrote', 'whoever', 'whatever', 'warm', 'visited', 'village', 'uses', 'twelve', 'suicide', 'succeed', 'speech', 'special', 'speaker', 'somebody', 'soccer', 'smiled', 'slowly', 'sleepy', 'sleeping', 'singing', 'shall', 'seriously', 'road', 'refused', 'refrigerator', 'piece', 'picked', 'paris', 'paint', 'nurse', 'neither', 'necessary', 'low', 'listened', 'list', 'lied', 'liar', 'leg', 'law', 'lasted', 'kissed', 'jealous', 'island', 'inside', 'helps', 'helping', 'hates', 'happens', \"hadn't\", 'guys', 'guess', 'grass', 'grandmother', 'golf', 'gold', 'future', 'fresh', 'forward', 'forgive', 'flowers', 'fence', \"father's\", 'faster', 'ended', 'easily', 'dropped', \"driver's\", 'dreams', 'doubt', 'deeply', 'date', 'dance', 'dad', 'crying', 'courage', 'control', 'cash', 'carry', 'bridge', 'breath', 'bike', 'also', 'agreed', 'worst', 'welcome', 'wears', 'wallet', 'view', 'traveled', 'top', 'thousand', 'themselves', 'theater', 'teeth', 'tears', 'supposed', 'space', 'shopping', 'saturday', 'ring', 'rent', 'received', 'reached', 'rang', 'raise', 'rainy', 'push', 'pleased', 'orange', 'noticed', 'newspaper', 'natural', 'museum', 'moving', 'moon', 'midnight', 'loud', 'lots', 'lose', 'leaves', 'lay', 'laughing', 'jumped', 'juice', 'join', 'imagine', 'ill', 'hole', 'guilty', 'grow', 'funny', 'france', 'followed', 'feed', 'eye', 'explanation', 'explained', 'except', 'examination', 'evening', 'duty', 'driver', 'dressed', 'drank', 'doll', 'dirty', 'deal', 'considered', 'college', 'club', 'chosen', 'chose', 'cars', 'breathe', 'bother', 'bite', 'bigger', 'bet', 'belong', 'bear', 'ball', 'attended', 'attend', 'ashamed', 'animal', 'among', 'american', 'allow', 'abroad', '30', '3', '10', 'wore', 'woods', 'wondered', 'willing', 'wet', 'useful', 'tough', 'threw', 'taller', 'support', 'storm', 'stories', 'stood', 'stole', 'spring', 'sports', 'spoken', 'songs', 'solved', 'soldiers', 'ski', 'sisters', 'single', 'simple', 'silent', 'sign', 'shy', 'rule', 'reputation', 'relax', 'regret', 'realize', 'quiet', 'prices', 'prepared', 'poor', 'plays', 'pizza', 'pick', 'perhaps', 'perfect', 'oil', 'offer', 'october', 'numbers', 'novels', 'north', 'murder', 'mountain', \"mother's\", 'missing', 'middle', 'medicine', 'main', 'luck', 'lonely', 'likely', 'king', 'judge', 'jokes', 'joke', 'intelligent', 'instead', 'hundred', \"how's\", 'honest', 'hello', 'held', 'heavy', 'healthy', 'gun', 'graduated', 'gift', 'funeral', 'four', 'forced', 'fool', 'flight', 'finger', 'film', 'figured', 'fight', 'feels', 'favor', 'fact', 'extremely', 'excited', 'exam', 'enter', 'enemy', 'eats', 'earlier', 'drunken', 'drop', 'drinks', 'disease', 'difficulty', 'describe', 'dancing', 'curtain', 'crime', 'cover', 'countries', 'count', 'cool', 'committed', 'clock', 'chicken', 'castle', 'capital', 'calls', 'buying', 'bread', 'body', 'blew', 'belongs', 'behavior', 'beginning', 'beat', 'bathroom', 'bath', 'bag', 'aware', 'asking', 'appointment', 'apartment', 'actor', 'yourselves', 'yen', 'wood', 'wise', 'whenever', 'wedding', 'weapons', 'video', 'vegetables', 'upset', 'unfortunately', 'ugly', 'type', 'tied', 'throw', 'thief', 'teaches', 'tastes', 'supplies', 'suit', 'suffer', 'subway', 'stronger', 'straight', 'stick', 'staying', 'stars', 'star', 'spanish', 'sore', 'sofa', 'snowed', 'size', 'singer', 'shop', 'sentence', 'season', 'sang', 'rid', 'rice', 'rains', 'quick', 'puzzle', 'puppy', 'public', 'proposal', 'project', 'practice', 'political', 'pencil', 'page', 'owe', \"one's\", 'odd', 'nowhere', 'nose', 'normal', 'neighborhood', 'names', 'named', 'naive', 'mouth', 'mountains', 'mom', 'members', 'matters', 'map', 'lock', 'lights', 'lightning', 'lesson', 'legs', 'learning', 'keeps', 'ideas', 'hobby', 'hill', 'hidden', 'hanging', 'group', 'ground', 'genius', 'furniture', 'fortunately', 'football', 'fond', 'fingers', 'filled', 'fever', 'fall', 'fainted', 'extra', 'exhausted', \"everyone's\", 'entered', 'emergency', 'ears', 'dumb', 'drugs', 'difference', 'deserve', 'depends', 'decide', 'cute', 'crowd', 'cousins', 'course', 'copy', 'cookies', 'contact', 'condition', 'comfortable', 'closet', 'climb', 'clearly', 'claims', 'changes', 'cause', 'brave', 'borrow', 'boring', 'boat', 'bedroom', 'barely', 'backyard', 'awake', 'assume', 'article', 'art', 'argue', 'area', 'appreciate', 'apples', 'appeared', 'anyway', 'allergic', 'alarm', 'ahead', 'admire', 'add', 'acting', 'accustomed', 'accidents', '20', 'zoo', 'york', 'yellow', 'writer', 'workers', 'windows', 'wild', 'wasted', 'washing', 'walks', 'useless', 'upstairs', 'unpleasant', 'unlikely', 'unless', 'university', 'united', 'understood', \"uncle's\", 'treated', 'toward', 'tongue', 'throat', \"they'll\", 'talks', 'talent', 'sweet', 'sweater', 'suppose', 'supermarket', 'sundays', 'suggested', 'subject', 'stuff', 'strength', 'stone', 'stealing', 'stamps', 'spell', 'soup', 'sort', 'sooner', 'solving', 'sold', 'socks', 'social', 'snakes', 'signed', 'sight', 'shoulder', 'shooting', 'seldom', 'screamed', 'runs', 'rope', 'rock', 'risk', 'request', 'remained', 'released', 'recognized', 'rate', 'rained', 'purpose', 'protect', 'program', 'prize', 'private', 'prison', 'prevent', 'prepare', 'pray', 'post', 'possibility', 'plenty', 'pleasant', 'plate', 'personal', 'permission', 'patience', 'passengers', 'pair', 'painted', 'outfit', 'osaka', 'obey', 'nonsense', 'nine', 'nap', 'mood', 'mexico', 'mathematics', 'math', 'marry', 'market', 'manage', 'mail', 'magazine', 'located', 'lend', 'lazy', 'laugh', 'latest', 'land', 'laid', 'knocked', 'kidding', 'kid', 'jury', 'junk', 'june', 'iron', 'involved', 'invite', 'introduced', 'improved', 'improve', 'illness', 'illegal', 'ignore', 'hung', 'human', 'horses', 'hook', 'hid', 'hearing', 'harvard', 'happening', 'handed', 'grown', 'grateful', 'god', 'given', 'gas', 'fully', 'flower', 'fired', 'fifty', 'field', 'feet', 'falling', 'fallen', 'faith', 'fairly', 'failure', 'explosion', 'eventually', 'escape', 'enemies', 'employees', 'easier', 'earth', 'dying', 'drove', 'dreaming', 'drawer', 'divorced', 'distance', 'dishes', 'discovered', 'deny', 'denied', 'delayed', 'dealing', 'damage', 'cross', 'cried', 'cousin', 'corner', 'cooked', 'convinced', 'consider', 'concerned', 'complained', 'colors', 'collection', 'cloth', 'closest', 'cleaned', 'claimed', 'chinese', 'china', 'chat', 'certainly', 'certain', 'century', 'cd', 'card', 'captain', 'cancer', 'canada', 'c', 'bush', 'built', 'boots', 'blood', 'beyond', 'bell', 'believed', 'begins', 'baked', 'autumn', 'attitude', 'army', 'arms', 'argument', 'argued', 'answered', 'airplane', 'actress', 'accused', 'account', 'above', '5', 'wounded', \"would've\", 'wins', 'windy', 'whichever', 'wherever', 'wheat', 'weird', 'website', 'walls', 'vote', 'volume', 'violent', 'violence', 'vain', 'urgent', 'upside', 'twenty', 'tune', 'trousers', 'treatment', 'trapped', 'towel', 'totally', 'thousands', 'thirsty', 'thin', 'text', 'temperature', 'teams', 'teachers', 'tallest', 'tail', 'system', 'sweating', 'survived', 'supper', 'suitable', 'style', 'step', 'states', 'starts', 'sport', 'south', 'soldier', 'smiling', 'slave', 'skirt', 'skin', 'situation', \"sister's\", 'similar', 'silence', 'shorter', 'shook', 'shoe', 'ships', 'sheets', 'sharp', 'sewing', 'selling', 'security', 'sea', 'scissors', 'scenery', 'saving', 'saved', 'sale', 'rude', 'row', 'ridiculous', 'result', 'responsible', 'resembles', 'rescue', 'repeat', 'remembered', 'remarkable', 'relationship', 'refuse', 'recovered', 'recently', 'receive', 'reasonable', 'race', 'pulled', 'proof', 'products', 'pretend', 'presents', 'praised', 'potatoes', 'postponed', 'popcorn', 'politician', 'poem', 'pocket', 'pleasure', 'places', 'pieces', 'pie', 'photos', 'percent', 'per', 'particularly', 'part-time', 'parking', 'palace', 'overcoat', 'ordered', 'operate', 'online', 'okay', 'oh', 'obviously', 'nowadays', 'notice', 'notebook', 'normally', 'noisy', 'nerves', 'nearly', 'naked', 'mt', 'mistook', 'mistaken', 'mischievous', 'miles', 'mile', 'mess', 'menu', 'memory', 'meant', 'meaning', 'meal', 'mayor', 'match', 'marriage', 'mankind', 'lovely', 'losing', 'lies', 'lecture', 'lady', 'knees', \"john's\", 'jewels', 'jazz', 'jackson', 'italy', 'issue', 'invitation', 'invented', 'intersection', 'internet', 'interest', 'insensitive', 'innocent', 'india', 'increased', 'incident', 'improving', 'impressed', 'idiot', 'identify', 'hurts', 'huge', 'hug', 'however', 'houses', 'hopes', 'holiday', 'hire', 'highly', 'headlights', 'headache', 'hang', 'handsome', 'habit', 'guests', 'gotten', 'goose', 'goal', 'gives', 'gate', 'games', 'further', 'fuji', 'friday', 'forgotten', 'foreigners', 'forehead', 'foolish', 'fly', 'flashlight', 'fixed', 'fits', 'fit', 'final', 'fellow', 'feeding', 'farm', 'false', 'factory', 'express', 'expert', 'exercise', 'excellent', 'email', 'eleven', 'eighteen', 'earthquake', 'due', 'drives', 'drawing', 'draw', 'doors', 'divorce', 'discussion', 'disappeared', 'diary', 'devoted', 'details', 'deserves', 'depressed', 'danced', 'customs', 'curious', 'credit', 'coward', 'covered', 'court', 'counting', \"could've\", 'cough', 'conversation', 'conscious', 'confusing', 'concentrate', 'conceited', 'complete', 'common', 'clothing', 'climbed', 'clever', 'classroom', 'classes', 'citizen', 'circumstances', 'chocolate', 'chemistry', 'cheaper', 'cheap', 'charged', 'changing', 'center', 'carrying', 'canceled', 'cancel', 'calling', 'button', 'butter', 'burning', 'bullet', 'bright', 'brief', 'bowl', 'bottom', 'borrowed', 'bookstore', 'bomb', 'bleeding', 'bitter', 'biologist', 'betrayed', 'bench', 'becoming', 'beauty', 'battery', 'basketball', 'bar', 'babbling', 'avoid', 'authority', 'aunt', 'arrest', 'approve', 'amount', 'ambulance', 'amazing', 'although', 'aim', 'adopted', 'admitted', 'action', 'act', 'accepted', 'absolutely', 'absent', 'absence', '40', '2', 'yelling', 'yard', 'worthy', 'worrying', 'worries', 'within', 'wishes', 'whistle', 'whispered', 'wheel', \"what'll\", 'west', 'weeds', 'weapon', 'wealthy', 'wealth', 'weakness', 'warn', 'voted', 'volunteered', 'vision', 'vegetarians', 'vase', 'vanished', 'valley', 'using', 'unusual', 'uniforms', 'unfortunate', 'typical', 'twin', 'truck', 'tries', 'trick', 'treaty', 'treasure', 'trash', 'trap', 'translator', 'tower', 'tomatoes', 'tip', 'tight', 'thrilled', 'thorough', \"they've\", 'theirs', 'thanked', 'terrorists', 'terrific', 'tend', 'temptation', 'temper', 'taste', 'task', 'tank', 'tag', 'swept', 'swam', 'suspect', 'sushi', 'survive', 'surrounded', 'surgery', 'super', 'sung', 'suggesting', 'succeeded', 'studies', 'strangers', 'strangely', 'stove', 'stops', 'stomachache', 'starting', 'staring', 'stared', 'stamp', 'stabbed', 'squeeze', 'spy', 'spread', 'splendid', 'spite', 'spiders', 'spends', 'spending', 'sour', 'soul', \"son's\", \"someone's\", 'snowing', 'smaller', 'slow', 'slightly', 'slight', 'sleeps', 'slammed', 'silver', 'sides', 'shown', \"she'll\", \"she'd\", 'shaking', 'seventy', 'service', 'serves', 'sensitive', 'sells', 'selfish', 'sees', 'secrets', 'searched', 'screwdriver', 'scream', 'scotland', 'science', 'schools', 'scene', 'saxophone', 'santa', 'sandwich', 'salad', 'sailing', 'russia', 'ruin', 'rubbed', 'role', 'rocks', 'ringing', 'rights', 'riding', 'revenge', 'results', 'reply', 'replace', 'repaired', 'removed', 'remind', 'rely', 'relatives', 'related', 'regretted', 'refugees', 'reform', 'reconsider', 'recent', 'realized', 'reach', 'rarely', 'rare', 'racial', 'quietly', 'puts', 'punished', 'pulling', 'pull', 'provide', 'protest', 'properly', 'promising', 'progress', 'prisoner', 'princess', 'prince', 'prevented', 'practicing', 'power', 'poured', 'postpone', 'positive', 'pond', 'politicians', 'polite', 'policy', 'pole', 'pointed', 'planned', 'planet', 'pity', 'pipe', 'picnic', 'photo', 'phoned', 'perfectly', \"people's\", 'pencils', 'peanuts', 'pays', 'paying', 'path', 'particular', 'papers', 'owns', 'owls', 'owed', 'overslept', 'oven', 'outstanding', 'ours', 'original', 'optimistic', 'onto', 'ones', 'oldest', 'offered', 'observe', 'nor', 'neighbors', 'neighbor', 'nation', 'mutual', 'murdered', 'mouse', 'moral', 'model', 'mobile', 'mission', 'messages', 'meals', 'masterpiece', 'mark', 'manager', 'managed', \"man's\", 'makeup', 'magazines', 'luxury', 'loss', 'longest', 'lion', 'lift', 'level', 'lent', 'lead', 'latin', 'laptop', 'ladder', 'lacks', 'lack', 'labor', 'knowledge', 'knee', 'kissing', 'kicked', 'jumping', 'judging', 'joy', 'jogging', 'jigsaw', 'jail', 'interrupt', 'intentions', 'insurance', 'insisted', 'insane', 'innocence', 'injured', 'individual', 'including', 'importance', 'impatient', 'imagination', 'ignorance', 'hurting', 'hundreds', 'humor', 'humans', 'housesitting', 'honor', 'holding', 'history', 'hi', 'hey', \"here's\", 'heights', 'heavily', 'heater', 'heading', 'harvest', 'harm', 'handwriting', 'handkerchiefs', 'handbag', 'hammer', 'halloween', 'hall', 'guns', 'growth', 'gray', 'government', 'goodbye', 'giving', 'germany', 'gentleman', 'gathered', 'garbage', 'gambling', 'gain', 'friendly', 'fought', 'fortune', 'forgetful', 'forever', 'forest', 'following', 'flush', 'flour', 'flat', 'flag', 'feelings', 'feeds', 'fate', 'fashion', 'families', 'fake', 'fair', 'fail', 'experts', 'expenses', 'expecting', 'exist', 'exciting', 'exchanged', 'evidence', 'event', 'escaping', 'escaped', 'environment', 'envelope', 'entitled', 'entire', 'enormous', 'enjoying', 'england', 'engine', 'energy', 'encouraged', 'encourage', 'embassy', 'embarrassing', 'electricity', 'elderly', 'effect', 'education', 'economy', 'ease', 'earned', 'drug', 'dreamed', 'dozen', 'doubts', 'double', 'doorbell', 'dolphins', 'document', 'doctors', 'divided', 'disturbing', 'distinguish', 'disneyland', 'discuss', 'discovery', 'disappointed', 'direction', 'digging', 'diet', 'diamond', 'destroyed', 'despite', 'despises', 'desperate', 'deserted', 'department', 'definitely', 'defend', 'deceitful', \"daughter's\", 'dating', 'cuts', 'curiosity', 'culture', 'crossing', 'crossed', 'crash', 'couch', 'cottage', 'costs', 'correct', 'cops', 'continued', 'contest', 'consists', 'confused', 'confident', 'confidence', 'conduct', 'computers', 'completed', 'compared', 'communicate', 'collecting', 'coin', 'coach', 'cloud', 'climate', 'claus', 'classmates', 'cheek', 'cheating', 'charity', 'chances', 'carrots', 'carelessness', 'career', 'capable', 'cane', 'cakes', 'cage', 'cab', 'bushes', 'burns', 'burned', 'burglar', 'bumped', 'brush', 'briefcase', 'breeze', 'breaking', 'brazil', 'bowed', 'border', 'bluntly', 'blonde', 'blind', 'birds', 'biggest', 'begun', 'barking', 'banged', 'bald', 'baggage', 'baffled', 'baboon', 'awoke', 'awful', 'awesome', 'available', 'automobile', 'author', 'attic', 'attacked', 'attack', 'astronaut', 'areas', 'approximately', 'applied', 'appetite', 'appears', 'appearance', 'apologized', 'anxious', 'allowed', 'aliens', 'alcohol', 'album', 'airmail', 'advance', 'acts', 'active', 'acted', 'according', 'accidentally', 'absolute', 'abilities', '8', '6', '50', '18', '150', 'zealand', 'yogurt', 'yell', 'yacht', 'writes', 'wounds', 'wound', 'worn', 'wooden', 'wondering', \"woman's\", 'wished', 'wiser', 'winning', 'wind', 'widely', 'wide', \"who'll\", 'whistling', \"what're\", 'weighed', 'weak', 'ways', 'waved', 'wasting', 'washington', 'wars', 'warrior', 'warning', 'warmer', 'waitress', 'waiter', 'wages', 'wage', 'voyage', 'volunteer', 'volcano', 'vitamin', 'visitors', 'virus', 'veterinarian', 'version', 'verge', 'verdict', 'vegetarian', 'vanilla', 'vacant', 'utter', 'urban', 'upon', 'untied', 'unlock', 'unknown', 'universe', 'unimportant', 'unhappy', 'unfair', 'underestimate', 'unattractive', 'unable', 'u-turn', 'twins', 'twenty-five', 'turtles', 'turns', 'turkey', 'tunnel', 'tuesday', 'trusted', 'troops', 'trips', 'tripped', 'trim', 'trial', 'treats', 'treat', 'traveling', 'travelers', 'translation', 'translated', 'toy', 'tourists', 'touched', 'tore', 'tomboy', \"tom'll\", 'tolerant', 'toes', 'title', 'tiny', 'tin', 'tightly', 'tighten', 'tiger', 'tickets', 'threatening', 'thirteen', 'thick', 'theft', 'terrified', 'terms', 'tents', 'tempted', 'temporary', 'teenagers', 'technology', 'teased', 'taxes', 'tasted', 'target', 'tame', 'talkative', 't-shirt', 'sympathy', 'symbol', 'sworn', 'swiss', 'swimmer', 'swamped', 'suspicious', 'suspected', \"suspect's\", 'survivors', 'surrender', 'surprises', 'surgeon', 'sunset', 'sunny', 'sunlight', 'summit', 'suits', 'suitcases', 'suggestions', 'suggestion', 'suggest', 'suffered', 'sued', 'sudden', 'stubborn', 'struck', 'strike', 'streets', 'stools', 'stock', 'stingy', 'stew', 'steal', 'statue', 'state', 'stage', 'squeaking', 'spreading', 'spouse', 'spot', 'spilled', 'spider', 'specific', 'spaghetti', 'spade', 'sons', \"something's\", 'someday', 'solid', 'software', 'soft', 'society', 'soaked', 'snows', 'snoring', 'snake', 'slippery', 'slimy', 'slap', 'skip', 'skinny', 'skating', 'skate', 'singapore', 'silk', 'signs', 'significantly', 'showers', 'shouting', 'shortly', 'shoot', 'shoelaces', 'shocked', 'shock', 'shirts', 'shelter', 'shelf', 'shape', 'shallow', 'shake', 'shadow', 'shade', 'settled', 'settle', 'serve', 'separated', 'sentences', 'sensible', 'sending', 'semester', 'selena', 'seized', 'secretly', 'seconds', 'scratched', 'scratch', 'scolding', 'scolded', 'scientists', 'scientist', 'scheduled', 'scary', 'sank', 'sandwiches', 'sand', 'salesman', 'salaries', 'sake', 'safely', 'sacrifice', 'russian', 'ruled', 'royal', 'routine', 'rotten', 'roses', 'roosevelt', 'rooms', 'roof', 'rode', 'robot', 'robbery', 'robbed', 'risky', 'risked', 'rising', 'rinsed', 'ribbon', 'reward', 'revealed', 'resulted', 'restless', 'rested', 'responding', 'resigned', 'research', 'requires', 'require', 'repair', 'remove', 'reminds', 'remark', 'remains', 'religious', 'relieved', 'relief', 'relaxed', 'relatively', 'rejected', 'refrain', 'recover', 'reckon', 'recipe', 'reasons', 'reality', 'reads', 'raw', 'rates', 'rash', 'racket', 'rabbit', 'queen', 'quarter', 'quarrel', 'qualities', 'putting', 'pushed', 'punishment', 'punched', 'psyched', 'provided', 'proved', 'prove', 'protection', 'proposed', 'property', 'pronounce', 'promotion', 'professional', 'product', 'process', 'proceed', 'prizes', 'prisoners', 'principal', 'priest', 'pressure', 'pressed', 'press', 'pregnant', 'preferred', 'practical', 'powerful', 'pouring', 'potato', 'posted', 'possibly', 'portugal', 'pool', 'pony', 'politics', 'policies', 'poker', 'poisonous', 'pockets', 'pluto', 'plus', 'plug', 'plucked', 'pluck', 'playful', 'planting', 'planted', 'plant', 'planes', 'pioneer', 'pillow', 'picking', 'physics', 'photograph', 'personality', 'permitted', 'period', 'pepper', 'pens', 'peel', 'peaceful', 'pathetic', 'password', 'passionate', 'passing', 'parties', 'participate', \"parents'\", \"parent's\", 'pants', 'pancakes', 'palm', 'pajamas', 'painful', 'package', 'pace', 'oxygen', 'owning', 'owned', 'ourselves', 'organized', 'oranges', 'options', 'opposite', 'opposed', 'opportunity', 'operation', 'opening', 'oneself', 'ocean', 'occur', 'occupied', 'occasion', 'obsessed', 'objects', 'objective', 'object', 'oath', 'oak', 'nuts', 'nuclear', 'novelist', 'noticing', 'notes', 'non-native', 'nodded', 'nod', \"nobody's\", 'nixon', 'ninety-five', 'newspapers', 'negotiation', 'negative', 'necklace', 'necessity', 'necessarily', 'nearest', 'nearby', 'national', 'nail', 'mysteries', 'musician', 'musical', 'museums', 'murderer', 'muddy', 'mud', 'motorcycle', 'mosquito', 'monkeys', 'mohammed', 'modern', 'mixed', 'mist', 'misleading', 'mirror', 'minister', 'mining', 'million', 'microwave', 'mexican', 'meters', 'melting', 'medal', 'measure', 'mass', 'march', 'mammal', 'mall', 'major', 'mailbox', 'mahjong', 'm', 'lyrics', 'lung', 'luggage', 'loudly', 'louder', 'lottery', 'loose', 'logic', 'local', 'loan', 'lit', 'lips', 'lip', 'lines', 'lid', 'licorice', 'letters', 'legend', 'leftovers', 'led', 'learns', 'leading', 'leader', 'lays', 'lawn', 'largest', 'larger', 'kyoto', 'korean', 'korea', 'knowing', 'kilometers', 'killing', 'kick', 'journalist', 'joking', 'joined', 'jobs', 'jeans', \"japan's\", 'italian', 'irritating', 'irritated', 'irrelevant', 'ironing', 'invention', 'invalid', 'introduce', 'intoxicated', 'interrogated', 'interpreted', 'international', 'interests', 'intended', 'intend', 'intelligence', 'instrument', 'inspiration', 'infected', 'independent', 'incorrect', 'incompetent', 'income', 'incapable', 'immoral', 'immediate', 'ii', 'ignored', 'id', 'hydrogen', 'hunting', 'hunch', 'hotter', 'hotels', 'horror', 'hoping', 'hoped', 'honors', 'honey', 'honesty', 'homeless', 'hollywood', 'holds', 'hesitate', 'hero', 'helmet', 'heavier', 'heat', 'headed', 'hawaii', 'hatred', 'hated', 'hasty', 'harp', 'happiness', 'handle', 'halfway', 'haiti', 'haircut', 'gym', 'gum', 'guesses', 'guard', 'growing', 'groups', 'grip', 'greeted', 'greek', 'greatly', 'grandparents', 'grades', 'grabbed', 'grab', 'goods', 'gomez', 'golden', 'goat', 'gloves', 'globe', 'give-away', 'ghosts', 'ghost', 'german', 'generation', 'generally', 'generalizations', 'gazed', 'garage', 'gained', 'furious', 'frozen', 'fridge', 'freight', 'freedom', 'frankly', 'fractured', 'formed', 'form', 'fork', 'forgiven', 'foreigner', 'forecast', 'ford', 'force', 'fooled', 'foods', 'folded', 'focused', 'flying', 'fluent', 'floors', 'flood', 'floating', 'flew', 'flea', 'fist', 'firm', 'fireplace', 'finishing', 'fined', 'finding', 'fewer', 'fbi', 'faucet', 'fascinating', 'farmers', 'farewell', 'fans', 'familiar', 'falls', 'facts', 'faces', 'facebook', 'expressed', 'explorers', 'explored', 'experiment', 'expectations', 'exit', 'executed', 'exams', 'example', 'everywhere', \"everybody's\", 'eve', 'evacuate', 'established', 'essay', 'especially', 'erased', 'erase', 'equals', 'entrance', 'engineer', 'employee', 'emotions', 'elephant', 'elements', 'electrons', 'electrical', 'elected', 'elect', 'elbow', 'egg', 'efforts', 'effort', 'dyed', 'dumped', 'duck', 'dry', 'drowning', 'drivers', 'driven', 'dresses', 'dreadful', 'drained', 'downstairs', 'doubtful', 'dope', 'donated', 'dolphin', 'dollar', 'documents', \"doctor's\", 'disturbed', 'distant', 'dismissed', 'dislikes', 'dish', 'disgusts', 'disgusted', 'disguise', 'discrimination', 'discover', 'disappointment', 'disappointing', 'disappoint', 'directed', 'dim', 'diligent', 'differ', 'dialed', 'devastated', 'determined', 'destiny', 'designed', 'deserved', 'description', 'departure', 'denying', 'dentist', 'democracy', 'demands', 'demanding', 'demanded', 'delete', 'delegates', 'delay', 'degrees', 'defended', 'defeat', 'decisions', 'decent', 'deceived', 'deceive', 'debts', 'debt', 'debated', 'deals', 'deaf', 'data', 'dare', 'dairy', 'customers', 'curtains', 'current', 'cubes', 'crush', 'crops', 'criticizing', 'criminals', 'crimes', 'cricket', 'created', 'crawled', 'crashed', 'cranky', 'cow', 'couples', 'counts', 'correctly', 'cop', 'cooks', 'cookie', 'controls', 'contract', 'contents', 'contagious', 'constructed', 'constant', 'consciousness', 'confess', 'conference', 'conclusion', 'concerts', 'concerns', 'composition', 'complains', 'complain', 'compass', 'comet', 'columbus', 'collided', 'collar', 'colder', 'coins', 'coincidence', 'cockroaches', 'coal', 'cloudy', 'clouds', 'closing', 'closer', 'closely', 'climbing', 'classical', 'claim', 'cities', 'circus', 'circle', 'cigar', 'christians', 'chores', 'choosing', 'choices', 'chew', 'chest', 'checked', 'cheated', 'characters', 'character', 'channels', 'chairs', 'cent', 'cell', 'celebrating', 'ceiling', 'carpet', 'candy', 'candle', 'camping', 'campaign', 'camels', 'businessman', 'buses', 'burst', 'bunk', 'build', 'bug', 'bucket', 'brushing', 'brushed', 'brown', 'brother-in-law', 'brings', 'brilliant', 'brand', 'branch', 'brake', 'boyfriends', 'bored', 'bore', 'boiling', 'boiled', 'boarded', 'board', 'blown', 'blocked', 'blackboards', 'bitten', 'bible', 'besides', 'berlin', 'belt', 'belgium', 'beings', 'behave', 'beg', 'bee', 'becomes', 'beans', 'bass', 'basket', 'based', 'bark', 'barbershop', 'bananas', 'balanced', 'balance', 'bake', 'badly', 'backup', \"baby's\", 'autopsy', 'automatically', 'audience', 'attractive', 'attempts', 'attempting', 'attempt', 'astute', 'astonished', 'assured', 'assure', 'associate', 'assistant', 'assigned', 'aspirin', 'aside', 'artist', 'arrow', 'arriving', 'arrives', 'arrival', 'arrests', 'armed', 'arithmetic', 'arguing', 'appropriate', 'approached', 'apply', 'appearances', 'appear', 'apparently', 'apology', 'apart', 'anytime', 'ants', 'antique', 'annoying', 'announced', 'ancient', 'americans', 'ambassador', 'allies', 'alike', 'alice', 'alert', 'agriculture', 'agrees', 'aggressive', 'agent', 'afterwards', 'africa', 'advise', 'advantage', 'adults', 'adopt', 'admit', 'addressed', 'addicted', 'adapt', 'accusation', 'accordion', 'accompany', 'acceptable', 'accent', 'abuses', 'abuse', 'aboard', 'abducted', 'abandon', '9', '22', '1960', '1939', '1933', '17th', '13', '12', '100', '1', 'zurich', 'zipper', 'zealous', 'youngest', 'yokohama', 'yields', 'yells', 'yeast', 'year-old', \"year's\", 'yawning', 'yawn', 'yards', 'yale', 'writers', 'wrist', 'wripple', 'wrestler', 'wraps', 'wrap', 'wow', 'worships', 'world:', 'worker', 'workaholics', 'woolen', \"wonder's\", 'wombats', 'wolves', 'wolf', 'woken', 'wives', 'witness', 'withholding', 'withdrew', 'withdrawn', 'withdraw', 'wisdom', 'wiring', 'wires', 'wiped', 'wintertime', 'wings', 'wildfire', \"wife's\", 'widow', \"why's\", 'whistled', 'whisky', 'whip', \"where're\", 'whammy', 'whale', 'western', 'well-known', 'well-dressed', 'well-designed', 'welcomed', 'weighs', 'weekdays', 'wedge', 'web', \"weather's\", 'weaker', 'weakening', 'waves', \"water's\", 'watches', 'warts', 'warship', 'warped', 'warnings', 'warned', 'warmly', 'warming', 'wanna', 'waking', 'wakes', 'waist', 'wagging', 'wagged', 'waffles', 'vulnerable', 'vulgar', 'vouch', 'voting', 'volunteers', 'volleyball', 'voices', 'vocation', 'vocabulary', 'visits', 'visiting', 'visibly', 'visible', 'visas', 'visa', 'virtue', 'violently', 'villagers', 'views', 'viewed', 'vienna', 'videos', 'victims', 'victim', 'vessel', 'ventured', 'various', 'variables', 'variable', 'vaporizes', 'van', 'vampire', 'valve', 'value', 'vague', 'vaccination', 'utmost', 'ussr', 'username', 'usb', 'usa', 'urged', 'upsetting', 'updates', 'update', 'unzipped', 'unveiling', 'unusually', 'untidy', 'unsure', 'unsuccessful', 'unsociable', 'unsatisfied', 'unrepentant', 'unreliable', 'unreal', 'unplugging', 'unpaid', 'unnecessary', 'unnatural', 'unmarried', 'unlucky', 'unlocked', 'unit', 'union', 'uninhabited', 'unimaginable', 'uniform', 'unicycle', 'unhealthy', 'unhappiness', 'unforgivable', 'unfit', 'unfinished', 'unexpectedly', 'unemployment', 'unemployed', 'uneasy', 'uneasily', 'unearthly', 'undressing', 'undressed', 'undone', 'undo', 'underwater', 'understands', 'understanding', 'underneath', 'undergo', 'underestimated', 'unconscious', 'uncomfortable', 'unclear', 'unclaimed', 'unbelievably', 'unbearable', 'unaware', 'unattended', 'umbrellas', 'umbrella;', 'ugliest', 'ugh', 'ufos', 'typos', 'typist', 'typing', 'typhoon', 'typewriters', 'types', 'two-party', 'two-faced', 'twitter', 'twenty-one', 'twentieth', 'twain', 'tuxedo', 'turning', 'tuna', 'trusts', 'trunk', 'trotted', 'trophy', 'trimmed', 'triggered', 'trigger', 'trifles', 'trifle', 'tricks', 'triathlon', 'trends', 'trench', 'tremble', 'treatments', 'treasures', 'travels', 'trashed', 'transportation', 'transmit', 'translators', 'translations', 'translating', 'transferred', 'traitor', 'trains', 'trained', 'tragedy', 'tractors', 'tractor', 'trace', \"toyota's\", 'toyota', 'towels', 'tortured', 'topic', 'toothpick', 'toothpaste', 'toothache', 'tooth', 'tool', \"tomorrow's\", 'token', 'tobacco', 'toaster', 'titanic', 'tires', 'tire', 'tips', 'timid', \"time's\", 'tigers', 'tidy', 'tide', 'tickles', 'ticked', 'thunder', 'thumb', 'thrown', 'throughout', 'throne', 'threshold', 'threes', 'three-day', 'threatened', 'threaten', 'thread', 'thoughts', 'thoughtful', 'thomas', \"this'll\", 'thirty-six', 'thirty-five', 'thirties', 'third', 'thinner', 'thieves', \"they'd\", 'thermometer', \"there're\", \"that'll\", 'thai', 'textbooks', 'texas', 'testified', 'terrorism', 'terror', 'terribly', 'termites', 'term', 'tentacles', 'tense', 'tends', 'tempting', 'temples', 'temple', \"temperature's\", 'tells', 'telescope', 'telephoned', 'telegram', 'teens', 'technical', 'teasing', 'tear', 'teaching', \"teacher's\", 'tax', 'tasty', 'tape', 'tango', 'tangerines', 'talker', 'talented', 'tailor', 'tactless', 'tables', 'syrup', 'symphony', 'swore', 'swordfish', 'switched', 'switch', 'swimsuit', 'swims', 'swimmers', 'swedish', 'sweat', 'swear', 'swallowed', 'swallow', 'suspicions', 'suspicion', 'surviving', 'surrounding', 'surrogate', 'surrendered', 'surpasses', 'surgical', 'surged', 'surfing', 'surfboard', 'surf', 'supremely', 'supportive', 'supporters', 'supported', 'supplied', 'superintendent', 'sunscreen', 'sunrise', 'sunglasses', 'sunburned', 'sunburn', 'sunbathing', 'sumo', 'summoned', 'sum', 'sulfa', 'suited', 'suffocated', 'suffering', 'suez', 'suckers', 'successor', 'successive', 'successful', 'subtitled', 'subscribe', 'subsaharan', 'submitted', 'submit', 'submarines', 'stuttering', 'stunning', 'stung', 'stuffed', 'struggled', 'struggle', 'structure', 'strongly', 'strong-willed', 'strolled', 'string', 'strikes', \"striker's\", 'strict', 'stretch', 'stressed', 'stress', 'strengthens', 'stream', 'strategy', 'strangled', 'stranded', 'straightened', 'stool', 'stones', 'stomped', 'stomach', 'stocks', 'stocking', 'stitch', 'stirred', 'stinky', 'stiflingly', 'stiffness', 'stiff', 'stickshift', 'stevie', 'stern', 'stereotypes', 'stepping', 'steep', 'steak', 'steady', 'stays', 'status', 'statistics', 'stations', 'starving', 'startled', 'stands', 'standards', 'stalling', 'stalled', 'stakes', 'stake', 'stairway', 'stain', 'squeezed', 'squeaked', 'squashed', 'square', 'squad', 'spreads', 'spraying', 'split', 'splinter', 'splashed', 'spitting', 'spin-offs', 'spin', 'spilt', 'spill', 'spicy', 'spelling', 'spelled', 'speed', 'speeches', 'speculating', 'specify', 'species', 'speakers', 'sparks', 'span', 'spain', 'sowed', 'sow', 'southeastern', 'sources', 'sounded', 'sought', 'sorrow', 'sophisticated', \"somebody's\", 'solution', 'sole', 'solar', 'soil', 'softly', 'soda', 'sobbing', 'so-called', 'snuggled', 'snowy', 'snowman', 'snore', 'sneezing', 'sneezed', 'sneak', 'smoothly', 'smoothed', \"smoking's\", 'smith', 'smirking', 'smirk', 'smells', 'smelled', 'smashed', 'smallest', 'slumped', 'slower', 'slit', 'slipped', 'slip', 'slightest', 'slid', 'slices', 'sleeves', 'slaves', 'slapped', 'slack', 'skylight', 'skull', 'skinned', 'skimpy', 'skills', 'skillful', 'skill', 'skiing', 'skies', 'skier', 'skeleton', 'skates', 'sixty-six', 'sixty', 'sixth', 'six-thirty', 'situated', 'sits', 'sirius', 'sir', 'sip', 'sinner', 'sinking', 'sink', 'sings', 'sincere', 'simply', 'simplicity', 'simmer', 'silly', 'signature', 'sigh', 'sided', 'sickens', 'shuttle', 'shuffle', 'shrugged', 'shrink', 'shows', 'showing', 'shovel', 'shove', 'shouted', \"shouldn't've\", 'shots', 'shotgun', 'shortcut', 'shortages', 'shortage', 'shone', 'shivering', 'shipping', 'shining', 'shined', 'shine', 'shinano', 'shimbun', \"shift's\", 'shelves', 'sheet', \"sheep's\", 'shed', 'shaving', 'shaved', 'shave', 'sharpest', 'sharpened', 'shark', 'shares', 'shared', 'shanghai', 'shameful', 'shakespeare', 'shack', 'sexy', 'sexist', 'severe', 'seventh', 'setup', 'serving', 'services', 'served', 'series', 'serial', 'sergeant', \"serbia's\", 'sequel', 'september', 'separately', 'separate', 'sentry', 'self-made', 'self-employed', 'seize', 'seeds', 'secretary', 'secondhand', 'sec', 'seatbelts', 'seatbelt', 'seasons', 'seaside', 'sealed', 'seafood', 'scuba', 'scrubbed', 'scrub', 'scrolling', 'screwed', 'screw', 'screen', 'screechy', 'screeched', 'screaming', 'scraps', 'scrap', 'scottish', 'scott', 'scooter', 'scientific', 'schoolroom', 'schemer', 'scheme', 'scattered', 'scare', 'scarce', 'scar', 'scan', 'scale', 'sax', 'savings', 'saves', 'saucepan', 'saturdays', 'satisfactory', 'sass', 'sandbox', 'sandbar', 'salvador', 'sail', 'safety', 'sadly', 'rusty', 'rust', 'rushed', 'rush-hour', 'rush', 'rural', 'runner', 'rung', 'rumors', 'rumored', 'rumor', 'ruler', 'ruined', 'rugby', 'route', 'roundabout', 'round-trip', 'round', 'rougher', 'rose', 'roommate', 'romance', 'rolling', 'roller', 'rolled', 'roll', 'roger', 'rock-and-roll', 'robe', 'robbers', 'robber', 'roared', 'roads', 'rivers', 'risks', 'rises', 'risen', 'rise', 'ripping', 'ripped', 'rip', 'rings', 'right-handed', 'rifle', 'ridiculously', 'rides', 'ridden', 'richest', 'ribs', 'rhyme', 'rewarded', 'revolve', 'revealing', 'reunited', 'returns', 'retiring', 'retired', 'retire', 'resumes', 'resumed', 'resume', 'restroom', 'resting', 'responsibility', 'responded', 'respects', 'respected', 'resource', 'resort', 'resolve', 'resistance', 'resignation', 'resign', 'reserved', 'reservation', 'resemble', 'rescued', 'requirements', 'requested', 'represent', 'reports', 'replied', 'replaced', 'replaceable', 'rephrase', 'repeated', 'repairing', 'repainting', 'rented', 'renew', 'reminisced', 'reminded', 'remembers', 'remembering', 'rembrandt', 'remain', 'relocated', 'religion', 'reliable', 'relevant', 'release', 'relativism', 'relations', 'regrets', 'register', 'region', 'regards', 'regardless', 'regained', 'refuses', 'refund', 'refreshing', 'refreshed', 'referring', 'referee', 'reeked', 'redneck', 'recycled', 'recreational', 'recovering', 'recorder', 'reconcile', 'recognize', 'recharging', 'recession', 'recess', 'receiving', 'recall', 'rebellious', 'rebellion', 'reap', 'realtor', 'realizes', \"reader's\", 'reader', 'react', 'rats', 'ration', 'rapidly', 'rank', 'ranch', 'raises', 'rainfall', 'railways', 'railroads', 'railroad', 'radar', 'races', 'quiz', 'quitting', 'quick-witted', 'queue', 'questioned', 'quartz', 'quarterly', 'quality', 'pus', 'pursuing', 'pursue', 'purse', 'purrs', 'purity', 'purchases', 'pupil', 'punishing', 'punish', 'punctured', 'pumpkins', 'pumpkin', 'publisher', 'published', 'publicly', 'psychologist', 'psychic', 'prowlers', 'protested', 'prospectus', 'proposition', 'prophecy', 'pronunciation', 'prohibited', 'profusely', 'profit', 'profile', 'professor', 'profession', 'produce', 'procrastination', 'privilege', 'privacy', 'printer', 'printed', 'primes', 'prime', 'prides', 'prevents', 'prettier', 'pretends', 'pretending', 'pressured', 'presley', \"president's\", 'presentations', 'presence', 'prescription', 'prescribed', 'prepaid', 'premature', 'prefers', 'preferable', 'prefecture', 'predominates', 'predictable', 'predict', 'predators', 'precooked', 'prayers', 'prayed', 'praise', 'powers', 'pour', 'potholes', 'postmortem', 'postcards', 'post-operative', 'portuguese', 'pork', 'porch', 'population', 'popularize', 'pope', 'pop', 'poorest', 'poorer', 'pooch', 'ponytail', 'pollution', 'polish', 'policemen', 'poison', 'poems', 'plunged', 'plugged', 'plowed', 'pleases', 'plea', 'players', 'platform', 'plates', 'plants', \"plane's\", 'plain', 'plague', 'plagiarism', 'placebo', 'pizzaro', 'pitched', 'pistols', 'pilot', 'pigs', 'pigeons', 'pigeon-toed', 'pigeon', 'pies', \"pie's\", 'picky', 'pickpockets', 'picasso', 'physically', 'phrase', 'photographs', 'photographer', 'photogenic', 'phones', 'pharmacy', 'pharmacist', 'pets', 'pestering', 'pessimistic', 'pesos', 'pesetas', 'persuaded', 'perspiration', 'personally', 'perseverance', 'permit', 'permanent', 'perk', 'perish', 'percentage', 'penny', 'penicillin', 'penetrated', 'penance', 'peige', 'peeling', 'peeled', 'peeked', 'pedestrian', 'pedal', 'pearl', 'pe', 'paul', 'pattern', 'patriot', 'patiently', 'pastime', 'passwords', 'passive', 'passionately', 'passes', 'passenger', \"party's\", 'parts', 'partly', 'participants', 'parks', 'parked', 'paranoid', 'parallel', 'paraguay', 'panicked', 'panhandles', 'pan', 'palms', 'pale', 'pairs', 'paints', 'painters', 'painter', 'painkillers', 'packing', 'packed', 'pack', 'pacifist', 'oysters', 'owes', 'overtook', 'overtime', 'oversleep', 'overseas', 'overreacted', 'overnight', 'overlooks', 'overlooked', 'overlook', 'overhearing', 'overflow', 'overestimate', 'overcast', 'overcame', 'overboard', 'outwitted', 'outweigh', 'outskirts', 'output', 'outlawing', 'outdoors', 'outdated', 'otherwise', 'orphanage', 'orleans', 'originated', 'orders', 'ordering', 'option', 'oppressed', 'oppose', 'opinions', 'operator', 'operates', 'operated', 'opera', 'open-minded', 'onions', 'onion', 'one-bedroom', 'omitted', 'officials', 'official', 'offices', 'offensive', 'offended', 'off-site', 'odds', 'oddly', 'oceans', 'occurred', 'occasions', 'obstacles', 'obsolete', 'observed', 'observant', 'obscene', 'obligated', 'objection', 'obeyed', 'nutritious', 'nudged', 'november', 'notified', 'note', 'nosy', 'noodles', 'noisily', 'noble', 'ninety-nine', 'nile', 'nightmare', \"night's\", 'nigger', 'niece', 'nick', 'newcomer', 'networks', 'net', 'nervously', 'neighbours', 'negotiations', 'negotiated', 'negotiate', 'neglected', 'needle', 'neat', 'nearing', 'nda', 'navy', 'nature', 'natto', 'nasty', 'nasa', 'narrow', 'nara', 'napoleon', \"name's\", 'nagoya', 'nabbed', 'mystery', 'mysterious', 'muttering', \"mustn't\", 'mustache', 'muslims', 'muslim', 'multitasking', 'multimillionaire', 'multimedia', 'mug', 'mri', 'mp3', 'mozart', 'mower', 'movements', 'moustache', 'motorbike', 'motor', 'motivates', 'motivated', 'motionless', 'motion', 'motel', 'mostly', 'mortal', 'mornings', \"morning's\", 'morally', 'monument', \"month's\", 'monopolize', 'monkey', 'monk', 'mondays', 'mommy', 'moments', 'molecule', 'molar', 'modest', 'models', 'mocked', 'moat', 'mitzvah', 'misunderstanding', 'misses', 'miso', 'misled', 'mislead', 'misjudged', 'misfortunes', 'miracles', 'miracle', \"minutes'\", 'minus', 'mint', \"minnesota's\", 'minimum', 'mini-skirts', 'minds', 'mince', 'millionaire', 'milder', 'mild', 'migraine', \"might've\", 'midterms', 'michael', 'mic', 'method', 'meteorites', 'metal', 'messy', 'merry', 'mere', 'mentioned', 'mention', \"men's\", 'memorizing', 'memorized', 'memorize', 'memories', 'member', 'melted', 'melt', 'meets', 'meditating', 'medication', 'medical', 'media', 'meddle', 'mecca', 'measures', 'measured', 'measles;', 'meanings', 'md', \"mcdonald's\", 'mature', 'maternal', \"material's\", 'material', 'matches', 'matched', 'master', 'massive', 'masochist', 'mask', 'masculine', 'mascara', 'marvels', 'marshmallows', 'marks', 'marked', 'marine', 'marconi', 'marched', 'marble', 'marathon', 'manual', 'manslaughter', 'manipulator', 'mandatory', 'management', 'mama', 'malicious', 'mali', 'majored', 'maintenance', 'maintained', 'mainly', 'mailman', 'maiden', 'maid', 'macintosh', 'lunatic', 'luis', 'lowered', 'lower', 'loving', 'lovers', 'louvre', 'lousy', 'losses', 'loser', 'los', 'loot', 'loosen', 'longed', 'long-term', 'loneliness', 'logical', 'log', 'locker', 'locals', 'lobsters', 'lobby', 'liz', 'littered', 'literature', 'liter', 'liquor', 'liquid', 'lipstick', 'lions', 'link', 'linen', 'lincoln', 'limitless', 'lime', 'likeable', 'lightly', 'lighting', 'lifted', 'lifeguard', \"life's\", 'lidya', 'licensed', 'librarian', 'letting', 'lets', 'lessons', 'lens', 'length', 'lends', 'legitimate', 'legends', 'leather', 'leaped', 'leaning', 'leaned', 'lean', 'leaky', 'leaking', 'leak', 'leads', 'leadership', 'lazier', 'lax', 'lawyers', \"lawyer's\", 'laundry', 'laughter', 'lately', 'lasts', 'lasagna', 'landline', 'landing', 'landed', 'lakes', 'lagoon', 'lacked', 'l', 'kong', 'knot', 'knocking', 'knock', 'knives', 'knitted', 'kneeling', 'knack', 'kit', 'kingdom', 'kinds', 'kindly', 'kindergarten', 'kilograms', 'kilo', 'killer', 'kidnapped', 'keyboard', 'keeping', 'keeper', 'keen', 'kazakhstan', 'kawagoe', 'katrina', 'karuizawa', 'karate', 'kansai', 'justify', 'justice', 'jungle', 'jump', 'july', 'judged', 'journey', 'jorge', 'joints', 'joint', 'joining', 'johnson', 'jogs', 'jog', 'jittery', 'jingle', 'jfk', 'jewelry', \"jesus'\", 'jerks', 'jerk', 'jefferson', 'jaw', 'january', 'jammed', 'jam', 'jailhouse', 'jacksons', 'ivy', 'it’s', 'itself', 'items', 'itches', 'it;', \"it'd\", 'issues', 'islam', 'ishikawa', 'irresistible', 'iraq', 'ipad', 'iowa', 'involves', 'involvement', 'involuntary', 'investigating', 'investigated', 'investigate', 'invested', 'invest', 'invertebrates', 'invasion', 'invaded', 'intuition', 'intrigued', 'interview', 'interrupting', 'interrupted', 'interns', 'intermission', 'intentionally', 'intentional', 'intention', 'insult', 'instant', 'inspires', 'inspired', 'insomniac', 'insomnia', 'insists', 'inquiring', 'ink', 'inherited', 'inherit', 'inhabitants', 'informant', 'inform', 'influence', 'inflammable', 'infinite', 'infectious', 'infection', 'infallible', 'industry', 'indulge', 'indisputable', 'indicted', 'indicator', 'indicate', 'indian', 'indeed', 'indecisive', 'indebted', 'incurable', 'incredible', 'increasing', 'increase', 'included', 'inca', 'inbox', 'inadequate', 'impulsive', 'impudence', 'improvised', 'impression', 'impress', 'imposed', 'imports', 'imperial', 'impartial', 'impact', 'immune', 'immense', 'imitating', 'imitate', 'ignoring', 'identity', 'identical', 'ideal', 'icy', 'icon', 'icewater', 'iceberg', 'hypocrite', 'hypocrisy', 'hypnotized', \"husband's\", 'hurrying', 'hurriedly', 'hurricane', 'hurled', 'hunters', 'hunt', 'hunger', 'hungary', 'hungarian', 'hundredth', 'humps', 'hummingbird', 'humiliating', 'humiliated', 'humble', 'hum', 'hugging', 'hugged', 'hub', \"how're\", 'housework', 'household', \"hour's\", 'hottest', 'hostages', 'hospitality', \"horse's\", 'horrified', 'horizontal', 'horizons', 'horizon', 'hopefully', 'hop', 'hooks', 'honored', 'honorable', 'hong', 'honeymoon', 'honestly', 'homes', 'hollow', 'holidays', 'holes', 'hokkaido', 'hitler', 'hitch', 'hiring', 'hired', 'hints', 'hilton', 'hillside', 'hiking', 'hike', 'highway', 'higher', 'hiccoughing', 'hers', 'hemispheres', 'hellos', 'helicopters', 'heir', 'height', 'hefty', 'heed', 'hedgehogs', 'hedge', 'heaven', 'heating', 'hearts', 'heartless', 'hears', 'heaps', 'healthiest', 'healthier', 'heals', 'healing', 'healed', 'heal', 'headphones', 'headlines', 'headboard', 'headaches', 'hay', 'hats', 'harsh', 'harmless', 'harmful', 'hardest', 'hard-working', 'hard-hearted', 'harbor', 'harajuku', 'happier', 'hangzhou', 'handy', 'handshake', 'handout', 'handkerchief', 'handful', 'hamster', 'hamlet', 'hamilton', 'halt', 'hallucinating', \"hair's\", 'haggling', 'hacking', 'guru', 'gunrunners', 'gunfire', 'gums', 'guitars', 'guitarist', 'guinea', 'guidebook', 'guest', 'guessed', 'gucci', 'guarantee', 'grumpy', 'grumbled', 'grudge', 'grub', 'grows', 'groped', 'grind', 'grill', 'grief', 'grey', 'greenhouse', 'greener', 'greeks', 'greedy', 'greece', 'greatest', 'greasy', 'grease', 'graveyard', 'grapes', 'grapefruit', 'grandson', 'grandpa', 'grandfathers', 'grandchildren', 'grand', 'graduating', 'graduate', 'gradually', \"government's\", 'governing', 'gossiping', 'gossip', \"goodness'\", 'good-looking', 'good-hearted', 'goo', 'gonna', 'golfer', 'goldfish', 'gods', 'goals', 'glowing', 'glove', 'gloomy', 'global', 'gloated', 'glitters', 'glaciers', 'gist', \"girls'\", 'giggled', 'gifts', 'germans', 'genuinely', 'genuine', 'general', 'gather', 'gasoline', 'garlic', 'gang', 'gander', 'gallant', 'galaxies', 'gains', 'g-7', 'fuse', 'furiously', 'funds', 'function', 'fuels', 'frogs', 'frog', 'frighten', 'friendship', \"friends'\", \"friend's\", 'fridays', 'freshman', 'fresh-water', 'frequently', 'freezer', 'freeze', 'freed', 'freckles', 'freaked', 'fraud', 'franklin', 'framework', 'frames', 'framed', 'frame', 'four-leaf', 'fountain', 'founded', 'foundation', 'foul', 'forty', 'fortunate', 'fort', 'formal', 'forgiveness', 'forgets', 'forgave', 'forbidden', 'footprints', 'follows', 'folks', 'folding', 'fold', 'fog', 'focus', 'fluently', 'flu', 'flows', 'floss', 'flooded', 'flirting', 'flirted', 'flipped', 'flights', 'flies', 'flickr', 'flicked', 'fled', 'flavoring', 'flavor', 'flamethrower', 'flames', 'flaky', 'flags', 'fixing', \"fish's\", 'first-aid', 'firmly', 'firing', 'fireworks', 'firemen', 'fireman', 'firefox', 'finishes', 'finicky', 'fingerprints', 'finger-licking', 'finest', 'finds', 'financial', 'filthy', 'fill', 'files', 'file', 'fifth', 'fifteen', 'fiber', 'feminine', 'female', 'fee', 'federer', 'february', 'feather', 'feared', 'faults', 'faucets', 'father-in-law', 'fatal', 'fastest', 'fasten', 'fast-food', 'farmhouse', 'farmer', 'fantasy', 'fanning', 'famine', 'faking', 'faked', 'fairies', 'failing', 'fahrenheit', 'fades', 'fade', 'facing', 'eyesight', 'eyepatch', 'eyedrops', 'eyebrows', 'extremes', 'extraordinary', 'extracted', 'extent', 'extensive', 'expressions', 'expression', 'exporter', 'explains', 'expired', 'expire', 'experiments', 'expense', 'expedition', 'expects', 'exists', 'exhilarating', 'exhibition', 'exhibit', 'exercised', 'executive', 'execute', 'excuses', 'excused', 'excursion', 'excitement', 'exchange', 'exceptions', 'exceptionally', 'exception', 'examined', 'exaggerate', 'exact', 'ex-boyfriend', 'ex', 'evolution', 'evil', 'evidently', 'evicted', \"everything's\", 'evaporation', 'evangelist', 'euphemism', 'ethical', 'eternal', 'estimated', 'estimate', 'essential', 'escalators', 'erupted', 'errors', 'error', 'errand', 'erected', 'erasers', 'era', 'equivalent', 'equator', 'equally', 'equal', 'envy', 'entries', 'enthusiasm', 'enters', 'entering', 'enlisted', 'enjoys', 'engrossed', 'englishman', 'engagement', 'endure', 'ends', 'endorse', 'encouragement', 'emptied', 'emphasized', 'emphasize', 'emphasis', 'empathy', 'emotionally', 'embrace', 'embezzled', 'embarrassed', 'elvis', 'elsewhere', \"else's\", 'elite', 'eliminate', 'elevators', 'elephants', 'electric', 'election', 'elders', 'elbows', 'eighty-one', 'eighty', 'eighth', 'eighteen-year-old', 'eiffel', 'eggshells', 'eggplant', 'egg-whites', 'efficient', 'effects', 'editor', 'editions', 'edition', 'economics', 'economically', 'economic', 'eclipse', 'eccentric', 'eaves', 'eaters', 'easygoing', 'east', 'earthquakes', 'earrings', 'earns', 'earn', 'ear', 'eager', 'e-mail', 'duties', 'dutch', 'dusty', 'dust', 'dusk', 'durable', 'dumbest', 'dull', 'duke', 'dug', 'duet', 'dual', 'drums', 'drummer', 'drum', 'drowned', 'drought', 'drops', 'drinker', 'dried', 'drew', 'drenched', 'dreamer', 'draws', 'drawn', 'drain', 'drafted', 'dozing', 'downtown', 'download', 'dove', 'doughnut', 'dough', 'doubted', 'doubled', 'double-parked', 'dormitory', 'dormitories', 'doorway', \"door's\", 'doomed', 'dolls', \"dog's\", 'doesn’t', 'dodged', 'documentaries', 'dizzy', 'diving', 'divides', 'divide', 'diversion', 'distributed', 'distracts', 'distract', 'distinguished', 'dissolves', 'dispute', 'disposal', 'displeased', 'disorganized', 'dislocated', 'disk', 'dishwasher', 'disgusting', 'disgust', 'disguised', 'disgraced', 'disgrace', 'discussing', 'discussed', 'discreet', 'discount', 'disconnect', 'disclosed', 'disciples', 'discharge', 'disasters', 'disaster', 'disappear', 'disagree', 'directly', 'diploma', 'dinosaurs', 'dined', 'dimensions', 'dime', 'dim-witted', 'diligence', 'diggers', 'difficulties', 'differs', 'differently', 'differences', 'dictionaries', 'dictator', 'diabetic', 'devious', 'developing', 'devastating', 'detests', 'determination', 'detectives', 'detective', 'detailed', 'destroy', 'destination', 'despise', 'desires', 'designers', 'designer', 'design', 'describes', 'described', 'derived', 'deprived', 'depression', 'deposit', 'deployed', 'dependable', 'departs', 'deodorant', 'demoted', 'demonstration', 'demand', 'delivery', 'delivered', 'delighted', 'degas', 'definitions', 'defenseless', 'defendant', 'deer', 'deepest', 'deed', 'dedicate', 'decreasing', 'declined', 'declare', 'declarations', 'deciding', 'deceiving', 'debating', 'debate', 'debatable', 'dealt', 'dead-end', 'day-dreaming', \"day's\", 'dawn', 'davis', 'daughters', 'darts', 'darkness', 'darkest', 'dances', 'dancers', 'dancer', 'damp', 'damages', 'damaged', 'daddy', 'd', 'cylinder', 'cycling', 'cutting', 'custom', 'custody', 'curry', 'currently', 'curling', 'curled', 'curfew', 'cure', 'curb', 'cups', 'cunning', 'cultural', 'cuff', 'cuba', 'crystals', 'crybaby', 'crybabies', 'crushed', 'cruise', 'cruel', 'crows', 'crown', 'cross-legged', 'crop', 'croatia', 'critics', 'criticize', 'criticism', 'critical', 'criminal', 'crew', 'creepy', 'creditors', 'creature', 'creative', 'creationist', 'creates', 'crawl', 'craving', 'craves', 'crane', 'cradle', 'cracking', 'crack', 'co₂', 'cozy', 'cows', 'courtroom', \"court's\", 'countryside', \"country's\", 'countless', 'counted', 'countdown', 'council', 'coughing', 'coughed', 'cotton', 'corrections', 'correcting', 'corpse', 'corners', 'corn', 'cordoned', 'copies', 'cooperation', 'cooped', 'cooing', 'convincing', 'convertible', 'conveniently', 'contrived', 'contributed', 'contrary', 'contracted', 'continue', 'content', 'contemporary', 'contain', 'consumption', 'consuming', 'consumed', 'consume', 'consultant', 'consult', 'conspiracy', 'console', 'considers', 'consideration', 'conservative', 'consequently', 'consequences', 'consequence', 'consent', 'consecutive', 'conquers', 'connection', 'connected', 'conked', 'congress', 'confusion', 'confuse', 'conform', 'conflicts', 'confiscated', 'confirm', 'confessed', 'cone', 'conducts', 'conducive', 'condo', 'conditions', 'conditioner', 'condemned', 'concerning', 'concern', 'concentration', 'concentrating', 'concentrated', 'conceals', 'concealing', 'conceal', \"computer's\", 'compromise', 'complicated', 'complex', 'complaints', 'competitive', 'competent', 'competed', 'compete', 'compartment', 'comparison', 'companions', 'companies', 'compact', 'communist', 'communication', 'committee', 'commit', 'commercial', 'comments', 'comment', 'commander', 'command', 'comedies', 'comedian', 'columns', 'colored', 'colorado', 'color-blind', 'colony', 'colonists', 'colonial', 'collects', 'collected', 'collapsed', 'coerced', 'coding', 'cocoa', 'cockroach', 'coaxed', 'clutched', 'clung', 'clues', 'clueless', 'clover', 'clogs', 'clogged', 'clocks', 'cling', 'climbers', 'click', 'clerk', 'clearness', 'clearing', 'cleared', 'cleanup', 'cleaning', 'classics', 'clapped', 'civil', 'citizens', 'citations', 'circuit', 'cigarettes', 'cigarette', 'cia', 'chorus', 'chopsticks', 'cholesterol', 'choking', 'choked', 'choir', 'chipped', 'chinatown', 'chile', \"children's\", 'chicago', 'chewing', 'chewed', 'chestnuts', 'chess', 'chemical', 'cheer', 'cheeks', 'checks', 'checking', 'cheat', 'chavez', 'chatting', 'chatted', 'chases', 'chased', 'chase', 'charming', 'charges', 'championship', 'challenges', 'challenge', 'chalk', 'chairman', 'cesar', 'ceremony', 'cents', 'central', 'centimeters', 'centigrade', 'cemetery', 'cells', 'celebrity', 'celebrated', 'cds', 'cave', 'caution', 'cauterize', 'causing', 'causes', 'catholics', 'caterpillar', 'catchy', 'catastrophic', 'catapult', 'casualties', 'castles', 'cast', 'cases', 'cartridge', 'carried', 'caroling', 'caring', 'cares', 'carelessly', 'careless', 'cardiologists', 'cardiff', 'cardboard', 'carbohydrates', \"car's\", 'cappuccinos', 'capitals', 'cap', 'canvas', 'cans', 'candles', 'canal', 'canadians', 'campus', 'campfire', 'camp', 'cambridge', 'calories', 'calmly', 'calmed', 'calluses', 'callus', 'caller', 'california', 'calendar', 'calculated', 'cages', 'caged', 'cafeteria', 'caesar', 'cables', 'cabinet', 'c++', 'byron', 'buyer', 'buttoned', 'butterfly', 'butterflies', 'butcher', 'businesses', 'busiest', 'busier', 'bushy', 'buried', 'burglary', 'burglaries', 'bunnies', 'bungee', 'bumps', 'bullying', 'bullfighting', 'bulletin', 'bulb', 'buildings', 'bugs', 'buenos', 'budget', 'budge', 'buddy', 'brushes', 'brunettes', \"brother's\", 'broom', 'broiled', 'broccoli', 'broaden', 'broadcast', 'british', 'brink', 'bringing', 'brightly', 'brightest', 'bridges', 'bribed', 'bribe', 'breathtaking', 'breathing', 'breakup', 'breaks', 'breach', 'brazilian', \"brazil's\", 'bravery', 'braver', 'brat', 'brandy', 'brands', 'branded', 'brakes', 'brain', 'bra', 'boxing', 'bowls', 'bowing', 'bounds', 'bound', 'boulder', 'bothering', 'bothered', 'botch', \"boston's\", 'bossy', 'borges', 'boredom', 'bordered', 'booted', 'bookkeeping', 'booked', \"book's\", 'bonjour', 'bones', 'bombs', 'bomber', 'bombed', 'boil', 'bodyguard', 'boards', 'bmw', 'blowing', 'blow', 'blondes', 'blond', 'blocks', 'blisters', 'blindfolded', 'blessing', 'blankets', 'blanket', 'blank', 'blamed', 'blacked', 'blackboard', 'bizarre', 'bites', 'birth', 'biology', 'biologists', 'bills', 'bias', 'beverage', 'better-looking', 'beside', 'benefit', 'bending', 'belts', 'below', 'belongings', 'bells', 'believer', 'believable', 'behaving', 'behalf', 'beginner', 'beggar', 'bedtime', 'beds', 'beautifully', 'beatles', 'beating', 'beasts', 'bears', 'beard', 'beaches', 'battle', 'bathtub', 'bathing', 'basically', 'basic', 'basement', 'base', 'bartender', 'barricaded', 'barks', 'barked', 'baritone', 'bareback', 'barbers', \"barber's\", 'baptized', 'bans', 'bankruptcy', 'bankrupt', 'banker', 'bang', 'bandage', 'band', 'balls', 'ballooned', 'bakery', 'bait', 'bacteria', 'backwards', 'backs', 'backlash', 'baboons', 'babies', 'babble', 'awfully', 'award', 'awaits', 'average', 'avenue', 'automated', 'australian', 'austerity', 'aunts', 'august', 'audio', 'auction', 'attributes', 'attraction', 'attracted', 'attract', 'attorney', 'attentive', 'attendance', 'attempted', 'atoms', 'atomic', 'atom', 'atmosphere', 'athlete', 'athens', 'atheists', 'asylum', 'astronomy', 'astonishment', 'assisted', 'assistance', 'assassinate', 'asks', 'asahi', 'artificial', 'arrogant', 'arranging', 'arrangements', 'arranged', 'arrange', 'arouses', 'aroused', 'armies', 'aristocrat', 'arguments', 'argentina', 'arched', 'archaeologist', 'arabic', 'arab', 'apt', 'approved', 'approval', 'approaching', 'appreciation', 'appoints', 'applies', 'application', 'appliances', 'appealed', 'appeal', 'apparent', 'appalled', 'app', 'apologies', 'apollo', 'anyways', 'anyplace', \"anybody's\", 'antiques', 'anticipating', 'anticipated', 'anticipate', 'antibiotics', 'antenna', 'answers', 'answering', 'anomaly', 'annual', 'annoyed', 'annoy', 'angles', 'anger', 'angeles', 'android', 'anchor', 'ancestry', 'ancestors', 'analyze', 'amusing', 'amuses', 'amuse', 'amounted', 'ambitious', 'ambiguous', 'amazement', 'amateur', \"alzheimer's\", 'alps', 'aloof', 'almonds', 'allows', 'allowance', 'allotment', 'allergies', 'allegedly', 'allegations', 'alibi', 'alexander', 'ajar', 'airplanes', 'aires', 'aid', 'aground', 'agreements', 'agreement', 'ages', 'affects', 'affectionately', 'affectionate', 'affect', 'affairs', 'aerobics', 'advertised', 'adventurous', 'advantages', 'advances', 'advanced', 'adult', 'adores', 'adored', 'adolescents', 'ado', 'admission', 'admiring', 'admires', 'admirer', 'admired', 'admiration', 'admirably', 'administer', 'adjusted', 'adjust', 'adequate', 'addition', 'addiction', \"actress's\", 'actions', 'actinium', 'acreage', 'acquitted', 'acquired', 'acquainted', 'acquaintance', 'acids', 'achilles', 'achievements', 'achieved', 'achieve', 'aches', 'accurate', 'accumulated', 'accounts', 'accidental', 'accessible', 'access', 'accelerated', 'abstract', 'abstained', 'absorbs', 'absorbed', 'abiding', 'abhorrent', 'abhor', 'aberration', 'abdominal', 'abc', 'aback', 'aardvarks', '98', '90%', '86', '8%', '7th', '65', '60th', '54', '500', '50%', '5%', '41', '400', '4', '35', '31st', '300', '250', '25', '24', '213', '20th', '2013', '2003', '200', '20/20', '20%', '2%', '1st', '19th', '1993', '198°c', '1983', '1975', '1972', '1960s', '1955', '1950', '1945', '1940', '1914', '1912', '19', '1823', '1809', '15th', '15', '1492', '14', '12th', '123', '10th', '10%', '$300', '$10', '$1']\n",
      "6088\n",
      "37\n"
     ]
    }
   ],
   "source": [
    "# Apply to English and check vocabulary\n",
    "vectorize_layer_english.adapt(sentences_english)\n",
    "english_vocabulary = vectorize_layer_english.get_vocabulary()\n",
    "print(english_vocabulary)\n",
    "print(len(english_vocabulary))\n",
    "# also create a variable max_english to store max length of English sentences (will come in handy later)\n",
    "max_english = vectorize_layer_english(sentences_english).shape[1]\n",
    "print(max_english)"
   ]
  },
  {
   "cell_type": "code",
   "execution_count": 14,
   "metadata": {},
   "outputs": [
    {
     "name": "stdout",
     "output_type": "stream",
     "text": [
      "['', '[UNK]', '<start>', '<end>', '.', 'de', 'que', 'no', 'a', 'tom', 'la', '?', '¿', 'el', 'en', 'es', 'un', 'me', ',', 'se', 'por', 'lo', 'una', 'los', 'qué', 'mi', 'Él', 'con', 'su', 'está', 'te', 'ella', 'le', 'para', 'mary', 'y', 'más', 'las', 'al', 'yo', 'muy', 'eso', 'del', 'tu', 'este', 'esta', 'tiene', 'estoy', 'tengo', 'quiero', 'estaba', 'fue', 'como', 'él', 'si', 'aquí', 'hacer', 'tiempo', 'puedo', 'todo', 'ha', 'casa', 'todos', 'hay', 'esto', 'algo', 'tan', 'mucho', 'puede', 'nada', 'favor', 'son', 'bien', 'ir', 'he', '!', '¡', 'gusta', 'vez', 'nos', 'trabajo', 'era', 'creo', 'quién', 'ser', 'ellos', 'solo', 'dijo', 'cuando', 'sé', 'ya', 'dos', 'estás', 'sus', 'cómo', 'nunca', 'mañana', 'ahora', 'dónde', 'verdad', 'están', 'pero', 'puedes', 'hablar', 'ese', 'dinero', 'tienes', 'hoy', 'había', 'tomás', 'hace', 'soy', 'tú', 'va', 'ver', 'quiere', 'nadie', 'mejor', 'día', 'poco', 'has', 'parece', 'noche', 'sabe', 'siempre', 'voy', 'libro', 'tenía', 'francés', 'quieres', 'antes', 'esa', 'demasiado', 'estar', 'eres', 'años', 'maría', 'tres', 'mis', 'quería', 'padre', 'hizo', 'haber', 'tarde', 'usted', 'mí', 'días', 'sin', 'ayer', 'mismo', 'todavía', 'boston', 'problema', 'perro', 'nuevo', 'necesito', 'nosotros', 'hecho', 'decir', 'ti', 'sobre', 'hasta', 'hacerlo', 'casi', 'hora', 'buen', 'o', 'gente', 'comer', 'tenemos', 'estado', 'así', 'alguien', 'podría', 'puerta', 'hombre', 'coche', 'menos', 'vida', 'pronto', 'sabía', 'saber', 'pensé', 'cuál', 'allí', 'cuándo', 'semana', 'habitación', 'gustaría', 'deberías', 'uno', 'madre', 'les', 'mundo', 'veces', 'tus', 'escuela', 'debería', 'vas', 'tener', 'café', 'visto', 'otra', 'comprar', 'aún', 'ayuda', 'fuera', 'estamos', 'amigos', 'alguna', 'cosas', 'contigo', 'nuestro', 'john', 'hermana', 'han', 'cuánto', 'comida', 'salir', 'realmente', 'después', 'desde', 'ciudad', 'tienen', 'sabes', 'nombre', 'inglés', 'ahí', 'vi', 'toda', 'tanto', 'policía', 'niños', 'niño', 'año', 'vino', 'siento', 'pasado', 'conmigo', 'auto', 'trabajar', 'pasó', 'grande', 'feliz', 'espero', 'buena', 'todas', 'sea', 'hermano', 'difícil', 'podemos', 'lunes', 'gran', 'agua', 'teléfono', 'podía', 'otro', 'ni', 'muchos', 'mal', 'idea', 'familia', 'cada', 'tuvo', 'problemas', 'padres', 'miedo', 'cuenta', 'conducir', 'clase', 'vamos', 'rápido', 'profesor', 'persona', 'haciendo', 'amigo', 'también', 'libros', 'dio', 'cerca', 'tren', 'sólo', 'seguro', 'personas', 'momento', 'lugar', 'lado', 'durante', 'donde', 'cosa', 'acerca', 'sido', 'porque', 'estos', 'diez', 'tomar', 'habla', 'fácil', 'dejar', 'anoche', 'tipo', 'sí', 'pudo', 'nuestra', 'murió', 'mucha', 'historia', 'hijos', 'gustan', 'fuerte', 'dormir', 'dicho', 'cama', 'bueno', 'vive', 'será', 'mientras', 'importante', 'hemos', 'dije', 'dejó', 'carta', 'última', 'veo', 'razón', 'puso', 'palabra', 'muchas', 'leer', 'horas', 'fiesta', 'estaban', 'debe', 'crees', 'nadar', 'llegó', 'esposa', 'esperando', 'ayudar', 'alto', 'vio', 'sueño', 'quisiera', 'mesa', 'mes', 'joven', 'frío', 'dice', 'debes', 'buscando', 'aprender', 'ventana', 'pueden', 'película', 'parte', 'oficina', 'nueva', 'necesita', 'hice', 'hacia', 'fui', 'conozco', 'cinco', 'bajo', 'accidente', 'único', 'zapatos', 'tuve', 'suficiente', 'ropa', 'preguntó', 'pidió', 'minutos', 'mano', 'estación', 'cara', 'cansado', 'bastante', 'temprano', 'perdido', 'pasar', 'ocupado', 'menudo', 'deja', 'vivir', 'viene', 've', 'tío', 'necesitas', 'navidad', 'mayor', 'hablando', 'ganas', 'esté', 'cuidado', 'chico', 'volver', 'televisión', 'punto', 'pienso', 'os', 'hijo', 'fumar', 'entre', 'encontrar', 'dar', 'cabeza', 'bicicleta', 'algunas', 'acuerdo', 'viaje', 'venir', 'ustedes', 'tal', 'secreto', 'pelo', 'país', 'ojos', 'mujer', 'ido', 'hospital', 'extraño', 'da', 'canción', 'algunos', 'viejo', 'terminar', 'somos', 'sola', 'río', 'reunión', 'quien', 'queda', 'ningún', 'música', 'lleva', 'jugar', 'jamás', 'gracias', 'gato', 'fueron', 'entiendo', 'encanta', 'contra', 'autobús', 'vuelta', 'usar', 'unas', 'tocar', 'podrías', 'pensar', 'parecía', 'oír', 'oído', 'odio', 'lluvia', 'japón', 'importa', 'hiciste', 'haga', 'fin', 'entrar', 'entonces', 'avión', 'apenas', 'unos', 'tenis', 'sos', 'primera', 'pregunta', 'plan', 'perros', 'pequeño', 'mío', 'hubiera', 'estas', 'escribir', 'encontré', 'edad', 'duro', 'deberíamos', 'cuántos', 'colegio', 'cocina', 'australia', 'visitar', 'salió', 'regalo', 'realidad', 'quedó', 'pude', 'misma', 'llave', 'juntos', 'fuego', 'estuvo', 'debo', 'compró', 'capaz', 'camino', 'calle', 'verano', 'trabajando', 'solía', 'respuesta', 'ocurrió', 'número', 'leche', 'largo', 'iba', 'hija', 'estabas', 'enfermo', 'cierto', 'biblioteca', 'aquel', 'algún', 'verte', 'taza', 'siquiera', 'recuerdo', 'quieras', 'manos', 'manera', 'lejos', 'interesante', 'hombres', 'hambre', 'hagas', 'falta', 'estudiar', 'estudiantes', 'estaré', 'esperar', 'eran', 'equivocado', 'dentro', 'cree', 'consejo', 'compré', 'éxito', 'venga', 'tarea', 'sombrero', 'sería', 'reloj', 'queremos', 'próximo', 'posible', 'pie', 'perdí', 'pensaba', 'llegar', 'listo', 'juego', 'examen', 'espera', 'dólares', 'déjame', 'dolor', 'cumpleaños', 'cuesta', 'cuanto', 'cualquier', 'conoce', 'cine', 'amor', 'allá', 'acabo', 'árbol', 'vos', 'vista', 'ven', 'vaya', 'té', 'suelo', 'sigue', 'seis', 'pueda', 'pregunto', 'preguntas', 'playa', 'piensa', 'piano', 'pasando', 'otros', 'nuestros', 'montón', 'mira', 'hotel', 'encontró', 'ellas', 'doctor', 'cámara', 'carne', 'acá', 'treinta', 'terminó', 'suerte', 'seguir', 'ruido', 'rico', 'resolver', 'querés', 'próxima', 'piensas', 'pequeña', 'pedí', 'pareces', 'oí', 'novia', 'ninguna', 'muerte', 'luz', 'llover', 'jugando', 'hubo', 'haya', 'habló', 'guerra', 'fotos', 'estuve', 'estará', 'error', 'detrás', 'decidió', 'chica', 'canadiense', 'caja', 'atención', 'volvió', 'vestido', 'van', 'trabaja', 'tokio', 'sol', 'quieren', 'puesto', 'pasada', 'parque', 'parar', 'paraguas', 'pagar', 'opinión', 'malo', 'llamó', 'lista', 'leyendo', 'gatos', 'foto', 'experiencia', 'estés', 'entender', 'ello', 'duele', 'dime', 'decirle', 'culpa', 'creer', 'comido', 'claro', 'bus', 'buenas', 'asunto', 'ambos', 'única', 'árboles', 'voz', 'vendrá', 'vacaciones', 'tomó', 'terminado', 'tenga', 'sitio', 'sentido', 'semanas', 'sal', 'rato', 'perdió', 'pensando', 'pena', 'pasa', 'par', 'papá', 'papel', 'oportunidad', 'ojalá', 'necesitamos', 'médico', 'mujeres', 'minuto', 'media', 'llevaba', 'japonés', 'imposible', 'haría', 'haré', 'habría', 'ganó', 'forma', 'estudiante', 'eras', 'equipo', 'empezó', 'edificio', 'dormido', 'desearía', 'dame', 'cuchillo', 'cuarto', 'compañía', 'caso', 'cantar', 'caminar', 'bebé', 'baño', 'alrededor', 'acaso', 'último', 'triste', 'trató', 'torta', 'tienda', 'ten', 'querías', 'primer', 'pescado', 'peligroso', 'pastel', 'palabras', 'novio', 'normalmente', 'ninguno', 'nació', 'miró', 'llevar', 'llamar', 'larga', 'justo', 'jefe', 'hicieron', 'hablo', 'haberte', 'guitarra', 'ganar', 'finalmente', 'final', 'favorita', 'extranjero', 'esperaba', 'dirección', 'dejes', 'decisión', 'decidido', 'debemos', 'cena', 'carro', 'caro', 'calor', 'barco', 'azúcar', 'asiento', 'almuerzo', 'abrió', 'vivo', 'vimos', 'verde', 'vaso', 'tenés', 'significa', 'siendo', 'sale', 'quedarse', 'quedarme', 'primero', 'precio', 'poner', 'perder', 'peligro', 'paz', 'partido', 'oro', 'novela', 'mirando', 'medio', 'mayoría', 'llaves', 'llama', 'lengua', 'lago', 'invierno', 'inteligente', 'helado', 'golpeó', 'fútbol', 'frente', 'exactamente', 'estúpido', 'estáis', 'empezar', 'domingo', 'divertido', 'dijiste', 'digas', 'diferente', 'diciendo', 'diccionario', 'demás', 'deberes', 'completamente', 'cielo', 'chicos', 'causa', 'casó', 'beber', 'aunque', 'atrás', 'agradable', 'adónde', 'viste', 'vieja', 'vale', 'usa', 'trata', 'tenido', 'tengas', 'simplemente', 'siguiente', 'siete', 'seas', 'salud', 'saben', 'rompió', 'rojo', 'resfriado', 'reglas', 'quizá', 'quiera', 'podés', 'peor', 'pasé', 'ocupada', 'ocho', 'noticias', 'nieve', 'mía', 'meses', 'mensaje', 'matar', 'manzana', 'mantener', 'libre', 'leído', 'jardín', 'irse', 'irme', 'información', 'igual', 'huevos', 'hermosa', 'haz', 'hago', 'gustó', 'estábamos', 'esos', 'escaleras', 'entró', 'enfadado', 'empleo', 'digo', 'dicen', 'di', 'dejé', 'dejado', 'correo', 'corbata', 'concierto', 'computador', 'comenzó', 'clima', 'chaqueta', 'cayó', 'cartas', 'campo', 'béisbol', 'ayudarte', 'aquella', 'aire', 'afuera', 'aconsejó', 'abuelo', 'abogado', 'vuestro', 'vosotros', 'ves', 'verdaderamente', 'venido', 'vayas', 'universidad', 'tuyo', 'tráfico', 'tras', 'tierra', 'suficientemente', 'suele', 'sorpresa', 'sorprendió', 'sino', 'silla', 'serio', 'salvo', 'roto', 'robado', 'restaurante', 'responder', 'radio', 'quise', 'quedé', 'propio', 'propia', 'probablemente', 'presidente', 'preocupado', 'piso', 'pieza', 'peso', 'periódico', 'pasaporte', 'necesario', 'mil', 'mamá', 'maleta', 'londres', 'llorar', 'lleno', 'llegué', 'grandes', 'funciona', 'fuimos', 'favorito', 'evitar', 'estuviera', 'estudiando', 'estaría', 'enfermedad', 'e', 'doce', 'diga', 'despierto', 'desayunar', 'derecho', 'dedos', 'daño', 'creí', 'corriendo', 'correr', 'correcto', 'conocí', 'conoces', 'clases', 'cierra', 'cansada', 'botella', 'boca', 'bebe', 'banco', 'bailar', 'azul', 'ayudó', 'ayudarme', 'alegro', 'aeropuerto', 'abrigo', '2:30', 'Éste', 'vuelto', 'volveré', 'volverá', 'viven', 'varias', 'valor', 'unidos', 'toma', 'temo', 'taxi', 'sueldo', 'sorprendido', 'siguió', 'siente', 'sentó', 'sentí', 'sentado', 'rápidamente', 'respecto', 'repente', 'quitó', 'quiso', 'quedarte', 'pájaro', 'puse', 'puente', 'pudiera', 'prometió', 'promesa', 'profundamente', 'prefiero', 'pone', 'planes', 'parado', 'mediodía', 'mala', 'llegado', 'levantó', 'lamento', 'iré', 'intentando', 'inmediatamente', 'iglesia', 'hermanos', 'hacía', 'habéis', 'gustaba', 'futuro', 'fruta', 'flauta', 'europa', 'estados', 'escuchar', 'escritorio', 'esas', 'encuentro', 'empieza', 'echar', 'disparó', 'decirte', 'cuántas', 'contar', 'comió', 'come', 'color', 'cita', 'cerveza', 'cenar', 'casado', 'camisa', 'caballo', 'blanco', 'arreglar', 'animales', 'anciano', 'amo', 'acaba', 'abierta', '000', 'vuelve', 'vivimos', 'viajar', 'veía', 'varios', 'tuvimos', 'toca', 'tenías', 'teníamos', 'suena', 'sucedió', 'sintió', 'sentía', 'sala', 'romper', 'resultó', 'resto', 'respeto', 'raro', 'queso', 'querría', 'prueba', 'probable', 'popular', 'ponte', 'política', 'podéis', 'pescar', 'pesar', 'pensó', 'pedirle', 'pedir', 'paso', 'parís', 'paciente', 'paciencia', 'odia', 'nuevos', 'nuestras', 'novelas', 'niña', 'negocios', 'necesitaba', 'muerto', 'morir', 'montaña', 'merece', 'matemáticas', 'luces', 'llegue', 'llamaré', 'lentes', 'lavar', 'ladrón', 'isla', 'intentó', 'idioma', 'hiciera', 'herido', 'hará', 'hagamos', 'haces', 'haberlo', 'golf', 'gafas', 'fuerza', 'francia', 'esperanza', 'espalda', 'escrito', 'doble', 'dile', 'dijeron', 'dieron', 'dientes', 'diario', 'desayuno', 'deberían', 'corazón', 'conseguir', 'conocido', 'comprado', 'coger', 'cocinar', 'chicas', 'buenos', 'bosque', 'bonito', 'blanca', 'ascensor', 'arriba', 'armas', 'andar', 'abandonó', '3', 'ésta', '»', 'vuelva', 'viendo', 'vete', 'verlo', 'vayamos', 'trajo', 'traje', 'tomo', 'tomado', 'tenéis', 'tendremos', 'talento', 'suyo', 'supongo', 'sofá', 'silencio', 'seguridad', 'segundo', 'regresar', 'quizás', 'queréis', 'quedes', 'público', 'página', 'pueblo', 'proyecto', 'prisa', 'preparado', 'preocupes', 'poder', 'pocos', 'poca', 'pintura', 'pies', 'permiso', 'películas', 'patio', 'paseo', 'pase', 'pared', 'oscuro', 'olvides', 'obra', 'noticia', 'nosotras', 'normal', 'noches', 'nativo', 'naranja', 'muñeca', 'museo', 'menor', 'marido', 'maravilloso', 'madera', 'loco', 'llevo', 'llegamos', 'ley', 'lenguas', 'interesa', 'incluso', 'humor', 'hazlo', 'hacemos', 'habían', 'hables', 'haberle', 'guste', 'gana', 'fuiste', 'flores', 'escuchó', 'errores', 'enseñó', 'enfermera', 'elegir', 'echó', 'durmiendo', 'ducha', 'drogas', 'domingos', 'discusión', 'discurso', 'despacio', 'descanso', 'depende', 'darme', 'darle', 'dan', 'dado', 'cuatro', 'contó', 'confianza', 'comiendo', 'cogió', 'club', 'china', 'cerrada', 'centro', 'carrera', 'caminando', 'caliente', 'buscar', 'bajó', 'ayude', 'averiguar', 'aquellos', 'aparte', 'animal', 'anda', 'alta', 'alegra', 'abuela', 'abrir', 'abajo', '30', '10', 'útil', 'vuestra', 'vuelo', 'vivido', 'viento', 'verme', 'verdadero', 'traído', 'tratando', 'tratado', 'totalmente', 'tonto', 'tarta', 'tampoco', 'sueños', 'soportar', 'sonrió', 'sonrisa', 'soldados', 'situación', 'sepas', 'satisfecho', 'sano', 'sacó', 'sabías', 'sabemos', 'roja', 'rey', 'recuerda', 'recordar', 'rara', 'quedar', 'quedado', 'propuesta', 'principio', 'primavera', 'presentó', 'premio', 'pregúntale', 'preferiría', 'precios', 'posibilidad', 'platos', 'plato', 'pez', 'permitir', 'perfecto', 'perdón', 'pelota', 'peces', 'países', 'paró', 'partir', 'pan', 'otoño', 'olvidado', 'ojo', 'octubre', 'nueve', 'nervioso', 'negó', 'negro', 'necesitan', 'máquina', 'mitad', 'mentiroso', 'mentira', 'medianoche', 'mar', 'lápiz', 'luna', 'luego', 'llegaste', 'llega', 'licencia', 'jóvenes', 'juega', 'invitó', 'incendio', 'idiomas', 'ideas', 'hielo', 'hermanas', 'hacerte', 'habías', 'habrá', 'hablas', 'hablante', 'hablan', 'grupo', 'general', 'funeral', 'fría', 'fresco', 'formas', 'felices', 'extranjeros', 'explicó', 'esposo', 'especial', 'escribe', 'entrada', 'enseña', 'enorme', 'enferma', 'encontraron', 'encontrado', 'encima', 'echado', 'duró', 'dispuesto', 'dirá', 'derecha', 'dejaré', 'decirme', 'debí', 'deber', 'cuadro', 'costumbre', 'cortina', 'correcta', 'corre', 'contento', 'conocía', 'conocer', 'confiar', 'compraste', 'compras', 'comienza', 'cola', 'claramente', 'cien', 'cedió', 'castillo', 'cargo', 'capacidad', 'capaces', 'canciones', 'cambiar', 'brazo', 'bolígrafo', 'billetera', 'arma', 'apagar', 'anillo', 'andando', 'anciana', 'amable', 'agrada', 'actor', 'absoluto', 'Ésta', 'yenes', 'volumen', 'vivía', 'viviendo', 'vistazo', 'vender', 'vacía', 'uso', 'tímido', 'tuvieron', 'trabajan', 'trabajaba', 'tormenta', 'tomas', 'terrible', 'termina', 'tendrás', 'subió', 'sospechoso', 'sonó', 'solas', 'sois', 'sirve', 'simple', 'serás', 'sepa', 'sentarme', 'segura', 'seguido', 'saltó', 'saliendo', 'sabido', 'ridículo', 'revista', 'respondió', 'recibió', 'recibido', 'rechazó', 'real', 'querían', 'quedamos', 'pérdida', 'programa', 'profundo', 'principal', 'primos', 'prestado', 'preparando', 'preguntar', 'preguntaba', 'poniendo', 'político', 'podrá', 'pocas', 'pizza', 'pintar', 'piernas', 'pierna', 'pertenece', 'pegó', 'pareja', 'pantalones', 'oyó', 'otras', 'orgulloso', 'opción', 'oferta', 'números', 'nuevamente', 'nariz', 'míos', 'multitud', 'muebles', 'muchacho', 'motivo', 'mostró', 'mirar', 'miembros', 'metro', 'mejorando', 'mañanas', 'mapa', 'manzanas', 'manejar', 'malas', 'línea', 'llueve', 'lloviendo', 'llevó', 'llevas', 'llevará', 'llevan', 'llegará', 'llamé', 'llamaste', 'llamas', 'llamado', 'limpiar', 'leí', 'levanté', 'japonesa', 'izquierda', 'irá', 'iremos', 'interesado', 'intentar', 'intentado', 'increíble', 'imaginar', 'ibas', 'humanos', 'hubieras', 'hola', 'hojas', 'hermoso', 'hacen', 'hable', 'gusto', 'gordo', 'genio', 'galletas', 'fotografías', 'fondo', 'fiebre', 'famoso', 'extremadamente', 'explicación', 'estén', 'estudiado', 'estrellas', 'esquiar', 'esperó', 'escuché', 'escribiendo', 'escalera', 'entiende', 'enemigos', 'enemigo', 'elección', 'duerme', 'dudo', 'doy', 'dormitorio', 'diría', 'diré', 'dios', 'dieciocho', 'dices', 'destino', 'desperté', 'deporte', 'debido', 'debajo', 'dale', 'culpar', 'culpable', 'cuidadoso', 'cuidadosamente', 'cuerpo', 'cuerda', 'crimen', 'crecí', 'costó', 'coser', 'corto', 'corta', 'corrió', 'conversación', 'contrario', 'contacto', 'consiguió', 'consejos', 'consciente', 'conoció', 'conocen', 'confío', 'comí', 'comiste', 'comimos', 'cometer', 'comen', 'colores', 'cerrados', 'celoso', 'capital', 'cantante', 'cambió', 'cambio', 'cajón', 'cabo', 'bella', 'bebiendo', 'basura', 'asuntos', 'asumo', 'artículo', 'arte', 'arroz', 'aprendí', 'apoyo', 'apareció', 'apagó', 'ante', 'amigas', 'amiga', 'ama', 'admiro', 'adelante', 'acuerdas', 'actuando', 'actriz', 'acostumbrado', '«', 'york', 'vosotras', 'visité', 'viniste', 'viernes', 'viejos', 'viajó', 'veré', 'vemos', 'veinte', 'vecinos', 'veamos', 'valla', 'valiente', 'tuviera', 'través', 'tranquilo', 'trabajadores', 'tomé', 'tome', 'tocó', 'tocaba', 'tiro', 'tiempos', 'terminé', 'termine', 'temperatura', 'televisor', 'teatro', 'sábado', 'supone', 'supiera', 'supermercado', 'suicidó', 'sucio', 'subido', 'soñando', 'sopa', 'sonreír', 'sonar', 'siéntate', 'siglo', 'siesta', 'sientes', 'sienten', 'señal', 'servicio', 'serpientes', 'seriamente', 'sentada', 'sencillamente', 'seguros', 'salieron', 'salido', 'salida', 'salario', 'sabían', 'rompecabezas', 'robo', 'rió', 'riesgo', 'retrasó', 'respira', 'reputación', 'relación', 'regresó', 'regalos', 'recibiste', 'recibir', 'queráis', 'querido', 'puedas', 'propósito', 'productos', 'presente', 'pregunté', 'ponerse', 'pollo', 'podré', 'podamos', 'plata', 'planeo', 'planeas', 'placer', 'pasas', 'pagado', 'oscuridad', 'osaka', 'olvidó', 'olvidé', 'olvide', 'odian', 'ocurrido', 'ocurra', 'ocultando', 'objetivo', 'norte', 'negra', 'negocio', 'nadando', 'méxico', 'muéstrame', 'monte', 'molesto', 'modo', 'mirada', 'mintió', 'metió', 'memoria', 'mejores', 'medicina', 'mayores', 'mantuvo', 'mandé', 'lágrimas', 'lloró', 'llegaron', 'llamo', 'leyó', 'levantarme', 'letra', 'lee', 'lección', 'juzgar', 'jurado', 'junio', 'jugador', 'japoneses', 'jackson', 'invité', 'invitados', 'internet', 'intento', 'intentarlo', 'inmediato', 'informe', 'impedir', 'iguales', 'honor', 'hombro', 'historias', 'hierba', 'hicimos', 'hechos', 'harvard', 'hablado', 'hablaba', 'haberse', 'gritar', 'granja', 'gracioso', 'gastos', 'garganta', 'ganado', 'fácilmente', 'funcionar', 'fresca', 'fracaso', 'fotografía', 'fingió', 'fila', 'fecha', 'falso', 'facilidad', 'extra', 'explosión', 'excepto', 'estúpidas', 'estuviese', 'estudio', 'estudia', 'estrella', 'estarás', 'estampillas', 'esperaré', 'esperara', 'esperan', 'esperado', 'especialmente', 'español', 'espacio', 'escuchando', 'escucha', 'escritor', 'escribió', 'escribiré', 'escondiendo', 'escondido', 'equivocada', 'equipaje', 'envió', 'entra', 'entera', 'enseguida', 'encendió', 'encender', 'enamorado', 'empecé', 'emergencia', 'embargo', 'eligió', 'elegido', 'efectivo', 'déjeme', 'durmió', 'dormí', 'divirtiendo', 'despertado', 'deseando', 'descubrió', 'descansar', 'desapareció', 'desagradable', 'deprimido', 'dedo', 'decía', 'decirlo', 'debió', 'daré', 'darte', 'dando', 'cómodo', 'cárcel', 'cáncer', 'cuánta', 'cuáles', 'curso', 'cualquiera', 'cruzar', 'creía', 'creció', 'correos', 'convencer', 'control', 'contado', 'común', 'comprendo', 'comprarse', 'comprarle', 'comportamiento', 'cometido', 'comes', 'comemos', 'colina', 'colección', 'cogido', 'cocinó', 'cinturón', 'cincuenta', 'cierta', 'cierre', 'chatarra', 'cerró', 'cd', 'caído', 'caí', 'casas', 'casarse', 'casados', 'casada', 'carretera', 'caras', 'capitán', 'cantó', 'cansados', 'canadá', 'cambiado', 'c', 'breve', 'botas', 'borracho', 'bonita', 'bolsa', 'boda', 'besó', 'beso', 'bebida', 'bebes', 'batería', 'barato', 'ayudes', 'ayudara', 'asumí', 'arrestado', 'armario', 'aquello', 'apuesto', 'apariencia', 'agujero', 'agotado', 'afortunadamente', 'adoro', 'adentro', 'actual', 'actitud', 'aceptó', 'aceptar', 'accidentes', 'acabó', 'acabado', 'aburrido', 'abre', '5', '20', 'íbamos', 'éstos', 'éste', 'éstas', 'Éstos', 'zumo', 'web', 'vuestros', 'volvamos', 'voluntad', 'vivos', 'visita', 'violencia', 'vinieron', 'vine', 'verduras', 'venta', 'vendría', 'vendrás', 'vende', 'vecindario', 'vano', 'vacío', 'utiliza', 'urgente', 'u', 'tía', 'trozo', 'trigo', 'trece', 'traté', 'trato', 'trampa', 'traducir', 'trabajó', 'trabajé', 'tos', 'tomaré', 'toalla', 'timbre', 'texto', 'terremoto', 'terminará', 'tendría', 'tendré', 'temer', 'tele', 'tela', 'tarjeta', 'tareas', 'tanta', 'sábanas', 'sábados', 'suya', 'supuesto', 'suministros', 'sujeto', 'suicidio', 'sufrió', 'sudando', 'suceda', 'sombra', 'soldado', 'solar', 'sistema', 'sinceramente', 'significado', 'sentir', 'sentamos', 'sentados', 'sensible', 'según', 'segunda', 'seguida', 'salí', 'sacar', 'rodillas', 'rodeos', 'robó', 'rica', 'revés', 'retraso', 'resultar', 'resultados', 'resuelto', 'responsable', 'requiere', 'renuncié', 'regla', 'refrigerador', 'recuperó', 'recibí', 'razonable', 'rayo', 'quítese', 'química', 'quieto', 'querrías', 'querer', 'quede', 'quedara', 'pusieron', 'punta', 'puesta', 'puertas', 'profesores', 'primo', 'preparó', 'preguntarle', 'preferido', 'porqué', 'ponerte', 'poema', 'podríamos', 'podido', 'pluma', 'planta', 'piense', 'piel', 'piedra', 'petróleo', 'petición', 'pesca', 'pesado', 'permítame', 'perfectamente', 'perdone', 'pequeños', 'pensado', 'pelea', 'pedirte', 'pasatiempo', 'pasamos', 'partes', 'pareció', 'palacio', 'pagaré', 'oírlo', 'orgullosa', 'ordenador', 'orden', 'ocurre', 'ocupados', 'nombres', 'nivel', 'nieva', 'nevando', 'necesitar', 'necesidad', 'natural', 'mías', 'multa', 'muchacha', 'mover', 'moto', 'montañas', 'molesta', 'moda', 'mismos', 'mintiendo', 'millas', 'miles', 'menú', 'mente', 'melodía', 'mejorar', 'mató', 'matrimonio', 'mantente', 'maestra', 'lujo', 'lugares', 'lucía', 'llámame', 'llueva', 'llovido', 'llevaré', 'llegaría', 'llegara', 'listos', 'linda', 'librería', 'levantado', 'leo', 'leerlo', 'junto', 'juicio', 'jugo', 'juez', 'joyas', 'jazz', 'italia', 'irnos', 'invitación', 'interés', 'intenté', 'intención', 'inocente', 'ingenuo', 'india', 'incorrecta', 'improbable', 'impaciente', 'ilegal', 'idiota', 'huevo', 'hogar', 'hierro', 'hecha', 'hayas', 'harto', 'hambriento', 'hablé', 'hablás', 'hablemos', 'gustado', 'guapo', 'gris', 'grasa', 'graduó', 'gobierno', 'gastado', 'gas', 'gallina', 'física', 'fábrica', 'furioso', 'fuji', 'frase', 'flor', 'fe', 'falda', 'explicar', 'excelente', 'estuvieron', 'estudió', 'estilo', 'estalló', 'estabais', 'esquina', 'esperemos', 'esperas', 'esfuerzo', 'escuchaste', 'escuchado', 'escribí', 'esconder', 'escapar', 'equipos', 'entendí', 'enojado', 'engañó', 'enfadar', 'enfadada', 'encuentra', 'encontraste', 'enciende', 'encantan', 'enamorada', 'empleados', 'empezaron', 'empezado', 'ejercicio', 'educación', 'economía', 'ebrio', 'durar', 'dulce', 'dueño', 'duermo', 'duda', 'divertimos', 'distancia', 'disfrutamos', 'disculpa', 'dijera', 'dificultad', 'diferentes', 'diferencia', 'detuvo', 'detesto', 'despierta', 'despertó', 'deseo', 'desafortunadamente', 'deportes', 'delante', 'dejo', 'definitivamente', 'dedicó', 'decidir', 'debía', 'deben', 'daba', 'curiosidad', 'cumple', 'cuidar', 'crédito', 'creés', 'creen', 'cosecha', 'corte', 'copia', 'convencido', 'contarte', 'construido', 'considero', 'conjunto', 'confuso', 'conductor', 'conducido', 'condición', 'comúnmente', 'computadora', 'comprarlo', 'compañeros', 'comienzo', 'comenzar', 'comencemos', 'comas', 'colgó', 'coches', 'cobarde', 'chocolate', 'charlar', 'cercano', 'cenó', 'causó', 'casarte', 'casar', 'carnet', 'cantando', 'canta', 'caminaba', 'cambié', 'cambia', 'caluroso', 'calma', 'calcetines', 'caer', 'cachorro', 'cabello', 'caballos', 'bromas', 'broma', 'brazos', 'botón', 'bote', 'bomba', 'bolso', 'bolsillo', 'biólogo', 'bienvenida', 'belleza', 'bebí', 'bebo', 'barcos', 'baloncesto', 'bala', 'baile', 'ayúdame', 'ayudarnos', 'aviones', 'aumentado', 'atravesó', 'aspecto', 'asesinato', 'asesinado', 'aprobó', 'aprendiendo', 'aprendido', 'aprende', 'apartamento', 'ambulancia', 'amaba', 'alumnos', 'alquilar', 'almorzar', 'almohada', 'alma', 'alcohol', 'alcalde', 'agradecido', 'adonde', 'adolescentes', 'adecuado', 'acusó', 'acabas', 'absolutamente', 'absoluta', 'abierto', '40', 'últimos', 'íntimos', 'ése', 'zoológico', 'zanahorias', 'yendo', 'vámonos', 'vuestras', 'vuelvas', 'vuelvan', 'votaron', 'voló', 'volvía', 'volví', 'voluntario', 'volar', 'violento', 'viniera', 'viniendo', 'villa', 'vieron', 'viera', 'viajes', 'viaja', 'vestida', 'vertió', 'versión', 'vernos', 'verle', 'verdadera', 'ventanas', 'venid', 'venganza', 'vendrías', 'vendré', 'veloz', 'vegetarianos', 'vecino', 'vea', 'vasos', 'valle', 'vago', 'utilizar', 'usan', 'uniforme', 'término', 'tuya', 'tuviste', 'tumbado', 'tráeme', 'tropas', 'tratar', 'tratamiento', 'trataba', 'traicionó', 'trae', 'traductor', 'traduce', 'torre', 'tomates', 'tomarse', 'tomara', 'tomando', 'toco', 'tipos', 'tijeras', 'tesoro', 'terroristas', 'terminarlo', 'tenían', 'tentación', 'teniendo', 'tengan', 'tendrías', 'tendrá', 'teme', 'tema', 'tasa', 'tantos', 'sándwich', 'suyos', 'susurró', 'sushi', 'suficientes', 'suelto', 'sueles', 'suelen', 'sucedido', 'sucederá', 'subir', 'subiendo', 'suave', 'sostiene', 'sorprendidos', 'sorprendida', 'sopló', 'sonriendo', 'sonido', 'solos', 'solamente', 'social', 'sintieron', 'simpático', 'sigues', 'sienta', 'setenta', 'sesenta', 'seré', 'sentís', 'sentémonos', 'sentimientos', 'sentarse', 'sensación', 'sencillo', 'semejante', 'seguía', 'seguí', 'sed', 'secretos', 'secreta', 'salía', 'salvó', 'saludó', 'salto', 'salga', 'sales', 'saldrá', 'saca', 'sabio', 'sabia', 'saberlo', 'rusia', 'rompí', 'rojos', 'rojas', 'rodilla', 'roca', 'robar', 'riendo', 'reír', 'reunió', 'retiró', 'resumen', 'resultado', 'resulta', 'respirar', 'respetar', 'repugnante', 'representa', 'reparar', 'regrese', 'regaló', 'refugiados', 'redacción', 'recuperará', 'recordó', 'reciente', 'razones', 'ratón', 'racial', 'quédate', 'quiénes', 'quieran', 'quejas', 'quejarte', 'quejarse', 'queja', 'quedaré', 'quedan', 'pásame', 'párate', 'pájaros', 'pudimos', 'pudieras', 'príncipe', 'práctico', 'práctica', 'pruebas', 'propios', 'profunda', 'profesora', 'probó', 'probarlo', 'probar', 'probado', 'privado', 'prisión', 'principales', 'princesa', 'primeros', 'prevenir', 'pretendía', 'prestar', 'presentimiento', 'presentes', 'prepárate', 'preocuparse', 'preocupada', 'preocupa', 'preguntarte', 'preguntando', 'prefieres', 'precioso', 'practicando', 'pozo', 'posición', 'portón', 'pongo', 'ponga', 'ponerme', 'políticos', 'polvo', 'pobres', 'pobre', 'planeta', 'pistola', 'pintando', 'pides', 'picnic', 'pica', 'pesada', 'persiguieron', 'permitirme', 'permite', 'permanecer', 'perdimos', 'pensarlo', 'peligrosa', 'pelear', 'peleando', 'pedido', 'pedazo', 'pecho', 'pañuelos', 'patatas', 'pasto', 'pasear', 'pasarme', 'pasara', 'pasan', 'pasajeros', 'particular', 'parecen', 'parada', 'paquete', 'papas', 'palomitas', 'pagué', 'pagaste', 'oíste', 'oírte', 'oímos', 'oyes', 'oso', 'oscurezca', 'original', 'orejas', 'optimista', 'opina', 'operar', 'once', 'olvidar', 'olor', 'oh', 'oeste', 'ocurrir', 'ocasión', 'obtener', 'obsoleto', 'observar', 'obedecer', 'nuevas', 'noventa', 'nomás', 'noel', 'nevó', 'nerviosa', 'nervios', 'negar', 'necesitás', 'necesite', 'necesariamente', 'naturales', 'nadé', 'nado', 'nací', 'nación', 'móvil', 'mínimo', 'musical', 'muro', 'murieron', 'muriendo', 'mundial', 'muere', 'motor', 'mostrarte', 'mordió', 'monos', 'moneda', 'modelo', 'misión', 'miré', 'milla', 'miel', 'metido', 'metas', 'meta', 'mentir', 'mensajes', 'medicamento', 'mates', 'materna', 'materia', 'matado', 'martillo', 'marca', 'maquillaje', 'magnífica', 'lío', 'lástima', 'lápices', 'logrado', 'locura', 'lloverá', 'llorando', 'llevé', 'lleves', 'llevarme', 'llenó', 'llena', 'llegues', 'lleguemos', 'llego', 'llegas', 'llegada', 'llame', 'llamarme', 'llamaba', 'limpio', 'limpia', 'ligero', 'liberó', 'león', 'levanto', 'levantan', 'levanta', 'lentamente', 'lees', 'lavó', 'lavado', 'lastimas', 'largas', 'laptop', 'lanzó', 'lados', 'juguemos', 'jugaban', 'juegues', 'jersey', 'jaula', 'iría', 'irás', 'irte', 'inútil', 'invitaron', 'invitar', 'invitado', 'investigación', 'inventó', 'inténtalo', 'interpretó', 'intentos', 'intentaré', 'intenta', 'intenciones', 'inteligencia', 'insistió', 'inocencia', 'inmoral', 'inglaterra', 'inclinó', 'incidente', 'incapaz', 'impresionado', 'importaría', 'importar', 'importancia', 'impidió', 'imaginación', 'ignorancia', 'iban', 'humano', 'humanidad', 'huele', 'hoyo', 'horrible', 'hoja', 'hierbas', 'hayan', 'harías', 'harina', 'haremos', 'hacerse', 'hablamos', 'habilidad', 'haberme', 'guardar', 'guarda', 'grosero', 'gritó', 'gorda', 'golpe', 'gira', 'gerente', 'gentil', 'genial', 'gasté', 'ganaste', 'funcionando', 'fuertes', 'frigorífico', 'freno', 'frecuencia', 'francesa', 'florero', 'fines', 'fijado', 'felicidad', 'fea', 'familias', 'faltó', 'falló', 'extraña', 'extraterrestres', 'extranjeras', 'extranjera', 'expertos', 'existen', 'existe', 'excusa', 'evento', 'estúpida', 'estómago', 'estuviste', 'estudié', 'estudiamos', 'estemos', 'estate', 'estarías', 'estaremos', 'estadounidense', 'esperen', 'espacial', 'esfuerzos', 'escuelas', 'escuches', 'esconderse', 'escocia', 'esclavo', 'escenario', 'escasez', 'escape', 'escapando', 'equivocados', 'enviaré', 'enviar', 'entrado', 'entendido', 'ensalada', 'enojada', 'engañar', 'encontrarás', 'encontramos', 'encontraba', 'encerró', 'empresa', 'empleado', 'empiezan', 'empezando', 'empecemos', 'emociones', 'emocionante', 'emocionados', 'emocionado', 'embajada', 'elige', 'electricidad', 'ejército', 'echo', 'echa', 'ebriedad', 'dígame', 'débiles', 'dé', 'dormidos', 'documentos', 'documento', 'docena', 'distinta', 'distinguir', 'disponible', 'disculpas', 'director', 'diles', 'digan', 'dieta', 'devolvió', 'detenido', 'detenga', 'detener', 'detalles', 'destornillador', 'desprecia', 'despidieron', 'despertar', 'desocupado', 'desnudo', 'deshacer', 'deseos', 'descubrimiento', 'descubierto', 'desayunado', 'desafortunado', 'derechos', 'departamento', 'demasiada', 'deliciosa', 'delfines', 'deje', 'dejará', 'decile', 'decidí', 'decidiste', 'decepcionante', 'daños', 'date', 'das', 'dadme', 'cómoda', 'césped', 'cuán', 'cultura', 'cuestión', 'cubierta', 'cuaderno', 'cruzó', 'cruce', 'crecimiento', 'creas', 'cortó', 'cortar', 'corrí', 'convirtió', 'convertirse', 'conté', 'contratar', 'contestar', 'contener', 'construyó', 'construir', 'consigo', 'considerar', 'conservar', 'conseguiste', 'conozca', 'conociste', 'conocimiento', 'conocieron', 'conocerle', 'conocemos', 'conmovió', 'conferencia', 'condujo', 'conduje', 'conducta', 'conduce', 'concurso', 'concierne', 'compromiso', 'comprender', 'comprende', 'comprara', 'comidas', 'cometa', 'comamos', 'coma', 'collar', 'coge', 'cocinero', 'cocinera', 'cocinando', 'clara', 'ciudadano', 'cirugía', 'cima', 'científicos', 'científico', 'ciento', 'ciencia', 'chiste', 'chinos', 'chillido', 'cerrará', 'cerrar', 'cavando', 'cartera', 'caridad', 'cantidad', 'cancelar', 'canadienses', 'campana', 'camión', 'camina', 'cambies', 'calvo', 'callar', 'callado', 'calefactor', 'cabra', 'caballero', 'búhos', 'busqué', 'buscó', 'buscaba', 'bromeando', 'brisa', 'brillante', 'brasil', 'borde', 'bonitos', 'bolígrafos', 'blancos', 'bienvenido', 'besándose', 'bebido', 'bastón', 'barrio', 'barca', 'bar', 'bandera', 'bajar', 'baja', 'aéreo', 'azules', 'ayudando', 'avergonzarse', 'autos', 'autoridad', 'autor', 'autopsia', 'ausencia', 'aun', 'aumento', 'atrasado', 'atrapó', 'atrapado', 'atento', 'astuto', 'astronauta', 'aspectos', 'asistir', 'asistieron', 'asesino', 'aseguro', 'arrogante', 'arrestó', 'arrepentirás', 'arreglarlo', 'arena', 'arbusto', 'arañas', 'aquél', 'apuesta', 'aproximadamente', 'aprobar', 'aprendiste', 'aprecio', 'apoyó', 'apostar', 'apetece', 'aparentaba', 'apague', 'apagado', 'antigua', 'ancho', 'américa', 'americano', 'ambiente', 'ambas', 'amas', 'amarillas', 'amargo', 'amamos', 'alérgica', 'alturas', 'altos', 'alternativa', 'almorzamos', 'alimentos', 'alguno', 'alemania', 'alegría', 'alarma', 'aguantar', 'agradecerte', 'agente', 'agarró', 'aficionado', 'afecta', 'adultos', 'acuerda', 'acostumbrada', 'acostar', 'acompaño', 'acercó', 'acento', 'aceite', 'acción', 'acciones', 'accidentalmente', 'acabar', 'abuelos', 'abandonar', 'abandonado', '50', '300', '2', '150', 'únicos', 'únicas', 'últimas', 'últimamente', 'órdenes', 'época', 'énfasis', 'ático', 'áreas', 'álbum', 'ágil', 'Ésa', 'Ángeles', 'África', 'zoo', 'zelanda', 'yogur', 'yate', 'windows', 'washington', 'vístete', 'vídeo', 'víctimas', 'vuelvo', 'vuelven', 'votar', 'volviera', 'volviendo', 'volvería', 'volverme', 'voluntarios', 'volcán', 'volando', 'vivirá', 'viva', 'vitamina', 'vistos', 'vistieron', 'visito', 'visitaste', 'visitará', 'visitarle', 'visitaremos', 'visitado', 'virus', 'violenta', 'vinieras', 'vienes', 'viejas', 'viajo', 'viajamos', 'veían', 'veámonos', 'vestidos', 'verse', 'verlos', 'vergüenza', 'veremos', 'veredicto', 'verdes', 'veras', 'veníos', 'venía', 'ventaja', 'vengo', 'vengas', 'vengan', 'venenosas', 'vendí', 'vendréis', 'vendrán', 'vendo', 'vendió', 'vendido', 'vela', 'veintidós', 'vegetariano', 'vegetales', 'variables', 'valijas', 'vais', 'vainilla', 'vaga', 'vacías', 'vaca', 'usó', 'usual', 'use', 'usarlo', 'usando', 'urbanas', 'universo', 'universitario', 'universitaria', 'universal', 'ubica', 'túnel', 'título', 'tírame', 'típicos', 'tv', 'turno', 'turistas', 'truco', 'trozos', 'trotar', 'triunfar', 'tribunal', 'trenes', 'traía', 'trates', 'trataste', 'tratamientos', 'trasladada', 'tranquilízate', 'traigan', 'traiga', 'traducción', 'trabajos', 'trabajes', 'toyota', 'tortugas', 'tortas', 'toro', 'toqué', 'toque', 'tonterías', 'tontería', 'tonta', 'tomá', 'tomaste', 'tomará', 'tomaron', 'toman', 'tolerante', 'tokyo', 'tocas', 'tocando', 'tires', 'tildaron', 'tigre', 'tierras', 'tiende', 'testigo', 'test', 'terror', 'termines', 'terminemos', 'terminamos', 'tentado', 'tenista', 'tenerte', 'tenedor', 'temporal', 'temporada', 'temor', 'temblaba', 'telefonear', 'techo', 'taxista', 'tarda', 'tapa', 'tamaño', 'taburetes', 'tabla', 'tabaco', 'sírvase', 'símbolo', 'sándwiches', 'sur', 'supuse', 'supiste', 'supervivientes', 'super', 'sumas', 'sumamente', 'sujetó', 'suizos', 'sugirió', 'sugiero', 'sugerencia', 'sufrir', 'sueña', 'sueldos', 'sudamérica', 'sucesor', 'sucede', 'subestimes', 'sube', 'subas', 'soñar', 'sorprendimos', 'sorprende', 'sordo', 'sonando', 'solución', 'solucionó', 'solucionar', 'soltero', 'soltera', 'solicitó', 'soda', 'sociedad', 'sociales', 'sobrevivir', 'sobrevivieron', 'sobrevivido', 'situado', 'singapur', 'sincero', 'simpatía', 'similares', 'similar', 'sillas', 'silbando', 'siguieron', 'siguiendo', 'sigo', 'sigamos', 'shock', 'señas', 'señales', 'severa', 'servir', 'serpiente', 'serlo', 'serios', 'serie', 'seres', 'separó', 'sentimos', 'sentimiento', 'sentarte', 'sentaron', 'sentarnos', 'semestre', 'selena', 'seguramente', 'segundos', 'seguidos', 'sediento', 'seda', 'secundaria', 'sector', 'seca', 'seamos', 'saxofón', 'saxo', 'saqué', 'sangre', 'sangra', 'salúdame', 'salón', 'salvar', 'salvado', 'saludos', 'saludable', 'saliera', 'salgo', 'salgas', 'sacara', 'sacando', 'sacado', 'sabés', 'sabría', 'sabroso', 'ríes', 'rápidos', 'rápida', 'ruso', 'ruidosa', 'ruego', 'rubio', 'rubia', 'rota', 'rosas', 'ropas', 'roosevelt', 'roncar', 'rompería', 'rollo', 'rodeado', 'rock', 'rocas', 'robot', 'roble', 'robaron', 'robando', 'risa', 'riqueza', 'riesgos', 'rieron', 'ridiculiza', 'ricos', 'reírme', 'revuelto', 'revistas', 'retrasado', 'respondiendo', 'respiro', 'resolvió', 'resolverlo', 'reserva', 'resbaloso', 'reproductor', 'reporte', 'repetirá', 'renunciar', 'remera', 'remedio', 'religión', 'relativamente', 'relajarte', 'reina', 'rehusó', 'regresamos', 'regresado', 'región', 'refugio', 'redes', 'red', 'recurrir', 'recuperar', 'recordarte', 'reconozco', 'reconocí', 'recogió', 'recibe', 'rechazar', 'receta', 'raras', 'raqueta', 'quédese', 'quitarme', 'quitar', 'quince', 'quienquiera', 'quema', 'quejó', 'quedo', 'quedemos', 'quedará', 'quedaron', 'quedarnos', 'quedaras', 'quedando', 'quedaba', 'pública', 'póquer', 'pésimo', 'pésima', 'pásenla', 'puño', 'pusiste', 'pusimos', 'puntual', 'pulsar', 'pulmón', 'puestos', 'pues', 'pudiste', 'pudieron', 'pruébate', 'provocaba', 'provisiones', 'protegerlos', 'proteger', 'protección', 'prosigamos', 'proposición', 'proporcionó', 'propiedad', 'pronóstico', 'pronuncia', 'prometí', 'prometo', 'prometedor', 'prohíbe', 'prohibido', 'progresando', 'profesional', 'producto', 'proceso', 'privada', 'prisioneros', 'prisionero', 'primas', 'previsto', 'prestó', 'prestando', 'presta', 'presión', 'presionó', 'prepararé', 'preocupados', 'premios', 'prefiere', 'preferís', 'precaución', 'postura', 'pospondré', 'poseía', 'portugal', 'portero', 'poquito', 'populares', 'pony', 'pongamos', 'pondrás', 'políticas', 'polo', 'policías', 'podíamos', 'podrían', 'podrás', 'plutón', 'plumas', 'plena', 'plantando', 'planeando', 'planea', 'planchar', 'plana', 'piénsalo', 'pizarra', 'pisó', 'pistolas', 'pistas', 'pisos', 'pintó', 'pintado', 'pinta', 'pimienta', 'piloto', 'pilló', 'pilchas', 'pijama', 'pierdas', 'piedras', 'pidiendo', 'pesa', 'pertenezco', 'personalmente', 'personalidad', 'personales', 'personal', 'persigue', 'perseguir', 'permitiré', 'permitirlo', 'permites', 'permanente', 'periodista', 'perdonará', 'perdonado', 'perdona', 'perdieron', 'perderás', 'pendientes', 'pelos', 'peligrosos', 'pegado', 'pega', 'pediste', 'pedirme', 'pedimos', 'pavo', 'pausa', 'patético', 'patinar', 'patinaje', 'pasaría', 'pasaré', 'pasará', 'pasaron', 'pasajero', 'pasaje', 'pasaba', 'partió', 'partida', 'participar', 'participantes', 'park', 'parientes', 'parezca', 'parejas', 'paredes', 'parecer', 'pare', 'parcial', 'pagó', 'pagaron', 'paga', 'oídos', 'oyeron', 'oxígeno', 'ordenó', 'ordenadores', 'oración', 'opone', 'operación', 'opciones', 'olvidaré', 'olvidarnos', 'ojeada', 'oigo', 'oigas', 'ofreció', 'oficiales', 'ocurren', 'ocuparme', 'ocupar', 'ocultó', 'ocultar', 'ochenta', 'ocasiones', 'obviamente', 'obtuvo', 'obtuve', 'observó', 'observaron', 'observando', 'obsequio', 'objetos', 'objetivos', 'nuclear', 'nublado', 'nubes', 'nube', 'novios', 'novelista', 'notó', 'norteamérica', 'norma', 'nochebuena', 'nixon', 'niveles', 'nevera', 'nevar', 'nerviosos', 'nerviosas', 'negros', 'negras', 'negociación', 'neblina', 'navegar', 'nave', 'nativa', 'naranjas', 'nadador', 'naciste', 'músico', 'mírame', 'míralo', 'muñecas', 'mutuamente', 'mutua', 'museos', 'muros', 'muriera', 'muevas', 'muertos', 'muerta', 'muero', 'muerde', 'muerdas', 'muela', 'mudó', 'muchachas', 'mostré', 'mostraré', 'mostrame', 'moral', 'montar', 'mono', 'molestes', 'molesten', 'molestarte', 'mochila', 'mirá', 'miro', 'mires', 'miramos', 'miraba', 'ministro', 'millón', 'milagro', 'miente', 'microondas', 'metálico', 'metros', 'meterme', 'merezca', 'merecía', 'mercado', 'mentirte', 'mentido', 'mentalizado', 'mejore', 'mejorado', 'mejilla', 'medir', 'medida', 'medias', 'medalla', 'maíz', 'mayúsculas', 'materno', 'mate', 'mataste', 'matarte', 'mata', 'masticar', 'masiva', 'marzo', 'martes', 'marchó', 'marchado', 'maravillosas', 'maravillosa', 'manual', 'manténgase', 'mantén', 'mantequilla', 'mantendría', 'manteca', 'manipulador', 'mando', 'mancha', 'malgastes', 'mahoma', 'mahjong', 'lógica', 'líneas', 'líder', 'lávate', 'lárgate', 'lácteos', 'luce', 'lotería', 'logrará', 'locos', 'local', 'loca', 'llévate', 'lluvioso', 'llores', 'llora', 'lleve', 'llevarse', 'llevaron', 'llenos', 'llegarás', 'llegaremos', 'llegando', 'llegan', 'llames', 'llamarte', 'llamadas', 'llamada', 'linterna', 'lindo', 'limpió', 'limpios', 'ligeramente', 'licenciado', 'libra', 'libertad', 'leíste', 'leía', 'leyenda', 'levántate', 'levantas', 'levantarse', 'levantar', 'lento', 'lejanos', 'lectura', 'lavé', 'lavá', 'lavadora', 'lava', 'latín', 'lata', 'lastimó', 'lastimaría', 'lastimado', 'lamentaba', 'laguna', 'ladrones', 'ladrar', 'ladraba', 'labios', 'labio', 'kioto', 'kilómetros', 'juró', 'juramento', 'jugaste', 'jugamos', 'jugaba', 'jueguen', 'juegos', 'juan', 'japonesas', 'izquierdo', 'irrelevante', 'iros', 'ira', 'involucres', 'involucrarte', 'invita', 'invento', 'intuición', 'intersección', 'interrumpas', 'interrogado', 'internacional', 'interesantes', 'interesan', 'interesados', 'intentes', 'inteligentes', 'instrumento', 'inspiración', 'insensible', 'inmediata', 'injusto', 'ingresó', 'ingenuos', 'ingeniero', 'informarte', 'independiente', 'indeciso', 'incorrecto', 'inconsciente', 'incompetente', 'incluyendo', 'incluido', 'inclinando', 'impuestos', 'imprudente', 'importaba', 'imaginé', 'imagino', 'imagina', 'ignorar', 'identificar', 'identidad', 'ida', 'id', 'huyó', 'humo', 'humana', 'huelga', 'huelen', 'hoteles', 'horno', 'horneó', 'honores', 'honesto', 'honestidad', 'hollywood', 'hilo', 'hidrógeno', 'hicisteis', 'hiciese', 'hicieras', 'herí', 'hermosos', 'heridas', 'herida', 'heredar', 'heladera', 'helada', 'hayamos', 'hawái', 'harán', 'hambrienta', 'halloween', 'haití', 'hagámoslo', 'hagáis', 'hagan', 'hacían', 'hacerme', 'hacerle', 'habérmelo', 'habré', 'hablaré', 'hablarme', 'hablara', 'hablaban', 'habitual', 'habitaciones', 'habido', 'guárdame', 'gustes', 'gustas', 'gustará', 'guerrero', 'guardeses', 'guardado', 'guantes', 'gritándole', 'grillo', 'grecia', 'grave', 'granjeros', 'grados', 'gotas', 'gomez', 'generalizaciones', 'generación', 'gemelos', 'gemelo', 'gastó', 'gastando', 'gané', 'ganamos', 'galaxias', 'fíes', 'fáciles', 'futbolista', 'funcione', 'funcionará', 'fumo', 'fumen', 'fuisteis', 'fugaz', 'fuese', 'fueran', 'fuente', 'frotó', 'frontera', 'frecuentemente', 'frases', 'fracturó', 'fracasado', 'forzados', 'fortuna', 'formal', 'ford', 'fluidez', 'flotando', 'flaco', 'firmó', 'firmemente', 'finjamos', 'fingía', 'fijo', 'fijamente', 'fiestas', 'feo', 'fbi', 'fascinante', 'fantasmas', 'fantasma', 'famosos', 'famosa', 'familiares', 'fallaron', 'facebook', 'exámenes', 'extraños', 'extraordinario', 'expresar', 'exposición', 'explícamelo', 'exploradores', 'explicarías', 'experto', 'experimento', 'exige', 'excursión', 'exacto', 'evito', 'evidencia', 'etiqueta', 'estuvimos', 'estufa', 'estatua', 'estaríamos', 'estanque', 'estallar', 'estadounidenses', 'estaciones', 'estacionamiento', 'esquí', 'espía', 'espeso', 'esperé', 'esperás', 'esperábamos', 'esperanzas', 'esperabas', 'espejo', 'escucho', 'escucharon', 'escríbeme', 'escribo', 'escribirle', 'escondió', 'escondidos', 'esconde', 'esclavos', 'escena', 'escapó', 'escaparon', 'escalar', 'escalamos', 'equivoqué', 'envío', 'entrenador', 'entreguen', 'entiendes', 'entendiste', 'entenderéis', 'entenderlo', 'enséñeme', 'enséñame', 'enseñé', 'enseño', 'enseñaré', 'enseñarte', 'enseñarme', 'enseñar', 'enseñaba', 'enjuagó', 'engañes', 'enfrentar', 'enfadados', 'energía', 'endeudado', 'encontrarte', 'encontrarse', 'encontrarlo', 'encargué', 'encantó', 'encantar', 'encantadora', 'encantado', 'empiece', 'empeorar', 'empeorando', 'empapado', 'emoción', 'embajador', 'eléctrico', 'elogió', 'eliminar', 'eligieron', 'elevados', 'elegirle', 'elefante', 'electrónico', 'electrones', 'elecciones', 'ejemplo', 'ejecutado', 'egoísta', 'efectos', 'efecto', 'echarme', 'echaras', 'e-mail', 'dólar', 'dímelo', 'dí', 'dámelo', 'dure', 'dulces', 'dudas', 'duchas', 'dondequiera', 'domina', 'dolores', 'doctores', 'doctora', 'doblar', 'divorcio', 'divorciarse', 'distintos', 'distinguen', 'diste', 'dispongo', 'disparos', 'disparar', 'disneylandia', 'disimula', 'disfrutó', 'disfrutar', 'disfruta', 'discutí', 'discutirlo', 'discutir', 'discutiendo', 'discutamos', 'discuta', 'disculpó', 'disculparse', 'disculparme', 'discriminación', 'disco', 'dirigido', 'dirigida', 'directo', 'dimos', 'dilo', 'dijo:', 'dificultades', 'diera', 'dibujo', 'dibuja', 'diamante', 'devuélveme', 'devuelto', 'devolví', 'devolver', 'deudas', 'detén', 'desvaneció', 'destruido', 'despidió', 'despertarme', 'despegó', 'despegar', 'despedido', 'despedida', 'desmayó', 'desempleado', 'desearías', 'desea', 'descubrir', 'descripción', 'describirlo', 'descartar', 'desaparecido', 'desafío', 'derrumbó', 'dentista', 'democracia', 'demandó', 'demanda', 'delitos', 'delicioso', 'delfín', 'delegados', 'dejen', 'dejaste', 'dejas', 'dejaría', 'dejarlos', 'dejarlo', 'dejara', 'defender', 'dedica', 'decírselo', 'declinó', 'declaró', 'declaración', 'decisiones', 'decidieron', 'decepción', 'decepciones', 'decepcionaré', 'decepcionar', 'decepcionado', 'decente', 'debían', 'debiste', 'debilidad', 'debiera', 'debamos', 'deba', 'darás', 'darse', 'darnos', 'dama', 'círculo', 'cántaros', 'cállate', 'cálido', 'cálida', 'cuñado', 'cuéntame', 'curioso', 'curar', 'cura', 'cumplir', 'cumbre', 'cultiva', 'culparía', 'cuidó', 'cuida', 'cuestan', 'cuero', 'cuento', 'cuentas', 'cuello', 'cucarachas', 'cubos', 'cubierto', 'cuarenta', 'cuantas', 'cuadra', 'cruz', 'crió', 'cristianos', 'cristal', 'criminales', 'criaron', 'criada', 'creó', 'creyó', 'crema', 'creerá', 'creemos', 'crecimos', 'crecido', 'crecer', 'costumbres', 'costará', 'costar', 'costado', 'cosita', 'cortinas', 'cortado', 'coro', 'coreano', 'corea', 'cordones', 'coraje', 'copas', 'convenció', 'convencerle', 'contrólate', 'controlar', 'contrato', 'contraseña', 'contrajo', 'continuó', 'continué', 'continuar', 'contiene', 'contentos', 'contenta', 'contenido', 'contando', 'contagioso', 'contactaré', 'contactar', 'consígueme', 'consumo', 'consume', 'consultar', 'construcción', 'consigas', 'consiga', 'consideran', 'considerado', 'conseguí', 'conseguiré', 'conseguido', 'consecuencias', 'consecuencia', 'consciencia', 'conocías', 'conocés', 'conocida', 'conocerte', 'conmovido', 'confía', 'confundió', 'confunde', 'confirmó', 'conejo', 'condujera', 'conduciendo', 'conduces', 'condiciones', 'conclusión', 'concentrarse', 'concentrarme', 'comía', 'comunican', 'compro', 'compre', 'compraron', 'comprarme', 'compramos', 'compra', 'complicado', 'completo', 'comparto', 'comparada', 'cometió', 'comerías', 'comercial', 'comenzado', 'comentario', 'colón', 'colgado', 'colectivo', 'coja', 'coincidencia', 'codo', 'cocinará', 'cochera', 'clásica', 'clave', 'claros', 'ciudades', 'ciudadanos', 'cisterna', 'cirujano', 'circunstancias', 'circo', 'cinta', 'cigarro', 'cientos', 'chulo', 'chocó', 'chistes', 'chismorrear', 'chimenea', 'chicle', 'cheques', 'cheque', 'che', 'charlando', 'cerrara', 'cerrado', 'ceremonia', 'cercana', 'cené', 'ceno', 'cementerio', 'celosa', 'ceja', 'cebolla', 'caña', 'cayera', 'causar', 'causada', 'casco', 'casaron', 'carácter', 'carros', 'carreras', 'carné', 'cariñoso', 'cargar', 'carga', 'carbón', 'capturó', 'captar', 'capacidades', 'canto', 'cantara', 'cantaba', 'cancelado', 'canales', 'campera', 'campaña', 'campamento', 'camisas', 'caminata', 'camellos', 'cambiaron', 'cambiando', 'camarero', 'calles', 'calificaciones', 'calentando', 'cajita', 'cae', 'cadáver', 'cacahuates', 'cables', 'bélgica', 'busco', 'buscamos', 'busca', 'burro', 'burló', 'brújula', 'bronca', 'bromea', 'bowl', 'borrachos', 'bolsillos', 'boleto', 'bochorno', 'biblia', 'besaste', 'besarte', 'besaron', 'besar', 'berlín', 'bello', 'bebáis', 'bebió', 'bañarme', 'base', 'basada', 'barbería', 'banda', 'bancaria', 'banca', 'bajando', 'bajamos', 'bailaba', 'azotó', 'ayúdeme', 'ayudé', 'ayuden', 'ayudaste', 'ayudarlo', 'ayudado', 'avergonzado', 'aventón', 'ave', 'avance', 'automáticamente', 'ausente', 'aula', 'atributos', 'atrapar', 'aterrorizado', 'atentamente', 'atascado', 'atascada', 'ataque', 'atada', 'asustarte', 'asustado', 'asusta', 'astuta', 'aspirina', 'asombroso', 'asistente', 'asintió', 'asignatura', 'asesinó', 'asegúrate', 'aseguró', 'asegurarte', 'asegura', 'asco', 'arruinar', 'arriesgó', 'arriesgarnos', 'arriesgado', 'arrestos', 'arrepiento', 'arregle', 'arreglaron', 'arreglado', 'arranca', 'aritmética', 'ardiendo', 'araña', 'apúrensen', 'apurar', 'apurados', 'apuntó', 'apuntes', 'apunta', 'apropiada', 'apretar', 'aprendo', 'aprenderá', 'aprendemos', 'apreciamos', 'apostaría', 'aplicado', 'aplicación', 'apetito', 'apellido', 'apariencias', 'aparentemente', 'aparenta', 'aparecerá', 'aparcado', 'apaga', 'anzuelo', 'antigüedades', 'animó', 'andá', 'ando', 'andes', 'andas', 'andan', 'ancianos', 'americanos', 'amará', 'amarillo', 'amar', 'amanecer', 'alérgico', 'alza', 'alumno', 'altura', 'alquiler', 'almorzado', 'alivio', 'aliviado', 'alimenta', 'aliento', 'alice', 'aliados', 'alfombra', 'alerta', 'alemán', 'alcanzar', 'ajena', 'ahorrar', 'ahorrando', 'aguja', 'aguardó', 'agricultura', 'agradezco', 'agradeció', 'agarré', 'afueras', 'afortunados', 'afortunado', 'afortunada', 'afilado', 'afición', 'aduana', 'adoptado', 'admitió', 'admira', 'adivina', 'adinerada', 'adicto', 'además', 'adelantado', 'adelanta', 'adaptarse', 'acusaron', 'acusación', 'acuesto', 'actúa', 'actualmente', 'acostarme', 'acordeón', 'acordaron', 'acordar', 'acepto', 'aceptable', 'abusa', 'aburrimiento', 'absurdo', 'abrirá', 'abrirla', 'abrieron', 'abrazar', 'abras', 'abra', 'abiertos', 'abeja', 'abducido', 'abandonaron', 'abandonada', '8', '6', '25', '20%', '1960', '1939', '1933', '18', '100', '1', '\\u200b\\u200bfue', 'útiles', 'únicamente', 'ópera', 'íntima', 'ético', 'ésos', 'ésa', 'éramos', 'élite', 'átomos', 'átomo', 'áspera', 'área', 'árbitro', 'árabes', 'árabe', 'ápice', 'ánimo', 'ángulos', 'ácidos', 'ácida', 'Órale', 'Ólvidalo', 'Éstas', 'Ése', 'Éramos', 'Échate', 'Échame', 'Échale', 'Átate', 'Ánimo', '´´es', '«sí', '«no', '«ha', 'zúrich', 'zurdos', 'zumbido', 'zuecos', 'zorreando', 'zona', 'zarpó', 'zapato', 'zapatería', 'zancudo', 'zancadilleó', 'zambulló', 'zambullimos', 'yokohama', 'yardas', 'yale', 'yacía', 'xvii', 'xv', 'xix', 'wripple', 'wonder', 'whistle', 'whisky', 'vóleibol', 'vídeos', 'víctima', 'vías', 'vénganse', 'váyase', 'váter', 'válvula', 'vulnerable', 'vuelves', 'vuelos', 'voto', 'votarás', 'vota', 'vomitó', 'vombátidos', 'volváis', 'volviste', 'volvieron', 'volvieras', 'volverán', 'volvemos', 'volved', 'voluntaria', 'voltear', 'volante', 'vocación', 'vocabulario', 'vivís', 'vivías', 'vivió', 'viviste', 'viviré', 'vivieron', 'vives', 'viuda', 'vital', 'visítenos', 'visítame', 'vistió', 'visión', 'visitó', 'visitas', 'visitaré', 'visitarte', 'visitarlo', 'visitantes', 'visitan', 'visitaba', 'visibles', 'visiblemente', 'visados', 'visa', 'virtud', 'viniese', 'vinieran', 'villancicos', 'vii', 'vigésimo', 'vigilar', 'vigilado', 'vientos', 'viena', 'vidrio', 'videojuegos', 'videograbadora', 'videocámara', 'video', 'viajáis', 'viajeros', 'viajante', 'viajando', 'viajan', 'veíamos', 'veterinario', 'veterinaria', 'vestíbulo', 'vestían', 'vestí', 'vestirse', 'verá', 'vertí', 'verrugas', 'veros', 'verles', 'verlas', 'vergonzoso', 'vergonzosa', 'verdaderos', 'veranos', 'venías', 'venían', 'veníamos', 'ventanilla', 'ventajas', 'vengáis', 'veneno', 'vendiste', 'vendieron', 'vendiendo', 'venderé', 'vendedor', 'vendaje', 'vendados', 'venceréis', 'vencerás', 'vence', 'velocidad', 'velitas', 'vejestorio', 'veintiún', 'veinticinco', 'vehículo', 'veas', 'vayámonos', 'vayan', 'vasto', 'variedad', 'vaqueros', 'vaporiza', 'vanidoso', 'vampiros', 'valía', 'valores', 'valientes', 'valgo', 'valga', 'valentía', 'valen', 'vagón', 'vacíos', 'vacuna', 'vació', 'vacas', 'uñas', 'uvas', 'utilizan', 'usás', 'usuario', 'usualmente', 'usb', 'usaste', 'usaré', 'usamos', 'usado', 'usada', 'usaba', 'urss', 'urgentes', 'unírmeles', 'unió', 'unirán', 'unirse', 'unir', 'uniformes', 'unieras', 'uniera', 'unido', 'unidad', 'unes', 'umbral', 'ultra', 'ubicarme', 'túmbate', 'tómese', 'tómate', 'tócala', 'típica', 'tímida', 'tías', 'técnicos', 'twitter', 'twain', 'tuyos', 'tuyas', 'tuviese', 'tuvieras', 'tubo', 'tuberías', 'trébol', 'tránsito', 'tráguelo', 'tráete', 'trueno', 'trucos', 'trotando', 'trota', 'tropezó', 'tropecé', 'trono', 'trofeo', 'triunfe', 'tripulación', 'tripa', 'trimestre', 'trimestral', 'triatlón', 'trescientos', 'treparse', 'trepar', 'trecho', 'trayendo', 'travieso', 'trataron', 'trataras', 'tratara', 'trasladar', 'trasero', 'transporte', 'transportarla', 'transportar', 'transpiración', 'transmitidas', 'transmiten', 'transfirió', 'transbordador', 'tranquilos', 'tranquillo', 'tranquilizarte', 'tranquilizarme', 'tranquilidad', 'tranquilamente', 'tranquila', 'trampas', 'trajiste', 'trajes', 'trajera', 'traidor', 'traicionada', 'trago', 'tragedia', 'tragarla', 'tragaluz', 'traería', 'traeré', 'traer', 'traed', 'traduzcas', 'tradujo', 'tradujera', 'traductores', 'traducirías', 'traducirme', 'traducida', 'traducciones', 'tractores', 'tractor', 'trabaje', 'trabajaremos', 'trabajara', 'trabajamos', 'trabajado', 'traba', 'total', 'tosté', 'tostadora', 'tosió', 'toser', 'torturaron', 'toros', 'tornó', 'toques', 'toquemos', 'topó', 'toparon', 'topado', 'tontos', 'ton', 'tomémoslo', 'tomémonoslo', 'tomátelo', 'tomárnoslo', 'tomándolo', 'tomes', 'tomemos', 'tomaría', 'tomarte', 'tomarnos', 'tomarme', 'tomarle', 'tomaremos', 'tomamos', 'tomad', 'toleré', 'tocáis', 'tocaste', 'tocarás', 'tocarme', 'tocarlo', 'tocan', 'tocado', 'tocada', 'toallas', 'tiñó', 'tiza', 'titanic', 'tiró', 'tirándose', 'tiras', 'tirar', 'tirado', 'tipeando', 'tinto', 'tinta', 'tina', 'tin', 'tijera', 'tigres', 'tifón', 'tientas', 'tiendo', 'tiendas', 'tiburón', 'tibia', 'thomas', 'teñida', 'texas', 'testificó', 'testaruda', 'testamento', 'tesoros', 'terrorismo', 'terribles', 'terriblemente', 'terremotos', 'termómetro', 'termitas', 'terminémoslo', 'terminándolo', 'termino', 'terminen', 'terminaste', 'terminas', 'terminaré', 'terminando', 'terminada', 'tercera', 'tercas', 'tenue', 'tentáculos', 'tentando', 'tenso', 'tengamos', 'tenerlos', 'tenerlo', 'teneme', 'tenedlo', 'tened', 'tendrán', 'tendió', 'tendencias', 'tendemos', 'tenacillas', 'temían', 'temprana', 'templo', 'temple', 'tempestades', 'temperamento', 'temores', 'temes', 'temerarias', 'temblar', 'temblaban', 'telescopio', 'telegrama', 'telefoneó', 'tejió', 'tejado', 'tecnologías', 'tecnología', 'teclear', 'teclado', 'tecla', 'tazas', 'taxistas', 'tasas', 'tartas', 'tartamudeas', 'tarjetas', 'tarifa', 'tardó', 'tarde-noche', 'tardar', 'tantas', 'tango', 'tangibles', 'tambor', 'taló', 'talla', 'tales', 'talentosa', 'talar', 'tailandesa', 'tacaño', 'taburete', 'tablas', 'súbete', 'súbase', 'sótano', 'sólida', 'sírvame', 'sígueme', 'síguelo', 'síganlo', 'séptimo', 'sáquenme', 'suéter', 'sustituyera', 'sustituto', 'suspiro', 'suspendió', 'suspendieron', 'suspenderlo', 'suspendas', 'suscrito', 'surgió', 'surfear', 'surf', 'supuestamente', 'suponía', 'suplemento', 'supieras', 'superó', 'superé', 'superhéroe', 'superficie', 'superficial', 'superarlo', 'sumo', 'sumergirme', 'sumar', 'suma', 'sulfamidas', 'sujetador', 'sujeta', 'suicidió', 'suicidarse', 'sugieres', 'sugiere', 'sugerí', 'sugeriste', 'sugerencias', 'sufro', 'sufrido', 'sufra', 'sueñan', 'suez', 'suene', 'suela', 'suegro', 'sueca', 'sudeste', 'sudar', 'sucios', 'sucia', 'sucediera', 'sucedería', 'suceder', 'suceden', 'subí', 'subtítulos', 'subsidio', 'subsahariana', 'subrayó', 'submarinos', 'subirse', 'subirme', 'subimos', 'subieron', 'subid', 'subestimó', 'subasta', 'suba', 'street', 'stevie', 'spaguetti', 'soñó', 'soñé', 'soñás', 'soñaste', 'soñador', 'soñado', 'sostén', 'sostuvieron', 'sostenía', 'sostenete', 'sospechas', 'sospechar', 'sospechan', 'sospechaba', 'sospecha', 'sorpresas', 'sorprendés', 'sorprenderme', 'sorprender', 'sorbito', 'soporto', 'soportarlo', 'soplaba', 'sopesó', 'soné', 'sonrío', 'sonrías', 'sonroja', 'sonrieron', 'sonriente', 'sonreírme', 'sonreímos', 'sonoro', 'sonidos', 'sonaba', 'someterse', 'solían', 'solíamos', 'solés', 'solucionará', 'soltarme', 'solicito', 'solemne', 'soledad', 'soleado', 'sofocó', 'sofocantemente', 'sofisticado', 'socio', 'sobrina', 'sobrevivirá', 'sobrevivientes', 'sobrestimar', 'sobresaltó', 'sobrero', 'sobrepasó', 'sobrecogido', 'sobrecogedora', 'sobrantes', 'sobornó', 'soborné', 'smith', 'siéntese', 'siéntense', 'siéntase', 'sirius', 'sintiendo', 'sinfonía', 'sindicato', 'sincero:', 'sincera', 'simpáticos', 'sillón', 'silencioso', 'silbato', 'silbar', 'silbaba', 'significó', 'significativamente', 'sigilosamente', 'sigas', 'siga', 'sientas', 'sienes', 'siembra', 'show', 'shopping', 'shinbun', 'shinano', 'shanghái', 'shakespeare', 'señorita', 'señora', 'señor', 'sexy', 'sexta', 'seto', 'sesión', 'sesentas', 'serías', 'seréis', 'serán', 'serviría', 'servirá', 'servirle', 'seremos', 'serbia', 'sequía', 'septiembre', 'separar', 'separado', 'senté', 'sentáis', 'sentábamos', 'sentirías', 'sentirme', 'sentencia', 'sentate', 'sentaré', 'sentara', 'sentar', 'sensatas', 'sendero', 'sencillez', 'sencillas', 'sencilla', 'semáforo', 'sembró', 'sellos', 'sello', 'sellados', 'seguíamos', 'seguras', 'segundas', 'seguiría', 'seguirá', 'seguiremos', 'seguidas', 'sedienta', 'secó', 'secuestraron', 'secuela', 'secretario', 'secretamente', 'secos', 'seco', 'sean', 'scott', 'sazonar', 'satisfechos', 'satisfactoria', 'sastre', 'sartén', 'sarpullido', 'sargento', 'sarampión', 'saques', 'santo', 'sanos', 'sanguíneo', 'sangrantes', 'sangrando', 'sangraba', 'sana', 'salúdale', 'salvé', 'salvos', 'salvavidas', 'salvarme', 'salvarla', 'salvajes', 'salvador', 'salvada', 'saludaron', 'saludables', 'saltar', 'saltan', 'saltado', 'salpicó', 'salirme', 'salimos', 'saliese', 'salid', 'salgamos', 'saldó', 'saldría', 'saldré', 'saldremos', 'salarial', 'salame', 'sacudió', 'sacudirse', 'sacudir', 'sacrificaron', 'sacrificar', 'sacerdote', 'sacarme', 'sacarle', 'sabéis', 'sabrás', 'sabrá', 'sabor', 'sabios', 'rómpelo', 'ríos', 'rímel', 'ríe', 'rías', 'ráfaga', 'rábano', 'rutinario', 'rutina', 'ruta', 'rural', 'ruptura', 'rumores', 'rumorea', 'rumor', 'rumbo', 'ruidosamente', 'rugían', 'rugby', 'ruega', 'ruedas', 'rueda', 'rudo', 'rubias', 'rotura', 'rotos', 'rotonda', 'rosquilla', 'rosales', 'ronronea', 'rondé', 'ronca', 'románticas', 'romperse', 'rompe', 'rompas', 'rompa', 'roger', 'rodeándolos', 'rodearon', 'rodeaba', 'rodajita', 'rodajas', \"rock'n'roll\", 'robé', 'robotizado', 'robos', 'robados', 'robadas', 'riñón', 'rizaba', 'ritmo', 'risita', 'rio', 'rindió', 'rindieron', 'rindes', 'rindas', 'rindan', 'rigurosos', 'rigor', 'rigidez', 'rifle', 'riegan', 'riega', 'ridículamente', 'ridícula', 'ricas', 'reúnete', 'reírse', 'reía', 'reí', 'rezando', 'reza', 'revólver', 'revise', 'revisaré', 'revisar', 'revisa', 'reventado', 'reveló', 'reveles', 'revelado', 'reunámonos', 'reunir', 'reuniendo', 'reunido', 'reunida', 'retrete', 'retratos', 'retrato', 'retrate', 'retrasada', 'retirarse', 'retirados', 'resulte', 'resultando', 'restregó', 'restos', 'restaurantes', 'respóndeme', 'respóndame', 'respuestas', 'responsabilidad', 'respondí', 'respondo', 'respondiera', 'responderías', 'respondas', 'responda', 'resplandeciente', 'respirando', 'respiran', 'respiración', 'respetó', 'respetuoso', 'respeta', 'resonancia', 'resolviendo', 'resolverá', 'resistir', 'resistencia', 'resfrío', 'resfrié', 'resfriarte', 'resfriarse', 'resfriar', 'reservó', 'reservado', 'rescató', 'rescatarte', 'rescatarlo', 'rescatar', 'resbaló', 'requisitos', 'requieren', 'requiera', 'requerir', 'repítemelo', 'repíteme', 'repuesto', 'repruebas', 'reprobó', 'reprobar', 'reprimenda', 'representan', 'reportes', 'reportaré', 'reportar', 'repitió', 'repita', 'repisa', 'repetirme', 'repetir', 'repentinos', 'repentinamente', 'repartió', 'repartir', 'reparado', 'reparación', 'reo', 'renunció', 'renunciaría', 'renunciaron', 'renuncia', 'rentar', 'renta', 'renovarme', 'rendirse', 'rendimos', 'remplazar', 'rememoramos', 'rembrandt', 'relájate', 'reluce', 'rellenar', 'religioso', 'relevante', 'relato', 'relativismo', 'relajes', 'relajarse', 'relajarme', 'relajado', 'relajada', 'relaciones', 'reirte', 'reino', 'rehúsa', 'rehuso', 'rehenes', 'rehacer', 'regreséis', 'regresé', 'regreso', 'regresará', 'regresa', 'regodeó', 'regañó', 'regañaron', 'regañando', 'regateo', 'regando', 'regalé', 'regaliz', 'regalaron', 'regalarlo', 'regalar', 'regalado', 'refugiarme', 'refrescante', 'refrescado', 'refrenar', 'refregó', 'refregara', 'reformularé', 'reformas', 'reformar', 'reforma', 'refieres', 'reemplazado', 'reemplazadlo', 'reemplazable', 'reemplace', 'reducir', 'reducido', 'recé', 'recuperarse', 'recuperarme', 'recuperando', 'recuperado', 'recuerdos', 'recuerdas', 'recreativas', 'recorté', 'recortaría', 'recordé', 'recordás', 'recordarías', 'recordará', 'recordaron', 'recordarle', 'recordaba', 'reconsideraré', 'reconsiderarlo', 'reconsidera', 'reconocía', 'reconocimiento', 'reconocido', 'reconocer', 'reconciliar', 'recompensados', 'recompensa', 'recomendó', 'recolectó', 'recogiendo', 'recogerá', 'recogerlo', 'recoger', 'recoged', 'recoge', 'recobrado', 'reclutado', 'recluido', 'reclamó', 'reclamaron', 'recién', 'recientes', 'recientemente', 'reciclar', 'recibo', 'recibiré', 'rechazado', 'rechazada', 'recetado', 'recesión', 'recepción', 'recemos', 'recelosos', 'recargar', 'rebelión', 'rebelde', 'reanudó', 'reanuda', 'realizó', 'realizará', 'realizar', 'reacción', 'reaccionar', 'reaccionado', 'razonablemente', 'ratito', 'ratas', 'rastro', 'raspó', 'raso', 'rasgó', 'rasguñó', 'rasgaste', 'rascó', 'rascas', 'rascarme', 'raramente', 'rapidísimo', 'rapidez', 'rancho', 'ranas', 'rana', 'ramos', 'ramas', 'rama', 'rajaran', 'radar', 'racionada', 'rabo', 'quítate', 'quítame', 'químicas', 'quédense', 'quites', 'quitaos', 'quitando', 'quitado', 'quisquillosos', 'quisquilloso', 'quisiste', 'quisieras', 'quirúrgico', 'quinta', 'quinientas', 'quilombo', 'quienes', 'quicio', 'queríamos', 'querríamos', 'querrá', 'quemé', 'quemes', 'quemaron', 'quejándose', 'quejaste', 'quejara', 'quejado', 'quedármelo', 'quedate', 'quedas', 'quedarás', 'quedaremos', 'quedaban', 'quebrándose', 'póntelo', 'pónganse', 'pónganlo', 'pídeles', 'pídele', 'pérdidas', 'pásala', 'puñetazo', 'puñado', 'pus', 'pureza', 'pura', 'puntos', 'puntillas', 'puntas', 'pulse', 'pulió', 'pulgas', 'puestas', 'puerto', 'puentes', 'puedan', 'pudiérais', 'publicar', 'publicado', 'psíquicas', 'psicólogo', 'próximos', 'préstamo', 'préstale', 'prácticas', 'prácticamente', 'pruébatelo', 'pruebe', 'provocó', 'provocas', 'proviene', 'provenía', 'proveniente', 'provecho', 'protestas', 'protestaron', 'protestar', 'protesta', 'protegerte', 'protector', 'prospecto', 'prosiguió', 'propuesto', 'proporcionado', 'propones', 'propina', 'propicia', 'propias', 'propagó', 'propagara', 'propagado', 'propagación', 'pronunciación', 'prometiste', 'prometerías', 'prometedores', 'promesas', 'promedio', 'progreso', 'programados', 'profusamente', 'profundas', 'profesión', 'profecía', 'produjo', 'produce', 'producción', 'procuramos', 'procrastinación', 'proclamó', 'probé', 'probás', 'problemático', 'probarla', 'probando', 'probabilidad', 'privilegio', 'privacidad', 'principios', 'principiante', 'primogénito', 'primeras', 'primaveras', 'prima', 'preámbulos', 'prevés', 'pretendo', 'pretende', 'presupuesto', 'presuntuoso', 'presumió', 'prestéis', 'presté', 'prestaste', 'prestas', 'prestarnos', 'prestados', 'prestadas', 'preso', 'presley', 'presidenta', 'presenté', 'presentaré', 'presentarte', 'presentan', 'presentamos', 'presentaciones', 'presenta', 'presencia', 'prescripción', 'preparémonos', 'preparemos', 'prepararnos', 'preparar', 'preparaos', 'preparamos', 'preparame', 'preparados', 'preparada', 'preocupéis', 'preocupándose', 'preocupo', 'preocupará', 'preocuparte', 'preocuparnos', 'preocuparme', 'preocupando', 'preocupan', 'preocupación', 'preocupaciones', 'prensa', 'prendé', 'prendo', 'prendió', 'prendiendo', 'prenderse', 'prende', 'prematuramente', 'pregúntenle', 'pregúntele', 'preguntémosle', 'preguntaré', 'preguntarán', 'preguntarse', 'preguntaros', 'preguntarme', 'preguntaras', 'preguntara', 'preguntan', 'preguntado', 'prefirieran', 'prefieren', 'preferirías', 'preferida', 'preferible', 'prefectura', 'predicamento', 'predecir', 'predecible', 'precocida', 'preciosa', 'precavidos', 'precavido', 'practicó', 'practicaste', 'practicar', 'potencia', 'postuló', 'postulé', 'postular', 'postizos', 'postales', 'pospuso', 'pospuse', 'pospuesto', 'pospuesta', 'posponer', 'posoperatorios', 'positivos', 'positivo', 'positiva', 'posiblemente', 'poseído', 'poseyó', 'poseen', 'posee', 'portátil', 'portuguesa', 'porte', 'portara', 'portando', 'porción', 'porciones', 'porciento', 'porche', 'porcentaje', 'pooch', 'ponía', 'pongas', 'pongan', 'ponete', 'ponerlos', 'ponerlo', 'poneos', 'ponen', 'ponemos', 'pondrán', 'pomo', 'pomelo', 'polis', 'policíacas', 'policíaca', 'policia', 'poemas', 'podían', 'podridos', 'podrido', 'poderes', 'podadora', 'pochoclo', 'población', 'plátanos', 'plástica', 'plenamente', 'plegó', 'plega', 'plazo', 'plaza', 'playas', 'platicar', 'plantó', 'plantas', 'plantaría', 'plantaron', 'plantara', 'plantada', 'planifiqué', 'planeó', 'planearlo', 'planeamos', 'planeado', 'planeaba', 'plancha', 'plagio', 'plaga', 'placebo', 'piérdete', 'pizzas', 'pizarro', 'pizarras', 'pista', 'pise', 'piscina', 'pisado', 'pisa', 'piquen', 'pique', 'pipas', 'pipa', 'pionero', 'pionera', 'pinté', 'pintores', 'pintor', 'pintara', 'ping-pong', 'pinchó', 'pimpón', 'pillar', 'pillan', 'pileta', 'piezas', 'pierdo', 'pierdes', 'pierden', 'pierde', 'pierda', 'pienses', 'piensen', 'piedrita', 'pidieron', 'pide', 'pidas', 'pida', 'picó', 'pico', 'picasso', 'picar', 'picante', 'pesó', 'pesos', 'pesimista', 'pesetas', 'pese', 'pescó', 'pescuezo', 'pescando', 'pesan', 'pesadilla', 'pertenencias', 'perteneces', 'pertenecer', 'pertenecen', 'personajes', 'personaje', 'persiguió', 'persiguen', 'perseverancia', 'perrito', 'perpetró', 'permíteme', 'permití', 'permito', 'permitiría', 'permitirá', 'permitirse', 'permitimos', 'permitido', 'permiten', 'permitas', 'permita', 'permanezca', 'permaneció', 'permaneciste', 'permanecido', 'perlas', 'periódicos', 'periodo', 'perforó', 'perfil', 'perfección', 'perezoso', 'perezosa', 'perecería', 'perdóneme', 'perdértelo', 'perduró', 'perdonaré', 'perdonaron', 'perdonarme', 'perdonarle', 'perdonarla', 'perdonara', 'perdiste', 'perdiendo', 'perdida', 'perderé', 'perderse', 'perderlo', 'perdedor', 'perdamos', 'percha', 'pequeñeces', 'pequeñas', 'peores', 'penúltima', 'pensás', 'pensándolo', 'pensábamos', 'pensemos', 'pensativa', 'pensaste', 'pensaron', 'pensamos', 'penitencia', 'penicilina', 'penetró', 'peló', 'peluquería', 'peluqueros', 'peluda', 'pelotón', 'pelotas', 'peligrosas', 'peleó', 'peleen', 'pelean', 'pelar', 'pelando', 'peige', 'pego', 'pegaste', 'pegarle', 'pegar', 'pegajoso', 'pegajosa', 'pegadiza', 'pedía', 'pedazos', 'pedal', 'pecas', 'pecador', 'peatón', 'pañuelo', 'patrón', 'patriota', 'patria', 'pato', 'patines', 'patea', 'patada', 'pasármelo', 'pastelitos', 'pasteles', 'pasta', 'pasivo', 'pasillo', 'pases', 'pasen', 'paseando', 'pasatiempos', 'pasasteis', 'pasaste', 'pasadme', 'pasadas', 'paré', 'parto', 'partidos', 'partid', 'participó', 'participé', 'participaras', 'participan', 'parten', 'parroquial', 'parrilla', 'parranda', 'parques', 'parió', 'pariente', 'parezco', 'pares', 'parecías', 'parecidos', 'parecido', 'parecerme', 'parciales', 'parche', 'pararía', 'pararnos', 'pararme', 'pararla', 'paranoico', 'paran', 'paralela', 'paraguay', 'papión', 'papi', 'papeles', 'papa', 'panza', 'panquecillos', 'panorama', 'panadería', 'pana', 'palomas', 'paloma', 'palo', 'palmera', 'palmas', 'palma', 'paliza', 'palillos', 'palillo', 'palideció', 'pala', 'paisaje', 'pagues', 'pagarían', 'pagaría', 'pagará', 'pagarle', 'pagara', 'pagan', 'pagamos', 'pagadas', 'pagaban', 'pagaba', 'padeció', 'padeciendo', 'pacíficamente', 'pacífica', 'pacifista', 'pacientemente', 'pablo', 'pabellón', \"pa'\", \"p'aquí\", 'oírnos', 'oírme', 'oírle', 'oyendo', 'oyen', 'oye', 'oxidando', 'oxida', 'ovnis', 'oveja', 'otorgó', 'ostras', 'osos', 'oscuros', 'oscureciera', 'oscureciendo', 'oscuras', 'oscura', 'oruga', 'ortografía', 'orleans', 'orilla', 'originó', 'origen', 'orientada', 'orgullosos', 'organizado', 'orfanato', 'oremos', 'oreja', 'ordeñar', 'ordené', 'ordeno', 'ordenarte', 'ordenado', 'ordenada', 'oraremos', 'oran', 'orador', 'oraciones', 'opulencia', 'oprimió', 'opongo', 'opongas', 'opiniones', 'opinas', 'operó', 'operadora', 'opera', 'online', 'onda', 'omitido', 'olvídalo', 'olviden', 'olvidarte', 'olvidaron', 'olvidadizo', 'olvidadiza', 'olvida', 'oliste', 'oleada', 'olas', 'ojeó', 'ofrezca', 'ofrecemos', 'oficinas', 'ofensiva', 'ofendido', 'odias', 'odiaría', 'odiar', 'odiado', 'odiaba', 'ocúpate', 'océanos', 'ocurriría', 'ocurrirá', 'ocurrirte', 'ocurriros', 'ocurriera', 'ocupándome', 'ocupará', 'ocuparte', 'ocuparnos', 'ocultaste', 'occidental', 'ocasionó', 'ocasionado', 'obtienes', 'obsérvame', 'obstáculos', 'obstinada', 'obsesionada', 'observen', 'observador', 'observado', 'observad', 'observación', 'observa', 'obsequió', 'obsceno', 'obreros', 'obras', 'obramos', 'obligué', 'obligatoria', 'obligarte', 'obligado', 'obligación', 'obligaciones', 'objeción', 'obedezca', 'obedece', 'nutritiva', 'numerosos', 'numerosa', 'nudo', 'nublados', 'noviembre', 'novedad', 'noté', 'notebook', 'notas', 'notará', 'notaron', 'notarme', 'notarlo', 'notara', 'notado', 'notables', 'nota', 'normas', 'nombraron', 'nombra', 'nocturnos', 'nocturno', 'nocturna', 'nocivos', 'noble', 'niñito', 'niñita', 'niñas', 'nivelar', 'nilo', 'nietos', 'nieto', 'niegues', 'niego', 'niegas', 'niebla', 'nevará', 'nevado', 'nevadas', 'neumáticos', 'neumático', 'nene', 'negociaron', 'negociamos', 'negociaciones', 'negligencia', 'negativos', 'negativo', 'negaré', 'negarte', 'necesitábamos', 'necesites', 'necesitaremos', 'necesitabas', 'necesitaban', 'necesidades', 'necesarios', 'navío', 'navideños', 'navideñas', 'navideña', 'navidades', 'navegando', 'naufragaron', 'naturaleza', 'natto', 'nativos', 'natal', 'nasa', 'narices', 'nara', 'napoleón', 'nagoya', 'nadan', 'nadadores', 'nacionales', 'nacional', 'naciera', 'nacemos', 'móviles', 'mínima', 'método', 'métete', 'médicos', 'médicas', 'médica', 'máximo', 'máscara', 'mármol', 'máquinas', 'mándenle', 'mándamelo', 'mácula', 'muñeco', 'muéstreme', 'mutuo', 'musulmán', 'musulmanes', 'murmuraba', 'municipalidad', 'mundo:', 'multimillonario', 'multimedia', 'multaron', 'mugre', 'mueve', 'mueva', 'muestra', 'muertas', 'muelas', 'mudos', 'mudo', 'mudaste', 'mudará', 'mudar', 'mudando', 'mudamos', 'muchísimo', 'muchísimas', 'muchachos', 'mp3', 'mozart', 'movía', 'mováis', 'movió', 'moviéndose', 'movimientos', 'movieran', 'movernos', 'moverlo', 'motocicleta', 'motivados', 'motiva', 'motel', 'mostro', 'mostraron', 'mostrarme', 'mostrar', 'mostrado', 'mosquito', 'moría', 'mortales', 'morros', 'morirían', 'moriré', 'morfar', 'morenas', 'mordí', 'mordido', 'mordidas', 'morderme', 'morder', 'moraleja', 'mora', 'monumento', 'montura', 'montaron', 'montando', 'montado', 'monopolicen', 'monociclo', 'monje', 'monedas', 'momentos', 'molécula', 'moliendo', 'molidos', 'molido', 'molestia', 'molestaré', 'molestarme', 'molestando', 'molestan', 'molestamos', 'molestado', 'mola', 'mojados', 'mojado', 'mojadas', 'mojada', 'modificado', 'modesto', 'moderno', 'moderna', 'moderado', 'modelos', 'mocoso', 'mocha', 'mitsvah', 'misteriosos', 'misterioso', 'misterio', 'miso', 'mismísima', 'mismas', 'mirábamos', 'miren', 'mire', 'miraré', 'mirarme', 'mirarla', 'mirado', 'minúsculo', 'minuciosos', 'mintáis', 'ministerio', 'minifaldas', 'minidisc', 'minesota', 'minería', 'minera', 'millonario', 'milagros', 'migrañas', 'migas', 'mierda', 'miento', 'mienten', 'mientas', 'mienta', 'mido', 'mides', 'mide', 'micrófono', 'michael', 'mezcle', 'mexicana', 'metrópoli', 'metiendo', 'meticuloso', 'meticulosamente', 'metiche', 'metete', 'metes', 'meterás', 'meterse', 'meteremos', 'meteoritos', 'mete', 'metal', 'mesera', 'mesas', 'merodeadores', 'merecías', 'merecés', 'merecéis', 'merecido', 'mereces', 'merecen', 'mercados', 'mercadillo', 'mentí', 'mentisteis', 'mentiste', 'mentirosa', 'mentiras', 'menta', 'mensualmente', 'meneando', 'meneaba', 'mendigo', 'mendiga', 'mencionó', 'memorizó', 'memorizarlo', 'memorizando', 'memorable', 'melancólicamente', 'mejoro', 'mejoraría', 'mejorará', 'mejoraron', 'mejoradas', 'mejillas', 'mejicana', 'meditó', 'meditarlo', 'meditando', 'medido', 'medidas', 'mecánicas', 'mecanógrafa', 'mecanográfico', 'meca', \"mcdonald's\", 'mayúscula', 'mayo', 'maté', 'matrimonio;', 'matrimonial', 'mato', 'matará', 'mataros', 'mataron', 'matarnos', 'matarlos', 'matarlas', 'matando', 'matamos', 'matados', 'mastique', 'masticando', 'masoquista', 'masculinos', 'masculino', 'mascotas', 'masacre', 'masa', 'mas', 'marquita', 'mark', 'mariscos', 'mariposas', 'mariposa', 'marino', 'marina', 'marimacho', 'mareado', 'marea', 'marcó', 'marconi', 'marco', 'marcháis', 'marchen', 'marchemos', 'marcharte', 'marcharme', 'marchar', 'marcado', 'marcadamente', 'maravillosamente', 'maravillas', 'maratón', 'maníes', 'manzanos', 'manutención', 'mantuvieron', 'mantiene', 'mantené', 'mantengo', 'mantengas', 'mantenerse', 'mantenelo', 'mantendré', 'mantendrá', 'mantas', 'manta', 'manifestación', 'mangas', 'manejo', 'manejarlo', 'mandón', 'mandíbula', 'mandril', 'mandos', 'mandaré', 'mandarme', 'mandarinas', 'mandale', 'mandado', 'mandadme', 'manda', 'mamíferos', 'mamífero', 'mami', 'malversó', 'malvaviscos', 'malos', 'maliciosos', 'malicioso', 'maliciosa', 'mali', 'malhumorado', 'malgastando', 'malgastamos', 'malgasta', 'maleza', 'maletín', 'maletero', 'malentendido', 'maleducado', 'maldice', 'majara', 'maestro', 'maduró', 'maduras', 'madrugada', 'madero', 'macizo', 'macintosh', 'machista', 'machacaron', 'lógico', 'líquido', 'límites', 'límite', 'léelo', 'luzco', 'lustrarme', 'lustrar', 'lunático', 'luminosa', 'luis', 'luciérnaga', 'lucirías', 'luchó', 'lucharon', 'luchar', 'luchando', 'luchador', 'louvre', 'lote', 'lona', 'logró', 'logré', 'logros', 'logre', 'lograrlo', 'lograr', 'lodo', 'localizados', 'locales', 'lobos', 'lobo', 'llévame', 'llévalo', 'llámalo', 'lluviosa', 'lluvias', 'llovía', 'llovió', 'lloviera', 'llorón', 'lloro', 'lloriqueando', 'lloricas', 'lloren', 'lloraste', 'lloras', 'llorará', 'lloran', 'lloraba', 'llevárselo', 'llevemos', 'llevaría', 'llevarlos', 'llevarla', 'llevara', 'llevando', 'llevamos', 'llevado', 'llenaron', 'lleguó', 'llegarían', 'llegaré', 'llegaras', 'llegarais', 'llegados', 'llegaba', 'llanto', 'llamá', 'llamen', 'llamarán', 'llamará', 'llamaron', 'llamarlo', 'llamarla', 'llamame', 'llamad', 'liz', 'liviano', 'litro', 'literatura', 'literas', 'litera', 'listón', 'liso', 'linternita', 'linguae', 'lincoln', 'limítate', 'limpié', 'limpieza', 'limpiemos', 'limpie', 'limpiaste', 'limpias', 'limpiada', 'limita', 'lima', 'lidiando', 'lidia', 'liderazgo', 'licores', 'licor', 'licenciar', 'libres', 'liberemos', 'liberaron', 'liberar', 'liberados', 'liberado', 'liberación', 'liado', 'leída', 'leéis', 'leyeron', 'leyera', 'leyendas', 'levantá', 'levantate', 'levantase', 'levantando', 'levantamos', 'levantad', 'levantaba', 'levadura', 'letrina', 'lerdo', 'leones', 'lente', 'lenta', 'lenguaje', 'lejanía', 'legítimo', 'leerla', 'leen', 'leed', 'lector', 'lea', 'lave', 'lavavajillas', 'lavarse', 'lavarropas', 'lavarme', 'lavan', 'lavaba', 'latir', 'latinos', 'latas', 'lastimé', 'lastimes', 'lastime', 'lastimar', 'lastimando', 'lasaña', 'largos', 'lapsus', 'lanzar', 'lanzallamas', 'langostas', 'langa', 'lana', 'lamentos', 'lamentablemente', 'lamentable', 'lagos', 'ladrona', 'ladrando', 'ladran', 'ladra', 'labial', 'kong', 'kilos', 'kazakstán', 'kawagoe', 'katrina', 'karuizawa', 'karate', 'kansai', 'kamikaze', 'juzgué', 'juzgue', 'juzgarse', 'justificar', 'justicia', 'justamente', 'juraría', 'juntó', 'juntémonos', 'juntar', 'juntamos', 'jungla', 'julio', 'jugó', 'jugás', 'jugábamos', 'juguetón', 'juguetones', 'juguete', 'jugaré', 'jugará', 'jugadores', 'jugado', 'judías', 'jubilarme', 'jubilado', 'joyería', 'jovencita', 'jorobas', 'jorge', 'johnson', 'jingle', 'jfk', 'jeta', 'jesús', 'jefferson', 'jeans', 'jaulas', 'jarabe', 'italianos', 'italiana', 'islam', 'ishikawa', 'iréis', 'irritante', 'irrespetuoso', 'irresistible', 'irreal', 'irak', 'ipad', 'iowa', 'inútiles', 'inyección', 'inválido', 'inválida', 'involuntario', 'involuntaria', 'involucrado', 'involucra', 'invitas', 'invitan', 'invirtió', 'invierte', 'investigó', 'investigar', 'investigando', 'invertir', 'invertebrados', 'invernadero', 'inventé', 'inventarlo', 'inventando', 'inventado', 'invasión', 'invadió', 'inusualmente', 'inusual', 'inundados', 'inundada', 'inundación', 'intrigados', 'intranquilo', 'interrumpo', 'interrumpió', 'interrumpir', 'interrogó', 'interpreté', 'interpretado', 'internes', 'internen', 'interiormente', 'interior', 'intereses', 'interese', 'intercederé', 'intercambió', 'intercambiaron', 'intercambiamos', 'intentemos', 'intente', 'intentas', 'intensamente', 'intencionalmente', 'intencionado', 'integrado', 'insulte', 'instó', 'instrucción', 'instituto', 'instante', 'inspirada', 'inspira', 'insoportable', 'insomnio', 'insomne', 'insiste', 'insistas', 'inservibles', 'inservible', 'insensatez', 'insensata', 'inscribirte', 'insatisfecho', 'inquietud', 'inquieto', 'inquietarse', 'inofensivas', 'innumerables', 'innegable', 'inmóvil', 'inmune', 'inmobiliario', 'inmerso', 'inmensidad', 'inmejorable', 'injusta', 'inimaginable', 'inició', 'iniciar', 'ingresos', 'ingreso', 'ingresarlo', 'ingresar', 'inglesas', 'inglesa', 'ingiriendo', 'ingenioso', 'informó', 'informáticas', 'informarse', 'informar', 'influencia', 'inflamada', 'inflama', 'infinitos', 'infinita', 'inferior', 'infeliz', 'infectó', 'infección', 'infarto', 'infantiles', 'infalible', 'inesperadamente', 'industria', 'individuo', 'indisputables', 'indios', 'indignado', 'indigna', 'indigente', 'indicó', 'indicativo', 'indican', 'indicado', 'indicaciones', 'indicaba', 'indica', 'incómodo', 'incurable', 'incumbencia', 'increíbles', 'increíblemente', 'incrementar', 'inconsecuente', 'incomoda', 'inclina', 'incendió', 'incendios', 'incendiaron', 'incendiando', 'inca', 'inapropiado', 'inalcanzables', 'inaguantable', 'inadvertido', 'inacabado', 'impuso', 'impunemente', 'impuesto', 'improvisó', 'improviso', 'imprimir', 'impresora', 'impresión', 'impresionar', 'impresionante', 'impresionada', 'importe', 'importas', 'importarme', 'importantes', 'importado', 'imponente', 'implica', 'imperial', 'imperdonable', 'impenitente', 'impediré', 'impartirá', 'impares', 'imparciales', 'impacto', 'imitándolo', 'imitar', 'imbécil', 'imaginarme', 'imagen', 'ilustrada', 'ilusión', 'ilusionados', 'ilusionado', 'ilegalización', 'igualaron', 'igualados', 'ignoró', 'ignorando', 'ignoralos', 'idéntico', 'idos', 'idolatra', 'identificaos', 'ideal', 'icono', 'iceberg', 'húngaro', 'húmedos', 'húmedas', 'húmeda', 'héroe', 'hámster', 'hágalo', 'hágales', 'háblame', 'háblale', 'hábito', 'hábil', 'huyes', 'hurgando', 'huracán', 'hungría', 'hundía', 'hundió', 'hundirá', 'humillante', 'humillado', 'humilde', 'huesos', 'huelo', 'huellas', 'huella', 'huelguistas', 'hueco', 'hubiéramos', 'hubieses', 'hubiese', 'hotcakes', 'hospitalidad', 'horrorosa', 'horrorizado', 'horror', 'hormigueros', 'hormigas', 'hormiga', 'horizontes', 'horizonte', 'horizontal', 'honorarios', 'honorable', 'hong', 'honestos', 'honestamente', 'homicidio', 'hombros', 'holandés', 'hokkaido', 'hitler', 'historial', 'hirviendo', 'hirió', 'hipócrita', 'hipocresía', 'hipnotizado', 'hipar', 'hincapié', 'hilton', 'hillside', 'hijas', 'higiénico', 'hierve', 'hicieses', 'hicieran', 'herviré', 'hervir', 'hermosas', 'herirlo', 'herir', 'heridos', 'heredó', 'hemisferios', 'helo', 'helicópteros', 'helar', 'helados', 'hedor', 'hazme', 'hazaña', 'hayáis', 'hastiada', 'harían', 'hartos', 'harta', 'harpa', 'harajuku', 'hangzhou', 'hamlet', 'hamilton', 'hambruna', 'hambrientos', 'haló', 'hallé', 'hallazgos', 'halla', 'hadas', 'hacés', 'hacérselo', 'hacérmelo', 'hacé', 'hackeo', 'haciéndolo', 'hacinadas', 'hacernos', 'hacerla', 'haced', 'habíamos', 'habíais', 'habríamos', 'habremos', 'habláis', 'hablábamos', 'hablaría', 'hablarán', 'hablará', 'hablaron', 'hablarlo', 'hablaremos', 'hablabas', 'habituó', 'habitualmente', 'habilidades', 'habiendo', 'haberos', 'haberlos', 'haberla', 'géneros', 'género', 'guía', 'guácala', 'gustos', 'gustaste', 'gustarte', 'gustara', 'gustamos', 'gustaban', 'gurú', 'guió', 'guitarrista', 'guitarras', 'guiso', 'guirnalda', 'guerras', 'gucci', 'guaro', 'guardó', 'guardo', 'guardería', 'guardaste', 'guardaré', 'guardara', 'guardando', 'guardaespaldas', 'guapa', 'guantera', 'grúa', 'gruñía', 'grupos', 'grosería', 'groseras', 'grité', 'grito', 'gritando', 'gritad', 'grita', 'gripe', 'grima', 'grifos', 'grifo', 'grieta', 'griegos', 'griega', 'graves', 'gravedad', 'gratuito', 'gratis', 'grasoso', 'grano', 'granjero', 'graduarme', 'gradualmente', 'graduado', 'graciosas', 'grabaciones', 'gotera', 'gota', 'gorra', 'gomas', 'golpearte', 'golpearlo', 'golosina', 'golfista', 'gofres', 'gobernada', 'glaciares', 'giró', 'giro', 'girar', 'giraba', 'gimnasio', 'gesto', 'genuinamente', 'geniales', 'generoso', 'generalmente', 'gemela', 'gatillo', 'gatear', 'gata', 'gastas', 'gastarías', 'gastan', 'gasta', 'gasolina', 'gangas', 'ganchos', 'gancho', 'ganaríamos', 'ganaré', 'ganará', 'ganaras', 'ganando', 'ganan', 'ganadas', 'ganaba', 'galán', 'gallinas', 'galletita', 'gacho', 'gabinete', 'gabardina', 'g-7', 'físicamente', 'fíjate', 'fértil', 'férreas', 'fuéramos', 'fusilamiento', 'fusilado', 'fusible', 'furia', 'furgoneta', 'fundó', 'fundió', 'fundar', 'fundamentalmente', 'fundada', 'función', 'funcionó', 'funcionan', 'funcionaban', 'funcionaba', 'fumándose', 'fumes', 'fume', 'fumas', 'fuma', 'fugaces', 'fuga', 'fuertemente', 'fuentes', 'fuegos', 'frutos', 'frutería', 'frutas', 'frutales', 'fronteriza', 'frito', 'frieguen', 'frescos', 'frescas', 'frenando', 'fraude', 'franklin', 'franceses', 'fracasé', 'fracasaré', 'fotógrafo', 'fotogénico', 'fotográfica', 'fotografiar', 'foso', 'forzó', 'forzaron', 'forzada', 'fortaleza', 'fortalece', 'formulario', 'formamos', 'formado', 'forcejeó', 'forastero', 'footing', 'fondos', 'folleto', 'fogata', 'foco', 'fluye', 'fluidamente', 'flotar', 'floral', 'flickr', 'flete', 'flechazo', 'flecha', 'firmaste', 'firmaron', 'firmado', 'firma', 'firefox', 'fingí', 'fingir', 'fingiendo', 'finge', 'finas', 'financieros', 'financiera', 'finales', 'fina', 'filtra', 'filoso', 'filial', 'figura', 'fieras', 'fiera', 'fieis', 'fideos', 'fibra', 'fiarse', 'fiable', 'festejemos', 'ferrovias', 'feriados', 'feriado', 'feos', 'femeninos', 'federer', 'febrero', 'feas', 'favorcito', 'fatal', 'fastidiosa', 'fastidia', 'faros', 'farmacéutico', 'farmacia', 'farfullear', 'fantasía', 'fans', 'famosas', 'familiarizada', 'familiar', 'fama', 'falto', 'falte', 'faltaste', 'faltan', 'faltaban', 'falsos', 'falsas', 'falsamente', 'falsa', 'fallezca', 'falleció', 'fallecieron', 'fahrenheit', 'factible', 'fabuloso', 'fabrica', 'extremos', 'extrañé', 'extrañar', 'extrañamos', 'extravió', 'extraordinarias', 'extinguido', 'extinción', 'externa', 'exquisito', 'expulsaron', 'expulsar', 'exprésate', 'exprimir', 'express', 'expresiones', 'expresado', 'expresaba', 'exportador', 'explícate', 'exploró', 'exploraron', 'expliqué', 'explicárselo', 'explicas', 'explicaré', 'explicarlo', 'explicara', 'explica', 'experta', 'experimentos', 'experimentar', 'expedición', 'expectativas', 'existo', 'existencia', 'exista', 'exigieron', 'exigente', 'exigencias', 'exhausto', 'exhausta', 'excéntricos', 'excusas', 'excusarse', 'excusarme', 'excitante', 'excepción', 'excepciones', 'excepcionalmente', 'excepcional', 'excelentes', 'excavadores', 'examinó', 'examenes', 'exagerar', 'exagerada', 'ex-novio', 'ex', 'evolución', 'evitarlo', 'evitan', 'evidentemente', 'evidente', 'eventualmente', 'evaporación', 'evangelista', 'evaluación', 'evacuarlo', 'evacuar', 'eufemismo', 'eua', 'eterno', 'eternidad', 'estúpidos', 'estuvieras', 'estuvieran', 'estuvierais', 'estupor', 'estupideces', 'estupendo', 'estupenda', 'estupefacto', 'estudiéis', 'estudiáis', 'estudios', 'estudiaste', 'estudias', 'estudiaré', 'estudiaremos', 'estudiaras', 'estudiara', 'estudiad', 'estrés', 'estructura', 'estropeó', 'estropeado', 'estrictos', 'estribos', 'estrepitosa', 'estrenando', 'estrelló', 'estrellado', 'estrechó', 'estrategia', 'estrangulada', 'estornudó', 'estornudando', 'estofado', 'estira', 'estimado', 'estereotipos', 'estaño', 'estatus', 'estatal', 'estarán', 'estanterías', 'estante', 'estancia', 'estampilla', 'estafando', 'estadísticas', 'estacioné', 'estacionarlo', 'estacionar', 'estableciera', 'establecerse', 'establece', 'esquinas', 'esquiador', 'esqueleto', 'espíe', 'espérese', 'espérele', 'espérate', 'esposas', 'espléndido', 'espléndida', 'esperá', 'esperes', 'espere', 'esperase', 'esperarás', 'esperarte', 'esperaron', 'específico', 'específica', 'especulando', 'espectáculo', 'especificó', 'especies', 'especie', 'especialista', 'especiales', 'españoles', 'españa', 'esparcidas', 'esparcen', 'espantoso', 'espaldas', 'espagueti', 'espada', 'esmoquin', 'esfuérzate', 'esforzado', 'esencial', 'esencia', 'escúter', 'escupir', 'escudriño', 'escuchemos', 'escuche', 'escuchas', 'escuchará', 'escuchara', 'escuchamos', 'escuchadme', 'escritores', 'escritas', 'escrita', 'escribía', 'escribirá', 'escribirte', 'escribirnos', 'escribirlo', 'escribimos', 'escribiera', 'escriba', 'escopeta', 'escondía', 'escondiste', 'escondieron', 'escondernos', 'esconden', 'escogiste', 'escogimos', 'escogido', 'escoger', 'escocés', 'escoba', 'escaso', 'escasas', 'escasa', 'escaparte', 'escaparse', 'escalando', 'escalado', 'escala', 'erupción', 'erróneo', 'erróneas', 'errónea', 'erizos', 'erigido', 'equivocó', 'equivocarte', 'equivocan', 'equivocamos', 'equilibrio', 'equilibrados', 'envíar', 'envolverlos', 'envidio', 'enviaron', 'enviando', 'enviados', 'enviado', 'entusiasta', 'entusiasmo', 'enturbió', 'entrégame', 'entrégale', 'entré', 'entrá', 'entro', 'entrevista', 'entreteniendo', 'entretenida', 'entres', 'entrenar', 'entrenadora', 'entrenado', 'entregármelo', 'entregaré', 'entregarte', 'entregar', 'entrega', 'entraron', 'entrando', 'entrad', 'entorno', 'entorna', 'entiendas', 'enterrado', 'entero', 'enteren', 'enteras', 'enteraran', 'enterara', 'enterar', 'enteramente', 'enterado', 'entendía', 'entendió', 'entendiera', 'entenderías', 'entenderás', 'entenderme', 'entenderle', 'enséñamelo', 'enseñen', 'enseñaste', 'enseñarías', 'enseñaría', 'enseñará', 'enseñarnos', 'enseñando', 'enseñado', 'ensayo', 'ensanchan', 'enroló', 'enorgulleces', 'enojó', 'enojarse', 'enlace', 'enjaulado', 'enhebrar', 'engreídos', 'engreído', 'engordes', 'engañéis', 'engañosos', 'engaño', 'engañen', 'engañe', 'engañaste', 'engañas', 'engañando', 'engañan', 'enfríe', 'enfermero', 'enferme', 'enfermas', 'enfatizó', 'enfadase', 'enfadarte', 'enfadarme', 'enero', 'energías', 'energéticas', 'endósame', 'enderezaran', 'encías', 'encuentre', 'encuentras', 'encontraría', 'encontrarnos', 'encontrarme', 'encontrarla', 'encontraremos', 'encogió', 'encoger', 'enciéndelo', 'encienda', 'enchufe', 'encendido', 'encendidas', 'encendida', 'encenagado', 'encargo', 'encargarías', 'encargarte', 'encargado', 'encanto', 'encalló', 'encabezados', 'enamoré', 'enamoraste', 'enamorarte', 'enamorarse', 'enamoraron', 'enamorarme', 'enamorando', 'empújenla', 'empújalo', 'empújala', 'empujón', 'empujó', 'empujes', 'empujar', 'empinada', 'empiezo', 'empezás', 'empezaste', 'empezará', 'empezamos', 'empezaba', 'empeora', 'empatía', 'emparentados', 'emparentada', 'empapó', 'emocionalmente', 'emocionada', 'emitió', 'emisión', 'emergencias', 'embustero', 'embromando', 'embrollo', 'emborracho', 'emborrachamos', 'embolillando', 'embistió', 'embarrada', 'embarazada', 'elvis', 'elogio', 'elogiaron', 'eliminará', 'elimina', 'elijáis', 'elija', 'eleve', 'elevador', 'elevado', 'elevada', 'elegí', 'elegirán', 'elefantes', 'electrodomésticos', 'ejércitos', 'ejercito', 'ejecutivo', 'eiffel', 'eh', 'eficaz', 'educar', 'educado', 'editor', 'edificios', 'edición', 'ediciones', 'ecuador', 'económicamente', 'económica', 'eclipse', 'eché', 'eches', 'echarte', 'echaron', 'echarle', 'echara', 'echando', 'díselo', 'díganme', 'díganlo', 'dígale', 'déjelo', 'déjanos', 'déjamelo', 'déjalo', 'déjale', 'débil', 'dáselo', 'dureza', 'duras', 'durara', 'durado', 'duradera', 'duración', 'dura', 'duque', 'duplicado', 'dueto', 'duermas', 'duerma', 'duelo', 'duelen', 'dudó', 'dudé', 'dudoso', 'dude', 'dudar', 'duché', 'dubitativo', 'dotación', 'dormían', 'dormiste', 'dormiré', 'dormirse', 'dormimos', 'dormida', 'dormid', 'dorado', 'donó', 'donaron', 'donamos', 'domínese', 'dominó', 'dominar', 'dominante', 'domesticado', 'dolía', 'doloroso', 'dolorosa', 'dolida', 'dolerá', 'doler', 'documentales', 'doblando', 'dobla', 'divulgar', 'divorció', 'divorcien', 'divorciar', 'divorciados', 'divorciada', 'diviértete', 'división', 'divirtió', 'divirtieron', 'diviertes', 'divierte', 'dividía', 'dividió', 'dividieron', 'divide', 'dividamos', 'divertí', 'divertirme', 'divertir', 'divertida', 'diversión', 'disuelve', 'distribuyó', 'distribuir', 'distraerse', 'distraer', 'distrae', 'distracción', 'distinto', 'distintas', 'distinguidos', 'distantes', 'disputa', 'dispuestos', 'dispuesta', 'disparé', 'dispare', 'dispararle', 'disparado', 'disparad', 'disolver', 'disneyland', 'dislocado', 'disimuladas', 'disgustó', 'disfrutando', 'disfrazada', 'disfraz', 'diseñó', 'diseñé', 'diseño', 'diseñadores', 'diseñador', 'diseñado', 'discúlpeme', 'discutáis', 'discutió', 'discutiremos', 'discutido', 'discutible', 'discuten', 'discusiones', 'discursos', 'disculpe', 'disculparía', 'disculparé', 'disculpamos', 'discretos', 'dirás', 'dirijo', 'dirigían', 'dirigía', 'dirigió', 'dirigimos', 'directamente', 'diplomático', 'diploma', 'dioses', 'dinosaurios', 'dimito', 'dimensiones', 'diligencia', 'dijese', 'dijeras', 'digáis', 'dignas', 'digna', 'difíciles', 'difundió', 'difundida', 'diferencias', 'diferenciar', 'diestros', 'diente', 'diecisiete', 'dictador', 'diciéndotelo', 'diccionarios', 'dibujó', 'dibujar', 'dibujando', 'dibujado', 'dibujad', 'diariamente', 'diamantes', 'diabético', 'diablo', 'devuelta', 'devolveré', 'devolverán', 'devastó', 'devastadores', 'deténganlo', 'detuvimos', 'detiene', 'detestaba', 'detesta', 'determinó', 'determinación', 'detente', 'detenidamente', 'detengan', 'detenernos', 'detenerle', 'detectives', 'detective', 'detalle', 'detallada', 'desván', 'desvergüenza', 'desvalidos', 'destrás', 'destruirte', 'destruidos', 'destruidas', 'destrozado', 'destrabar', 'destraba', 'destiñe', 'destinada', 'destapar', 'destacado', 'destaca', 'desquites', 'desprendimiento', 'desprecian', 'desposeídos', 'desplumaste', 'desplumar', 'desplomado', 'desplazamiento', 'despiértese', 'despiértate', 'despiértame', 'despistados', 'despierte', 'despiertas', 'despidiéndome', 'despertate', 'despertaste', 'despertarte', 'despertarse', 'despertadores', 'despertador', 'desperdician', 'desperdiciado', 'despejados', 'despejado', 'despegarse', 'despegaron', 'despegaremos', 'despedí', 'despedirla', 'despedir', 'despachar', 'desorientado', 'desorganizado', 'desordenado', 'desordenada', 'desodorante', 'desocupada', 'desnudos', 'desmemoriado', 'desmayé', 'desmayaste', 'desmayaron', 'desmayado', 'deshazte', 'deshaces', 'deshabitada', 'desgracias', 'desgraciadamente', 'desgastados', 'desgarra', 'deseó', 'desesperó', 'desesperarse', 'desesperada', 'desempleo', 'desees', 'desechar', 'deseas', 'desearte', 'deseadme', 'deseaba', 'descuido', 'descuidarnos', 'descuidado', 'descuento', 'descubrís', 'descubrí', 'descubriste', 'descubrirás', 'descubrieron', 'descubre', 'descubierta', 'describió', 'describirías', 'describirlos', 'describirle', 'describilo', 'describen', 'describe', 'desconsolados', 'desconocidos', 'desconocido', 'desconocida', 'desconectarlo;', 'desconecta', 'desconcertado', 'descompuso', 'descompuesta:', 'descifró', 'descifre', 'descendieron', 'descartarse', 'descargar', 'descansé', 'descansemos', 'descansando', 'descansa', 'descabellado', 'desbordarse', 'desbordara', 'desayuné', 'desayunando', 'desayunan', 'desayunaba', 'desayuna', 'desató', 'desaté', 'desatendidas', 'desatara', 'desastres', 'desastre', 'desarrollando', 'desaprobar', 'desaparición', 'desaparezca', 'desaparecieron', 'desaparecer', 'desalmado', 'desajustado', 'desahuciado', 'derrota', 'derritió', 'derritiendo', 'derribó', 'derribar', 'derretirán', 'derretirse', 'derramó', 'derramada', 'depósito', 'deprimen', 'depresión', 'depredadores', 'departamental', 'dental', 'dentado', 'denominan', 'denomina', 'den', 'demuestra', 'demostrar', 'demonios', 'demasiados', 'demandas', 'deliciosos', 'deliciosas', 'delgaducho', 'delgado', 'deletrearlo', 'deletreado', 'deletrea', 'delatado', 'delanteras', 'delantera', 'dejándolo', 'dejá', 'dejemos', 'dejase', 'dejarás', 'dejaron', 'dejarme', 'dejamos', 'dejadas', 'dejada', 'dejad', 'dejaban', 'dejaba', 'deis', 'degas', 'deformado', 'definiciones', 'defendió', 'defendida', 'defenderse', 'defectos', 'dedicas', 'dedicarle', 'dedicado', 'declarase', 'declaran', 'declarado', 'decidle', 'decidirse', 'decidirme', 'decide', 'decida', 'decepcionaste', 'decepcionarte', 'decentes', 'debíamos', 'debitaron', 'debilitando', 'deberíais', 'deberás', 'debatimos', 'debatieron', 'debatiendo', 'debate', 'debas', 'deal', 'dañados', 'davis', 'datos', 'darías', 'darán', 'dará', 'daros', 'daremos', 'dardos', 'danza', 'danos', 'damos', 'daltónico', 'dais', 'd', 'cúbralo', 'cúando', 'córtalo', 'cónyuges', 'cómetelo', 'cómanse', 'cógelo', 'césar', 'céntimos', 'célula', 'cáscaras', 'cárgalo', 'cántanos', 'cálidamente', 'cuídense', 'cuéntenme', 'custodia', 'curó', 'cursé', 'curry', 'curiosos', 'curativos', 'cuna', 'cumplió', 'cumpliré', 'cultural', 'cultivos', 'cultivar', 'culpo', 'culpes', 'culparte', 'culparon', 'culpados', 'culpabilidad', 'culo', 'culminaron', 'cuido', 'cuidaré', 'cuidarán', 'cuidará', 'cuidarte', 'cuidarme', 'cuidan', 'cuidamos', 'cuidadosos', 'cueva', 'cuestionaría', 'cuervos', 'cuentes', 'cuente', 'cuencos', 'cuenco', 'cuelga', 'cuece', 'cuco', 'cuchis', 'cuchillos', 'cucaracha', 'cubría', 'cubrirán', 'cubrir', 'cubre', 'cubo', 'cubiertas', 'cuba', 'cuatrocientos', 'cuarzo', 'cuantos', 'cuadras', 'críticos', 'críticas', 'crítica', 'crímenes', 'cráneo', 'cruzá', 'cruzamos', 'cruzados', 'cruzadas', 'cruzaba', 'cruel', 'crudos', 'crudo', 'crucero', 'croacia', 'criticas', 'criticar', 'criticando', 'critica', 'cristiano', 'cristales', 'criminal', 'crias', 'criar', 'criado', 'creérmelo', 'crezcas', 'creyente', 'creyendo', 'cremallera', 'creerme', 'creerlo', 'creerle', 'creerla', 'creeremos', 'creciste', 'crecieron', 'creciente', 'creativo', 'creacionista', 'crea', 'co₂', 'coña', 'country', 'cotorreando', 'cotitulares', 'costoso', 'costo', 'costillas', 'costearlo', 'costaba', 'costa', 'cosquillas', 'cosechas', 'cortés', 'corté', 'cortá', 'cortos', 'cortocircuito', 'cortaste', 'cortas', 'cortaron', 'cortarla', 'cortara', 'corrobore', 'corroborar', 'corro', 'corrijo', 'corriente', 'corrida', 'corresponde', 'correría', 'corredora', 'corred', 'correctamente', 'correcciones', 'corras', 'corran', 'corramos', 'cordialmente', 'corazones', 'coqueteó', 'copuchar', 'copie', 'copias', 'copiarme', 'copa', 'cooperación', 'cookie', 'convocado', 'convinimos', 'convertirá', 'convertirte', 'convertirme', 'convertido', 'convertible', 'conversémoslo', 'conversé', 'conversemos', 'conversar', 'conversadora', 'conversador', 'convenzas', 'convenzan', 'conveniente', 'convencimos', 'convenciera', 'convencerte', 'convencerme', 'contárselo', 'contármelo', 'contácteme', 'contuve', 'controlarlo', 'contribuido', 'contratiempos', 'contrataste', 'contrataré', 'contratado', 'contraseñas', 'contrariado', 'contrabandistas', 'continúe', 'continúa', 'continuación', 'continente', 'contigua', 'contestó', 'conteste', 'contestara', 'contemporáneo', 'contaste', 'contaría', 'contaros', 'contarnos', 'contamos', 'contaminación', 'contagiosa', 'contagiarte', 'contadas', 'contactarlo', 'contactarla', 'contabilidad', 'consumir', 'consumidos', 'consumen', 'consultor', 'consultarle', 'construyeron', 'constipado', 'constante', 'constancia', 'consta', 'conspiración', 'consola', 'consiste', 'consigues', 'consigue', 'consiento', 'consideró', 'consideras', 'consideramos', 'considerada', 'consideración', 'considerable', 'conservador', 'consentimiento', 'conseguirás', 'conseguirá', 'consecutivos', 'conozcas', 'conocían', 'conocíamos', 'conocíais', 'conocimos', 'conociera', 'conocerlo', 'conocerla', 'conmocionado', 'congreso', 'congelador', 'congelado', 'congelada', 'confíes', 'confías', 'confusos', 'confusiones', 'confundí', 'confundáis', 'confundiendo', 'confundidos', 'confundida', 'conflictos', 'confió', 'confiáis', 'confisqué', 'confirmé', 'confieso', 'confieren', 'confiemos', 'confidente', 'confiaste', 'confiaron', 'confiamos', 'confiaban', 'confesó', 'confesar', 'conferencias', 'conexión', 'conejos', 'conectó', 'conectado', 'conduzcamos', 'conducía', 'conductores', 'conduciré', 'condenó', 'condenados', 'concéntrate', 'concursantes', 'concurrió', 'concuerdo', 'concordaron', 'concordar', 'concluyó', 'concluir', 'conciertos', 'conciencia', 'concentrándose', 'concentrar', 'concentración', 'concentraba', 'comés', 'coméis', 'comé', 'comuníquese', 'comunista', 'comunique', 'comunicarse', 'comunicado', 'comunicación', 'computadores', 'computadoras', 'compulsivo', 'compuesta', 'comprárselo', 'comprármelo', 'comprueba', 'comprobando', 'compres', 'comprendía', 'comprendiera', 'comprenderlo', 'comprenda', 'comprasteis', 'comprase', 'compraría', 'comprando', 'comprador', 'comporte', 'comportara', 'comportaban', 'completó', 'completar', 'compleja', 'complacidos', 'complacido', 'complacida', 'complacerlo', 'complacer', 'compinches', 'competitivos', 'competir', 'competente', 'compensártelo', 'compensar', 'compañías', 'compañero', 'compartió', 'compartiremos', 'compartir', 'compartilo', 'comparte', 'compartas', 'compartamos', 'comparados', 'comparado', 'compacto', 'comité', 'comieron', 'comiera', 'comiences', 'cometí', 'cometiste', 'cometiendo', 'comería', 'comeré', 'comeremos', 'comenzaré', 'comenzarán', 'comenzará', 'comenzaron', 'comenzando', 'comentarios', 'comencé', 'comedias', 'comediante', 'combustibles', 'combustible', 'combinan', 'combatir', 'combate', 'columnas', 'colorado', 'colorada', 'coloquio', 'colonos', 'colonial', 'colonia', 'colocaron', 'colocar', 'colocado', 'colisionó', 'colibrí', 'colgué', 'colgando', 'coleta', 'colesterol', 'colecciona', 'cole', 'cojo', 'coinciden', 'cogí', 'cogimos', 'cogieron', 'cogeré', 'cogerte', 'cogerlo', 'cogemos', 'coged', 'codos', 'codificar', 'cocinas', 'cocinara', 'cocidos', 'cocido', 'cocer', 'cobraron', 'cobrar', 'cobrado', 'cobayas', 'coartada', 'coaccionada', 'clásicos', 'closet', 'climático', 'clientes', 'clic', 'clavo', 'clavar', 'claridad', 'claras', 'clandestinidad', 'civil', 'ciudadana', 'citado', 'circunstancia', 'cintura', 'cilindro', 'cigarrillos', 'cigarrillo', 'cifras', 'ciervo', 'ciertos', 'ciertas', 'ciertamente', 'cielos', 'cielorraso', 'ciego', 'ciega', 'cicatriz', 'cia', 'chuparse', 'chuchito', 'choque', 'chomba', 'chofer', 'chocara', 'chocado', 'choca', 'chispas', 'chismorreando', 'chismes', 'chirrió', 'chirrido', 'chiquita', 'chinatown', 'chilló', 'chilléis', 'chillona', 'chilles', 'chile', 'chicazo', 'chicago', 'cheese', 'chavez', 'chau', 'chasquido', 'charle', 'charla', 'chaparrón', 'chanta', 'chancho', 'chances', 'chance', 'chamaco', 'chabola', 'chabacanas', 'cesta', 'cesar', 'certeza', 'cerréis', 'cerré', 'cerrándose', 'cerrá', 'cerraste', 'cerrarse', 'cerradura', 'cerradas', 'ceremonioso', 'cerebro', 'cerdos', 'cerdo', 'cerciórate', 'cercanos', 'cepíllate', 'cepillándose', 'cepillo', 'cepillando', 'cepilla', 'centímetros', 'centígrados', 'centró', 'central', 'centinela', 'centenas', 'centavo', 'cenaron', 'cenamos', 'cenado', 'celular', 'celos', 'celebró', 'celebráis', 'celebramos', 'celebra', 'celda', 'cejas', 'cedí', 'cedisteis', 'cebo', 'cds', 'cazar', 'cazadores', 'caza', 'cayeron', 'cayendo', 'cavó', 'cauterizar', 'causarle', 'causando', 'causados', 'católicos', 'catástrofe', 'categoría', 'catastróficas', 'catapulta', 'casé', 'casualidad', 'casual', 'castillos', 'castigue', 'castigo', 'castigaron', 'castigaran', 'castigada', 'castiga', 'castaño', 'castañas', 'casos', 'casillero', 'cases', 'casarme', 'casara', 'cartón', 'cartucho', 'cartero', 'carteristas', 'carrilla', 'carpeta', 'carpas', 'caros', 'carnicero', 'cariño', 'cargándose', 'cargos', 'cargando', 'cargado', 'carece', 'cardíaco', 'cardiólogos', 'cardiff', 'carbohidratos', 'carajo', 'carajazo', 'caracteres', 'capuccinos', 'captúralo', 'capten', 'capciosa', 'capacitado', 'capacitada', 'capa', 'canuto', 'cantinero', 'cantemos', 'cante', 'cantaré', 'cantaras', 'cantan', 'cantado', 'cansás', 'canso', 'cansando', 'cansadas', 'cansa', 'candado', 'cancelé', 'cancelada', 'canasto', 'canal', 'campus', 'campesino', 'campeonato', 'camiseta', 'caminé', 'camines', 'caminemos', 'caminas', 'caminaría', 'caminaron', 'caminamos', 'caminado', 'cambridge', 'cambios', 'cambien', 'cambiemos', 'cambie', 'cambiaríais', 'cambiaría', 'cambiaré', 'cambiarse', 'cambiarme', 'cambiante', 'cambian', 'cambiamos', 'camarera', 'calzado', 'calurosa', 'calorías', 'calmó', 'calmar', 'calmantes', 'callos', 'callate', 'callaría', 'callarse', 'callados', 'callada', 'california', 'calientes', 'calidad', 'calentito', 'calentador', 'calendario', 'calculó', 'calcular', 'calcula', 'calcetín', 'calabazas', 'calabaza', 'caigo', 'cagarla', 'cafetería', 'caes', 'caducado', 'caduca', 'cadena', 'cachondo', 'cacharro', 'cacerola', 'cacao', 'cabrito', 'cableado', 'cabecero', 'cabe', 'cabalgó', 'c++', 'búsquenlo', 'básicamente', 'bájalo', 'byron', 'buzón', 'buses', 'buscándolo', 'buscan', 'buscado', 'burlarte', 'burlar', 'bungee', 'buenísimo', 'bucear', 'brécol', 'brujas', 'británicos', 'brincó', 'brincar', 'brilló', 'brillantes', 'brillaba', 'breves', 'bregando', 'brasileños', 'brasilero', 'brandi', 'boxeo', 'botín', 'botiquín', 'botar', 'bostezar', 'bostezando', 'borró', 'borré', 'borrá', 'borrarlo', 'borrar', 'borges', 'bordo', 'borda', 'bonjour', 'bonitas', 'bombillo', 'bomberos', 'bombero', 'bombas', 'bombardeada', 'boletín', 'boletos', 'boletería', 'bolearon', 'bolacero', 'bolacear', 'bola', 'bol', 'bofetada', 'bofes', 'bobo', 'bmw', 'bloqueó', 'bloqueaba', 'bloque', 'blancas', 'biólogos', 'bizcochuelos', 'bistec', 'biombo', 'biología', 'billetes', 'billete', 'bigotes', 'bigote', 'bienvenidos', 'bienestar', 'bienes', 'bicicleta;', 'bici', 'bichos', 'bibliotecaria', 'besá', 'berenjenas', 'beneficiará', 'bendición', 'bellísima', 'bells', 'bebía', 'bebés', 'bebimos', 'bebidas', 'beberlo', 'bebedor', 'beatles', 'bañes', 'bañera', 'bañate', 'bañador', 'bañaba', 'bautizada', 'batuta', 'baterista', 'bate', 'batalla', 'bata', 'basándome', 'bastará', 'bastantes', 'basta', 'barítono', 'barría', 'barro', 'barra', 'barba', 'baratas', 'barata', 'baraje', 'banquero', 'bandos', 'banderas', 'bancarrota', 'bancario', 'bananas', 'balón', 'ballenas', 'balde', 'balazos', 'balanceada', 'bajémonos', 'bajé', 'bajásemos', 'bajen', 'bajarle', 'bajaran', 'bajara', 'bajaba', 'bailó', 'bailarín', 'bailaron', 'bailarines', 'baila', 'bagre', 'bacteria', 'baches', 'babuinos', 'babuino', 'azotea', 'ayudémonos', 'ayudáis', 'ayudemos', 'ayudarías', 'ayudaríamos', 'ayudarán', 'ayudará', 'ayudaros', 'ayudaron', 'ayudarlos', 'ayudaremos', 'ayudan', 'ayudamos', 'ayudame', 'ayudabas', 'ayudaba', 'axila', 'avívate;', 'avíseme', 'avísele', 'avísame', 'avisás', 'aviso', 'avisaré', 'avisar', 'avisado', 'averiguaré', 'averiguarlo', 'averiguan', 'averigua', 'avergüenzo', 'avergüenza', 'avergonzarte', 'avergonzados', 'aventurero', 'avenida', 'avaricioso', 'avanzar', 'avanzando', 'avanzaba', 'avances', 'auxilios', 'autónomo', 'auténtico', 'auténtica', 'autoridades', 'automóviles', 'automóvil', 'autobuses', 'australiana', 'austeridad', 'ausenté', 'ausenta', 'auriculares', 'aumentó', 'aumentos', 'audiencia', 'atún', 'atónitos', 'atómica', 'ató', 'atuendo', 'atrápelo', 'atrápame', 'atropelló', 'atrincherado', 'atribuye', 'atreví', 'atrevas', 'atravesemos', 'atravesar', 'atrasaste', 'atrasa', 'atrapé', 'atraparon', 'atrapados', 'atrapadas', 'atraen', 'atractivo', 'atractiva', 'atracción', 'atoró', 'atmósfera', 'atleta', 'atiende', 'atienda', 'aterrorizó', 'aterrizó', 'aterrizar', 'ateos', 'atenas', 'atasco', 'atascadas', 'atarse', 'atarme', 'atareado', 'atajo', 'atajaremos', 'atadas', 'atacaron', 'atacada', 'asó', 'asustó', 'asustaron', 'asustan', 'asustados', 'asustada', 'asustaba', 'asumió', 'astronomía', 'astillé', 'astilla', 'asqueroso', 'aspiro', 'aspiraban', 'asombro', 'asombrado', 'asociar', 'asociamos', 'asocial', 'asistí', 'asistió', 'asistiré', 'asistirá', 'asistido', 'asistencia', 'asistamos', 'asimila', 'asilo', 'asignó', 'asignaron', 'asfixió', 'asesinatos', 'asemeja', 'asegúrese', 'asegurarme', 'ascensores', 'ascenso', 'ascendía', 'ascendido', 'ascendencia', 'asaltó', 'asalto', 'asahi', 'artistas', 'artista', 'artificiales', 'articulaciones', 'arrulló', 'arrullo', 'arruinará', 'arruinaron', 'arruinados', 'arruinado', 'arrojó', 'arrojé', 'arroja', 'arrodillado', 'arriesgues', 'arriesgando', 'arriesga', 'arresto', 'arrestarte', 'arrepiente', 'arrepentí', 'arrepentirte', 'arreglártelas', 'arreglos', 'arreglo', 'arreglarse', 'arreglando', 'arrastró', 'arrastré', 'arrastradas', 'arrancó', 'arrancará', 'arrancando', 'arqueólogo', 'arqueó', 'arpa', 'aroma', 'armó', 'armazón', 'armaron', 'armamos', 'armada', 'aristócrata', 'argüí', 'argentina', 'arenero', 'arduamente', 'arde', 'archivo', 'arbustos', 'arado', 'aquiles', 'apúrate', 'apóyame', 'apóstoles', 'apuñaló', 'apuñalado', 'apurémonos', 'apuro', 'apurate', 'apuraron', 'apurado', 'apunté', 'apuntarse', 'apuntaron', 'apuntarnos', 'apto', 'apruebo', 'aprueban', 'aprueba', 'aproxima', 'aproveché', 'aprovecharte', 'aprovechar', 'apropiado', 'aprobará', 'aprobarlo', 'aprobado', 'aprieta', 'apretón', 'apretó', 'apretarse', 'apretados', 'apresurarse', 'apresurarnos', 'apresurado', 'aprenderás', 'aprendas', 'aprendan', 'apreciaría', 'aprecia', 'apoyes', 'apoyar', 'apoyado', 'apolo', 'apoderan', 'aplican', 'aplicaciones', 'aplica', 'aplazar', 'aplaudió', 'aplastaste', 'apestoso', 'apestaba', 'apenado', 'apelación', 'apegarse', 'apañé', 'apasionado', 'apasionadamente', 'apasiona', 'apartó', 'aparta', 'aparezca', 'aparentar', 'aparecido', 'aparecer', 'aparcar', 'aparcamiento', 'apagá', 'apagué', 'apaguen', 'apagaste', 'apagaron', 'apagadas', 'anuncios', 'anunciaron', 'anunciado', 'anual', 'antónimo', 'antojo', 'antiguos', 'antiguo', 'antiguamente', 'anticipé', 'anticipándonos', 'anticiparon', 'antibióticos', 'anterior', 'antena', 'anteayer', 'ansioso', 'ansiosa', 'ansias', 'anoté', 'anomalía', 'anochecido', 'anochecer', 'animo', 'animarle', 'animar', 'anhelamos', 'andén', 'anduvo', 'android', 'andamos', 'andada', 'ancla', 'ancestros', 'analices', 'amó', 'ampollas', 'amistad', 'amigables', 'amenazó', 'amenazante', 'amenaza', 'amenaces', 'ambiguo', 'ambicioso', 'amarga', 'amantes', 'amansarlo', 'amanecí', 'aman', 'amaine', 'amainara', 'amado', 'amabilidad', 'alérgicas', 'aléjate', 'alzó', 'alzheimer', 'alzamos', 'alucinando', 'alteró', 'alternativas', 'alterado', 'altas', 'altamente', 'alquilamos', 'alpinistas', 'alpes', 'alocado', 'almuerzas', 'almuerzan', 'almuerza', 'almorzaste', 'almorzarás', 'almorzando', 'almendras', 'almeja', 'alla', 'aliviarse', 'alisó', 'alistémonos', 'alineó', 'alimento', 'alimente', 'alimentaste', 'alimentara', 'alimentar', 'alimentando', 'alimentamos', 'alimentados', 'alicia', 'algodón', 'alexander', 'alertará', 'alero', 'alergias', 'alenté', 'alentar', 'alemanes', 'alejado', 'alegó', 'alegres', 'alegre', 'alegrarías', 'alegrarán', 'alegrará', 'alegrarse', 'alegramos', 'alegaciones', 'alegabas', 'alces', 'alcanzó', 'alcanzaría', 'alcanzame', 'alcanzado', 'alcanza', 'alcantarilla', 'alcancé', 'alcance', 'albergar', 'alas', 'alargan', 'alabó', 'ajustarse', 'ajustar', 'ajusta', 'ajo', 'ajedrez', 'ajará', 'aires', 'ahórrate', 'ahorros', 'ahorrarte', 'ahoritita', 'ahogándose', 'ahogarse', 'ahogando', 'ahogado', 'agüita', 'agárrate', 'agujereados', 'agujereada', 'agudo', 'aguarda', 'aguantó', 'aguanto', 'aguantará', 'aguacero', 'agrupó', 'agria', 'agresivo', 'agresiva', 'agrado', 'agradecimiento', 'agradecieron', 'agradan', 'agotará', 'agotaron', 'agotando', 'agotados', 'agosto', 'agitar', 'agarre', 'agarra', 'agallas', 'agacha', 'afloja', 'aflicción', 'afirmó', 'afirma', 'afiliaste', 'afilaste', 'afiladas', 'aferró', 'afeitó', 'afeito', 'afeitando', 'afectó', 'afecto', 'afectara', 'aeróbic', 'aeropuesto', 'advirtió', 'advierto', 'advertirte', 'advertencias', 'advertencia', 'adquieras', 'adoran', 'adorables', 'adorable', 'adoraban', 'adora', 'adoptó', 'adopté', 'adoptá', 'adoptar', 'adondequiera', 'adolescencia', 'admitirlo', 'admitir', 'admitido', 'admitan', 'admisión', 'admirar', 'admiran', 'admiradores', 'admiradora', 'admirado', 'admiración', 'admirablemente', 'administro', 'adiós', 'adiviné', 'adivine', 'adivinarlo', 'adivinar', 'adictos', 'adicción', 'adelantarle', 'adecuadamente', 'adc', 'adaptaron', 'adaptar', 'acércate', 'acusados', 'acusado', 'acurrucó', 'acumuló', 'acuerdos', 'acudió', 'acudieron', 'acude', 'acuchilló', 'acuario', 'actuó', 'actuaron', 'actuar', 'actualizar', 'actualización', 'actos', 'acto', 'activos', 'activo', 'activado', 'actinio', 'acreedores', 'acreditado', 'acostúmbrate', 'acostó', 'acosté', 'acostumbró', 'acostumbrarse', 'acostumbrando', 'acostumbramiento', 'acostumbrados', 'acostarte', 'acostado', 'acosando', 'acordó', 'acordonó', 'acorde', 'acordaste', 'aconsejé', 'aconsejás', 'aconsejen', 'aconsejaron', 'aconsejar', 'aconsejado', 'acondicionador', 'acompañe', 'acompañas', 'acompañaré', 'acompañara', 'acompañado', 'acomodar', 'acomodamos', 'acogedora', 'aclararse', 'aclarar', 'aclara', 'achuchó', 'acertijo', 'acertado', 'acerques', 'acerque', 'acercando', 'acepté', 'aceptaría', 'aceptaremos', 'aceleró', 'accedo', 'acampar', 'acabé', 'acabábamos', 'acabará', 'acabaron', 'acaban', 'acabamos', 'acababa', 'abuso', 'abusar', 'aburrió', 'aburrir', 'aburriendo', 'aburridos', 'aburrida', 'absuelto', 'absténgase', 'abstuvo', 'abstenerse', 'absorta', 'absorbe', 'abróchense', 'abrían', 'abrí', 'abrochó', 'abro', 'abrirán', 'abriera', 'abriendo', 'abrid', 'abrazo', 'abrazarte', 'abrazaron', 'abrazarlo', 'abraza', 'abran', 'abramos', 'aborrezco', 'aborrecible', 'abordaron', 'abogados', 'abofeteó', 'abnegada', 'abiertas', 'aberración', 'abdominales', 'abatió', 'abatido', 'abanicando', 'abandonen', 'abandonase', 'abandonamos', 'abandonadas', '98', '90%', '86', '8%', '7', '60º', '54', '50%', '5%', '4', '3500', '35', '3198ºc', '31', '3000', '250', '24', '213', '2003', '200', '20/20', '2%', '1993', '1983', '1975', '1972', '1955', '1950', '1945', '1940', '1914', '1912', '19', '1823', '1809', '1492', '14', '13', '123', '12', '10%', '-vamos', '-', '$']\n",
      "9735\n",
      "39\n"
     ]
    }
   ],
   "source": [
    "# Apply to Spanish and check vocabulary\n",
    "vectorize_layer_spanish.adapt(sentences_spanish)\n",
    "spanish_vocabulary = vectorize_layer_spanish.get_vocabulary()\n",
    "print(spanish_vocabulary)\n",
    "print(len(spanish_vocabulary))\n",
    "# also create a variable max_spanish to store max length of Spanish sentences (will come in handy later)\n",
    "max_spanish = vectorize_layer_english(sentences_spanish).shape[1]\n",
    "print(max_spanish)"
   ]
  },
  {
   "cell_type": "markdown",
   "metadata": {},
   "source": [
    "# Seq2Seq Model and Encoder-Decoder Architecture <a name=\"encode_decode\"></a>"
   ]
  },
  {
   "cell_type": "markdown",
   "metadata": {},
   "source": [
    "## Sequence-to-Sequence (Seq2Seq) Modeling <a name=\"encode_decode_s2s\"></a>\n",
    "\n",
    "The goal is a seq2seq model is to take a sequence (e.g., of texts) as input and predict another sequence (e.g., of texts). The input sequence and the output sequence _may not have the same length_. It is relevant for a lot of NLP tasks including:\n",
    "- Machine Translation (turn a piece of text in language A into a piece of text in language B);\n",
    "- Q&A (take a question and produce an answer);\n",
    "- Speech recognition (predict text based on speech/sound);\n",
    "- Conversational AI (e.g., chatbots).\n",
    "\n",
    "<font color=\"blue\"> The **encoder-decoder architecture** is one of the canonical neural network architecture for seq2seq modeling tasks. </font>"
   ]
  },
  {
   "cell_type": "markdown",
   "metadata": {},
   "source": [
    "## Basic Ideas of the Encoder-Decoder Architecture <a name=\"encode_decode_architecture\"></a>\n",
    "\n",
    "The encoder-decoder architecture has three components: the **encoder**, the **context**, and the **decoder**. Among them, the encoder and the decoder are typically RNNs and the context is typically a vector. The three componenets have different roles:\n",
    "- The encoder \"reads\" the input sequence, then produce a vector output at the end. That vector output is the context. In other words, the encoder \"encodes\" information in the input sequence into a numeric vector;\n",
    "- The context vector can be thought of as a \"summary\" or \"representation\" of the information in the input sequence;\n",
    "- The decoder takes the context vector, then \"decodes\" its information to produce the output sequence.\n",
    "\n",
    "Take machine translation as an example, this architecture conceptually mimic how humans translate: read a sentence in language A (encoder), understand / digest it (context), then produce the translated sentence in language B (decoder).\n",
    "\n",
    "<font color=\"red\">Question: why do we need the context vector? Why can't we just directly predict the output sequence, one word at a time, as the encoder reads through the input sequence?</font> (recall the many-to-many RNN architecture that you learned in Yicheng's class). **Hint:** think about the lengths of input and output sequences.\n",
    "\n",
    "Based on the roles of encoder and decoder, we can easily map out the RNN structures that we need:\n",
    "- For the encoder, we need an RNN that takes a sequence input and produce a vector output at the end (i.e., many-to-one structure). This is exactly the same structure that we have used for classification purpose, _except that we don't need to get a final categorical prediction - we just need the hidden state of the RNN at the final time step_. <font color=\"red\">Question: why use the hidden states?</font>;\n",
    "- For the decoder, we need an RNN that takes a single vector as input and produce a sequence as output (i.e., one-to-many structure). More details below."
   ]
  },
  {
   "cell_type": "markdown",
   "metadata": {},
   "source": [
    "## Technical Details of the Encoder-Decoder Architecture <a name=\"encode_decode_tech\"></a>\n",
    "\n",
    "![Encoder-Decoder Architecture Illustration](images/encoder_decoder.gif)\n",
    "image credit: https://medium.com/analytics-vidhya/machine-translation-using-neural-networks-61ea85b39ad4\n",
    "\n",
    "Consider a training dataset with $N$ **pairs** of input sequences and output sequences (e.g., in the case of machine translation, these may be $N$ pairs of corresponding sentences in two languages). Let's represent a particular input sequence as $\\boldsymbol{X_n} = (x_1, \\ldots, x_T)$ and the corresponding output sequence as $\\boldsymbol{Y_n} = (y_1, \\ldots, y_{T'})$. Importantly, $T$ may not equal $T'$, i.e., the two sequences may have different lengths.\n",
    "\n",
    "**The encoder RNN**: The encoder RNN behaves just like a regular RNN that you have seen in the case of text classification. Its hidden state changes as it reads through the input sequence:\n",
    "$$h_t^{(encoder)} = f(h_{t-1}^{(encoder)}, x_t)$$\n",
    "where function $f()$ represent the activation function, and can be as simple as the hyperbolic tagent (i.e., simple RNN), or the complex LSTM.\n",
    "\n",
    "**The context vector**: The context vector $\\boldsymbol{C}$, which serves as a \"summary\" of the entire input sequence, is simply the last hidden state of encoder RNN. In other words,\n",
    "$$\\boldsymbol{C} = h_T^{(encoder)}$$\n",
    "\n",
    "**The decoder RNN**: The decoder RNN takes the context vector and predict the output sequence. In particular, it works as follows:\n",
    "1. Set $h_0^{(decoder)} = \\boldsymbol{C}$ (the context vector becomes the initial hidden state of decoder). Set $y_0$ as an empty string or a special character that indicates the beginning of a sequence;\n",
    "2. Compute next hidden state as $h_t^{(decoder)} = f(h_{t-1}^{(decoder)},y_{t-1})$. Again, $f()$ is the activation function of your choice. (BTW, using $y_{t-1}$ as part of the input to compute the next hidden state in decoder RNN is called \"teacher forcing\");\n",
    "3. Predict $\\hat{y_t} = softmax(h_t^{(decoder)})$ as the next word in sequence;\n",
    "4. Repeat steps 2-3, until some max length of the output sequence or a special character indicating the end of a sequence is reached.\n",
    "\n",
    "During training, the loss function is constructed by comparing $(\\hat{y_1}, \\ldots, \\hat{y_{T'}})$ with the ground truth $(y_1, \\ldots, y_{T'})$, via categorical cross-entropy.\n",
    "\n",
    "<font color=\"blue\">During out-of-sample prediction, in step 2 of decoder, because $y_{t-1}$ is unobserved, you can simply replace it with $\\hat{y_{t-1}}$.</font> This way of putting the model's output back into the model to generate the next output is called _auto-regressive_ (related to, but not to be confused with, the auto-regressive model in time-series forecasting)."
   ]
  },
  {
   "cell_type": "markdown",
   "metadata": {},
   "source": [
    "## Implement Encoder-Decoder Architecture in Keras <a name=\"encode_decode_implement\"></a>\n",
    "\n",
    "<font color=\"red\">Disclaimer: </font>Different from what we did for text classification (i.e., mostly calling existing functions), we need to do quite a bit of implementations by ourselves here. As such, there are multiple ways to implement the same thing, and my code below should be treated as _a demonstration_, rather than the most efficient / general-purpose way of implementing the encoder-decoder architecture.\n",
    "\n",
    "As demonstration, I use GRU cells for both the encoder RNN and the decoder RNN. Of course, one can use LSTM cells as well. See [Character-level recurrent sequence-to-sequence model](https://keras.io/examples/nlp/lstm_seq2seq/) as an example."
   ]
  },
  {
   "cell_type": "code",
   "execution_count": 17,
   "metadata": {},
   "outputs": [],
   "source": [
    "# Assemble the Encoder RNN\n",
    "# It consists of an input layer, an embedding layer, and a GRU layer\n",
    "# For demonstration, I will set the embedding dimensions and number of GRU units to be 64 (note: the two do not necessarily need to have the same dimension in general)\n",
    "\n",
    "encoder_inputs = keras.layers.Input(shape = (None,), # shape = (None,) indicates that the length of each input is not known in advance\n",
    "                                    name = \"encoder_input\") \n",
    "x = keras.layers.Embedding(input_dim = len(vectorize_layer_english.get_vocabulary()),\n",
    "                           output_dim = 64,\n",
    "                           mask_zero = True,\n",
    "                           name = \"encoder_embedding\")(encoder_inputs)\n",
    "encoder_h_all, encoder_h_final = keras.layers.GRU(units = 64,\n",
    "                                                   return_state = True,  # Set return_state = True to get the hidden state at the end, i.e., the context vector\n",
    "                                                   name = \"encoder_gru\")(x)"
   ]
  },
  {
   "cell_type": "code",
   "execution_count": 18,
   "metadata": {},
   "outputs": [],
   "source": [
    "# Assemble the Decoder RNN\n",
    "# It also consists of an input layer, an embedding layer, and a GRU layer\n",
    "\n",
    "decoder_inputs = keras.layers.Input(shape = (None,), name = \"decoder_input\")\n",
    "x = keras.layers.Embedding(input_dim = len(vectorize_layer_spanish.get_vocabulary()),\n",
    "                           output_dim = 64,\n",
    "                           mask_zero = True,\n",
    "                           name = \"decoder_embedding\")(decoder_inputs)\n",
    "decoder_h_all, decoder_h_final = keras.layers.GRU(units = 64,\n",
    "                                                  return_sequences = True,  # MUST return_sequences = True to allow the RNN to output its hidden state at each step (rathar than only at the end)\n",
    "                                                  return_state = True,\n",
    "                                                  name = \"decoder_gru\")(x, initial_state = encoder_h_final)  # Setting initial_state = encoder_states passes the context vector to decoder RNN\n",
    "# Then turn decoder RNN hidden state at each step into a prediction\n",
    "decoder_predictions = keras.layers.Dense(units = len(vectorize_layer_spanish.get_vocabulary()),\n",
    "                                         activation='softmax',\n",
    "                                         name = \"decoder_dense\")(decoder_h_all)"
   ]
  },
  {
   "cell_type": "markdown",
   "metadata": {},
   "source": [
    "<font color=\"blue\">Coding Note: what's the difference between return_state and return_sequences here?</font>\n",
    "\n",
    "When specifying RNN cells/layers in Keras, return_state controls whether you want the layer to return the hidden state at the _final step_, and return_sequences controls whether you the hidden state at _every step_. Take GRU as an example:\n",
    "- `output = GRU(units, return_state = False, return_sequences = False)` means you only want the final hidden state stored in output;\n",
    "- `output, state = GRU(units, return_state = True, return_sequences = False)` also means you only want the final hidden state. Here, output and state will be two tensors of the same values;\n",
    "- `output, state = GRU(units, return_state = True, return_sequences = True)` means you want both the final state and state at every step. Here, output will contain hidden state of every step (i.e., it will be a tensor with a \"time\" dimension), whereas state will only store the final hidden state."
   ]
  },
  {
   "cell_type": "code",
   "execution_count": 19,
   "metadata": {},
   "outputs": [],
   "source": [
    "# Put encoder and decoder RNNs into a keras Model object, so it can be trained\n",
    "# Documentation here: https://www.tensorflow.org/api_docs/python/tf/keras/Model\n",
    "model = keras.Model(inputs = [encoder_inputs, decoder_inputs],\n",
    "                    outputs = decoder_predictions)"
   ]
  },
  {
   "cell_type": "code",
   "execution_count": 23,
   "metadata": {},
   "outputs": [],
   "source": [
    "# We still need to do two things to prepare the actual data for decoder_outputs:\n",
    "# 1. We need to move it \"one step ahead\" of the actual output Spanish sentences, becauses of the teacher forcing training strategy: we use encoder states + decoder input at t to predict decoder input at t+1\n",
    "# 2. Because \"decoder_outputs\" are generated by a dense layer via softmax activation, we need to one-hot encode the Spanish sentences\n",
    "temp = vectorize_layer_spanish(sentences_spanish)\n",
    "\n",
    "# the decoder_output_data tensor should have shape (num_sentences, max_sentence_length, size_of_vocabulary)\n",
    "decoder_predictions_oneahead = np.zeros((temp.shape[0], temp.shape[1], len(vectorize_layer_spanish.get_vocabulary())), dtype = \"float32\")\n",
    "for i in range(temp.shape[0]):\n",
    "    for j in range(1, temp.shape[1]): # start from 1, because we want to move \"one step ahead\"\n",
    "        decoder_predictions_oneahead[i, j-1, temp[i,j]] = 1"
   ]
  },
  {
   "cell_type": "code",
   "execution_count": 112,
   "metadata": {},
   "outputs": [
    {
     "name": "stdout",
     "output_type": "stream",
     "text": [
      "Epoch 1/10\n",
      "375/375 [==============================] - 349s 931ms/step - loss: 0.9143 - accuracy: 0.2374 - val_loss: 0.7800 - val_accuracy: 0.3433\n",
      "Epoch 2/10\n",
      "375/375 [==============================] - 340s 905ms/step - loss: 0.7620 - accuracy: 0.3626 - val_loss: 0.7345 - val_accuracy: 0.3778\n",
      "Epoch 3/10\n",
      "375/375 [==============================] - 325s 868ms/step - loss: 0.7247 - accuracy: 0.3856 - val_loss: 0.7104 - val_accuracy: 0.3979\n",
      "Epoch 4/10\n",
      "375/375 [==============================] - 316s 842ms/step - loss: 0.6987 - accuracy: 0.4034 - val_loss: 0.6915 - val_accuracy: 0.4138\n",
      "Epoch 5/10\n",
      "375/375 [==============================] - 328s 874ms/step - loss: 0.6791 - accuracy: 0.4175 - val_loss: 0.6795 - val_accuracy: 0.4233\n",
      "Epoch 6/10\n",
      "375/375 [==============================] - 338s 902ms/step - loss: 0.6648 - accuracy: 0.4279 - val_loss: 0.6747 - val_accuracy: 0.4255\n",
      "Epoch 7/10\n",
      "375/375 [==============================] - 334s 891ms/step - loss: 0.6527 - accuracy: 0.4367 - val_loss: 0.6658 - val_accuracy: 0.4354\n",
      "Epoch 8/10\n",
      "375/375 [==============================] - 336s 896ms/step - loss: 0.6418 - accuracy: 0.4456 - val_loss: 0.6578 - val_accuracy: 0.4410\n",
      "Epoch 9/10\n",
      "375/375 [==============================] - 338s 902ms/step - loss: 0.6317 - accuracy: 0.4537 - val_loss: 0.6517 - val_accuracy: 0.4448\n",
      "Epoch 10/10\n",
      "375/375 [==============================] - 343s 914ms/step - loss: 0.6217 - accuracy: 0.4610 - val_loss: 0.6461 - val_accuracy: 0.4507\n"
     ]
    },
    {
     "data": {
      "text/plain": [
       "<tensorflow.python.keras.callbacks.History at 0x25d67a73790>"
      ]
     },
     "execution_count": 112,
     "metadata": {},
     "output_type": "execute_result"
    }
   ],
   "source": [
    "# Train the model\n",
    "model.compile(optimizer=\"rmsprop\",\n",
    "              loss=\"categorical_crossentropy\",\n",
    "              metrics=[\"accuracy\"])\n",
    "\n",
    "# Note: the following training will run for about 1 hour on a regular laptop\n",
    "model.fit([vectorize_layer_english(sentences_english), vectorize_layer_spanish(sentences_spanish)],\n",
    "          decoder_predictions_oneahead,\n",
    "          batch_size = 32,\n",
    "          epochs = 10,\n",
    "          validation_split = 0.2)"
   ]
  },
  {
   "cell_type": "markdown",
   "metadata": {},
   "source": [
    "We are not done yet! Using a trained encoder-decoder model to make predictions is more complicated than simply `model.predict()`. We need to build a prediction function that takes a given english sentence, process it, run through the network, and generate Spanish predictions one word at a time. This is called **inference**.\n",
    "\n",
    "First, we need to construct the encoder and decoder for deployment. This step looks very similar to what we did when we construct them for training, but now we use the trained model object."
   ]
  },
  {
   "cell_type": "code",
   "execution_count": 34,
   "metadata": {},
   "outputs": [
    {
     "data": {
      "text/plain": [
       "[<tensorflow.python.keras.engine.input_layer.InputLayer at 0x1bdf3d2a640>,\n",
       " <tensorflow.python.keras.engine.input_layer.InputLayer at 0x1bdef9d85e0>,\n",
       " <tensorflow.python.keras.layers.embeddings.Embedding at 0x1bdedfd39d0>,\n",
       " <tensorflow.python.keras.layers.embeddings.Embedding at 0x1bdf26a61c0>,\n",
       " <tensorflow.python.keras.layers.recurrent_v2.GRU at 0x1bdf3dc6eb0>,\n",
       " <tensorflow.python.keras.layers.recurrent_v2.GRU at 0x1bddba32eb0>,\n",
       " <tensorflow.python.keras.layers.core.Dense at 0x1bdf26ab460>]"
      ]
     },
     "execution_count": 34,
     "metadata": {},
     "output_type": "execute_result"
    }
   ],
   "source": [
    "# Take a look at all the trained layers in the model object - we will use them to construct encoder/decoder for deployment\n",
    "model.layers\n",
    "# if you forgot what each layer represents, you can retrieve its name to remind yourself. For example\n",
    "#print(model.layers[5].name)"
   ]
  },
  {
   "cell_type": "code",
   "execution_count": 114,
   "metadata": {},
   "outputs": [],
   "source": [
    "# Construct encoder\n",
    "encoder_inputs = model.input[0]\n",
    "encoder_embedding_layer = model.layers[2]\n",
    "encoder_embedded_inputs = encoder_embedding_layer(encoder_inputs)\n",
    "encoder_gru = model.layers[4]\n",
    "encoder_h_all, encoder_h_final = encoder_gru(encoder_embedded_inputs)\n",
    "encoder_model = keras.Model(inputs = encoder_inputs,\n",
    "                            outputs = encoder_h_final)"
   ]
  },
  {
   "cell_type": "code",
   "execution_count": 115,
   "metadata": {},
   "outputs": [
    {
     "data": {
      "text/plain": [
       "array([[ 0.06379634, -0.06867911,  0.0224181 , -0.01005947,  0.01135689,\n",
       "         0.02713817,  0.06173227,  0.0315777 ,  0.0854506 ,  0.04984908,\n",
       "         0.03262766, -0.06452022,  0.02338152,  0.00326141,  0.00352042,\n",
       "         0.04879302, -0.00934004,  0.02815293, -0.04780437, -0.0181174 ,\n",
       "         0.02910002, -0.06143535, -0.068152  , -0.04027976,  0.02581373,\n",
       "         0.00888741, -0.01559817,  0.07280658,  0.14587033, -0.06181121,\n",
       "        -0.07616357, -0.00798858, -0.07944083,  0.056419  , -0.01836442,\n",
       "         0.05653227,  0.03495847,  0.06762259,  0.00858808, -0.01498305,\n",
       "        -0.06635191,  0.11128965,  0.1195935 ,  0.06607796, -0.02631752,\n",
       "        -0.1413462 , -0.04873307,  0.08222912, -0.00267215,  0.08329066,\n",
       "         0.01642701, -0.05979476, -0.09580483,  0.00491492, -0.03502396,\n",
       "         0.06356701, -0.01445538, -0.05308008,  0.11230695, -0.1122926 ,\n",
       "        -0.00118725,  0.04316691, -0.08154774, -0.00367362]],\n",
       "      dtype=float32)"
      ]
     },
     "execution_count": 115,
     "metadata": {},
     "output_type": "execute_result"
    }
   ],
   "source": [
    "# Example: use the constructed encoder to encode a sentence. The output will be a 64-dimensional context vector\n",
    "# See the \"encoder hidden state\" with your own eyes!\n",
    "encoder_model.predict(vectorize_layer_english(['Hi']))"
   ]
  },
  {
   "cell_type": "code",
   "execution_count": 116,
   "metadata": {},
   "outputs": [],
   "source": [
    "# Construct decoder\n",
    "decoder_inputs = model.input[1]\n",
    "decoder_embedding_layer = model.layers[3]\n",
    "decoder_embedded_inputs = decoder_embedding_layer(decoder_inputs)\n",
    "decoder_gru = model.layers[5]\n",
    "decoder_states_inputs = keras.layers.Input(shape = (64,)) # during actual deployment, this will be the encoder final hidden states\n",
    "decoder_h_all, decoder_h_final = decoder_gru(decoder_embedded_inputs,\n",
    "                                             initial_state = decoder_states_inputs) \n",
    "decoder_dense = model.layers[6]\n",
    "decoder_predictions = decoder_dense(decoder_h_all)\n",
    "# technical note: when the inputs / outputs of the keras.Model() has multiple parts, it must be a list of objects\n",
    "decoder_model = keras.Model(inputs = [decoder_inputs, decoder_states_inputs],\n",
    "                            outputs = [decoder_predictions, decoder_h_all])"
   ]
  },
  {
   "cell_type": "code",
   "execution_count": 117,
   "metadata": {},
   "outputs": [],
   "source": [
    "# Now, let's build the inference function\n",
    "def translate(input_sentence):\n",
    "    # first, run it through the encoder model to get context vector\n",
    "    states_value = encoder_model.predict(vectorize_layer_english(input_sentence))\n",
    "    \n",
    "    # next, let's construct a target_sentence and a predict_sentence\n",
    "    # the target start with the \"<start>\" word, and serves as the input to decoder during teacher forcing - it is the y_{t-1} element when t = 1\n",
    "    # the predict_sentence is our ultimate prediction\n",
    "    target = '<start>'\n",
    "    predict_sentence = ''\n",
    "    predict_sentence_len = 0\n",
    "    stop = False\n",
    "    while not stop:\n",
    "        output_softmax_probs, h = decoder_model.predict([vectorize_layer_spanish(target), states_value])\n",
    "        # get the output word based on \"output_softmax_probs\" (which is the softmax output probabilities)\n",
    "        # the weired index [0,-1,:] here is because the output shape is (batch_size, num_sentences, num_words)\n",
    "        output_word_idx = np.argmax(output_softmax_probs[0,-1,:])\n",
    "        output_word = spanish_vocabulary[output_word_idx]\n",
    "        predict_sentence += output_word + ' '\n",
    "        predict_sentence_len += 1\n",
    "        \n",
    "        # check stop conditions\n",
    "        if output_word == '<end>' or predict_sentence_len > max_spanish:\n",
    "            stop = True\n",
    "            \n",
    "        # update the target to be the current output, for next prediction\n",
    "        target = output_word\n",
    "        \n",
    "        # also update the hidden state of decoder RNN, for next prediction\n",
    "        states_value = h\n",
    "    \n",
    "    return predict_sentence"
   ]
  },
  {
   "cell_type": "code",
   "execution_count": 121,
   "metadata": {},
   "outputs": [
    {
     "data": {
      "text/plain": [
       "'¿ puedo ir a la casa de la casa ? <end> '"
      ]
     },
     "execution_count": 121,
     "metadata": {},
     "output_type": "execute_result"
    }
   ],
   "source": [
    "translate(['<start> Was it you that left the door open last night ? <end>'])"
   ]
  },
  {
   "cell_type": "markdown",
   "metadata": {},
   "source": [
    "# Attention Mechanism <a name=\"attention\"></a>"
   ]
  },
  {
   "cell_type": "markdown",
   "metadata": {},
   "source": [
    "## What is it and Why do We Need it? <a name=\"attention_motivation\"></a>\n",
    "\n",
    "Not long after the success of encoder-decoder architecture in machine translation and other applications, people started to realize that it has some serious limitations. One important limitation that motivated the attention mechanism is the observation that **different parts of the input sequence are not equally important for predicting the output sequence** (see the simple example below). The basic encoder-decoder architecture cannot capture this aspect, because for each input sequence we only get a _single_ context vector that is used to generate the entire output sequence.\n",
    "![An Example of Why We Need Attention](images/attention.gif)\n",
    "image credit: https://medium.com/eleks-labs/neural-machine-translation-with-attention-mechanism-step-by-step-guide-989adb12127b\n",
    "\n",
    "This also naturally gives rise to the basic idea behind the attention mechanism: Instead of a single context vector, we now compute one context vector specifically for generating one word in the output sequence. That context vector should encode the information from input sequence that is most useful for predicting the target word in output sequence. In other words, we \"align\" the context vector for each target word in the output sequence."
   ]
  },
  {
   "cell_type": "markdown",
   "metadata": {},
   "source": [
    "## Technical Details of Attention Mechanism <a name=\"attention_tech\"></a>\n",
    "\n",
    "![Illustration of Attention Mechanism](images/attention_detail.png)\n",
    "image credit: Figure 1 in https://arxiv.org/pdf/1409.0473.pdf. <font color=\"blue\">Note:</font> I'm going to use slightly different notations than what's in the above picture, in order to be consistent with other parts of this notebook. Specifically, I will use $h_t^{(encoder)}$ and $h_t^{(decoder)}$ to represent encoder/decoder hidden states, whereas the same things are denoted as $h_t$ and $s_t$ in the picture.\n",
    "\n",
    "**The encoder RNN**: same as the encoder step in a standard encoder-decoder architecture, _except that we typically use a bi-directional RNN_ (rather than a one-directional RNN). <font color=\"blue\">Intuition for using bi-directional RNN:</font> we want the hidden states of the encoder RNN to contain information of both the preceding and following words in the input sequence, to help better learn the \"alignment\" with the target word. Formally, the forward and backward pass are:\n",
    "$$\\overrightarrow{h_t^{(encoder)}} = f(\\overrightarrow{h_{t-1}^{(encoder)}}, x_t)$$\n",
    "$$\\overleftarrow{h_t^{(encoder)}} = f(\\overleftarrow{h_{t+1}^{(encoder)}}, x_t)$$\n",
    "and we concatenate the two to form the hidden state of encoder RNN at time $t$, i.e.,\n",
    "$$h_t^{(encoder)} = \\big[\\overrightarrow{h_t^{(encoder)}}, \\overleftarrow{h_t^{(encoder)}} \\big]$$\n",
    "\n",
    "**The context vector**: the context vector for target word $i$ is a **weighted sum** of all encoder hidden states:\n",
    "$$\\boldsymbol{C_i} = \\sum_{t=1}^{T} \\alpha_{it} h_t^{(encoder)}$$\n",
    "So where does the weights, $\\alpha_{it}$, come from? They are actually trained via a (standard) feed-forward neural network, together with the encoder and decoder. Specifically, the feed-forward neural network has only 1 hidden layer with $tanh$ activation, with input $[h_{i-1}^{(decoder)}, h_t^{(encoder)}]$. The output layer of this network has $T$ neurons (correspond to the $T$ output weights) with softmax activation. For example, for the neuron $t$ in the output layer, denote its value before activation as $e_{it}$ (often called the _\"score\"_), then via softmax we have:\n",
    "$$\\alpha_{it} = \\frac{\\exp(e_{it})}{\\sum_{k=1}^T \\exp(e_{ik})}$$\n",
    "\n",
    "**The decoder RNN**: at time step $i$ of the decoder RNN, it takes the hidden state from step $i-1$ as well as the context vector $\\boldsymbol{C_i}$ as input to compute the hidden state at step $t$ and then produce a prediction at that step. So,\n",
    "1. Compute next hidden state as $h_i^{(decoder)} = f(h_{i-1}^{(decoder)},y_{i-1},\\boldsymbol{C_i})$. The context vector $\\boldsymbol{C_i}$ is concatenated with the other inputs and feed into the activation function;\n",
    "2. Predict $\\hat{y_i} = softmax(h_i^{(decoder)})$ as the next word in sequence;\n",
    "3. Repeat steps 1-2 until termination."
   ]
  },
  {
   "cell_type": "markdown",
   "metadata": {},
   "source": [
    "## Other Types of Attention <a name=\"attention_other\"></a>\n",
    "\n",
    "Besides the attention mechanism discussed here, which is often referred to as Bahdanau Attention or Additive Attention, there are several other variations. They differ in terms of how the scores, $e_{it}$, are computed (i.e., computing the scores via a feed-forward neural net is only one of many reasonable ways). I highly recommend taking a look at [this article](https://lilianweng.github.io/lil-log/2018/06/24/attention-attention.html) for details."
   ]
  },
  {
   "cell_type": "markdown",
   "metadata": {},
   "source": [
    "## Implement Attention Mechanism in Keras <a name=\"attention_implement\"></a>\n",
    "\n",
    "Like the encoder-decoder architecture, there is not yet a pre-packaged function that we can call to implement a particular attention mechanism. We have to do a bit of coding ourselves. Note that the [`tf.keras.layers.Attention`](https://www.tensorflow.org/api_docs/python/tf/keras/layers/Attention) implements the dot product attention mechanism (i.e., not the same as what we discussed here)."
   ]
  },
  {
   "cell_type": "markdown",
   "metadata": {},
   "source": [
    "# Transformer <a name=\"transformer\"></a>"
   ]
  },
  {
   "cell_type": "markdown",
   "metadata": {},
   "source": [
    "## What is the Transformer Architecture? <a name=\"transformer_intro\"></a>\n",
    "\n",
    "For a short while (about 2 years) after the attention mechanism was proposed in 2015, the encoder-decoder architecture plus the attention mechanism was the state-of-the-art for many language tasks (e.g., machine translation), until the transformer architecture was proposed in 2017.\n",
    "\n",
    "The transformer architecture follows the same encoder-decoder structure, but seeks to completely throw away the RNNs for encoder/decoder, and only uses (a particular kind of) attention mechanism combined with fully-connected feed-forward neural networks (i.e., non-recurrent). \n",
    "\n",
    "<font color=\"red\">But why would you want to throw away the RNNs?</font> One major reason is computational complexity. In a RNN, computations have to be done sequentially (e.g., processing one word after another), which prohibits parallelization. As a result, large-scale tasks with RNNs may become very slow. As you will see, most of the computations in a transformer (especially the self-attention component) can be done in a one-shot or parallel manner.\n",
    "\n",
    "There are a number of technical components to a transformer architecture (see figure below). I will highlight two important/powerful components (self-attention and positional encoding) and explain the intuition behind them. The goal here is not to understand every single detail of a transformer model (which is still actively evolving as the field progresses), but to get a sense of how it works in general.\n",
    "\n",
    "![Transformer Architecture](images/transformer.png)\n",
    "image credit: [Attention is all You Need](https://arxiv.org/pdf/1706.03762.pdf) (Figure 1)"
   ]
  },
  {
   "cell_type": "markdown",
   "metadata": {},
   "source": [
    "## Key Components of Transformer <a name=\"transformer_components\"></a>"
   ]
  },
  {
   "cell_type": "markdown",
   "metadata": {},
   "source": [
    "### Component 1: Self-Attention\n",
    "\n",
    "The attention mechanism that we discussed before can be thought of as a \"layer\" that sits between an encoder and a decoder, which allows the decoder RNN to \"attend to\" different parts of the encoder hidden states. However, the transformer uses a different type of attention mechanism, called **self-attention**.\n",
    "\n",
    "![Self-Attention Visual Illustration](images/self_attention.png)\n",
    "image credit: [Self-Attention For Generative Models](https://web.stanford.edu/class/cs224n/slides/cs224n-2019-lecture14-transformers.pdf)\n",
    "\n",
    "You can think of self-attention as a mechanism that applies to an input sequence _itself_ (like the visualization above), in order to generate a representation of the sequence that encodes information about how different words in the sequence are related to each other. In a (non-rigorous) sense, it allows the representation of the input sequence to contain information about \"interactions\" among different words in the sequence. <font color=\"red\">So, how exactly does self-attention work?</font>\n",
    "\n",
    "Given an input sequence $\\boldsymbol{X} = (x_1,\\ldots, x_T)$, where each $x_i$ could be a word embedding vector of dimension $D$ (i.e., we use $D$ numbers to represent each word), and $\\boldsymbol{X}$ has dimension $(T,D)$. First we create three vectors, respectively named query, key, and value:\n",
    "- Query vector: $Q = W_Q \\boldsymbol{X}$;\n",
    "- Key vector: $K = W_K \\boldsymbol{X}$;\n",
    "- Value vector: $V = W_V \\boldsymbol{X}$;\n",
    "Note that, $W_Q, W_K, W_V$ are three matrices, each with dimension $(T,T)$, that will be part of the model's parameters to learn. And the resulting query, key, and value vectors each has dimension $(T,D)$. In other words, the query, key, and value vectors are simply linear projections (or linear combinations) of the original input sequence. <font color=\"blue\">Don't worry too much about why these vectors are called \"query\", \"key\", and \"value\". They are meant to be general terminologies to describe all kinds of attention mechanisms (more on this later).</font>\n",
    "\n",
    "Then, we compute the attention weights, $\\boldsymbol{\\alpha}$, which is a matrix of length $(T,T)$. Each column of the matrix contains the weights for each word in the input sequence:\n",
    "$$\\boldsymbol{\\alpha} = softmax \\left(\\frac{QK^{'}}{\\sqrt{D}} \\right)$$\n",
    "In other words, the attention weights are computed as the dot-product of query and key - this is called **dot-product attention**. Don't worry about the division by $\\sqrt{D}$ (it's for some computational reason). Finally, to get the self-attention representation of the input sequence, we simply multiply attention weights with value - just like the weighted sum that you learned from the additive attention mechanism:\n",
    "$$Attention(Q, K, V) = \\boldsymbol{\\alpha} V$$\n",
    "Note that the output here again has dimension $(T,D)$. If you want, you can write it out like $Attention(Q, K, V) = (e_1, \\ldots, e_T)$ where each $e_i$ is a $D$-dimensional embedding vector - <font color=\"blue\">This is the representaion of input sequence after applying self-attention!</font> Because of the attention weighting process discussed above, the $e_i$ embedding vectors now encode relationships among different words in the input sequence. They are sometimes referred to as **contextual embeddings**.\n",
    "\n",
    "Finally, using the contextual embeddings of each word in the input sequence, you can even create an embedding representation of the entire input sequence, by simply averaging across the $T$ words, i.e., $e_{input} = \\frac{1}{T} \\sum\\limits_{i=1}^T e_i$. This is called **pooling**.\n",
    "\n",
    "Three more comments about self-attention used in the transformer architecture:\n",
    "1. As you can see, the entire process of calculating self-attention representation of an input sequence does NOT involve any RNNs or word-by-word recurrence. That's the point of transformer - it wants to get rid of RNNs;\n",
    "2. The terminologies of query, key, and value in the description of an attention mechanism are actually quite general (i.e., they are not only applicable in the transformer context). For example, in the additive mechanism that we discussed before, the \"query\" is the decoder hidden state $h_{t-1}^{(decoder)}$, and both the \"key\" and the \"value\" are encoder hidden state $h_{t}^{(encoder)}$. In general, all types of attention mechanism can be described as some operations that involve the query, key, and value vectors;\n",
    "3. In the actual transformer architecture, people typically use something called a **Multi-Head Self-Attention**. The technical details of it are less relevant here, but here's the high-level idea: you first cut the $D$-dimension embedding into $h$ smaller pieces (each with $D/h$ dimensions), and then apply the same self-attention mechanism to each piece. See [Attention Is All You Need](https://arxiv.org/pdf/1706.03762.pdf) Section 3.2.2 for more information if you are interested."
   ]
  },
  {
   "cell_type": "markdown",
   "metadata": {},
   "source": [
    "### Component 2: Positional Encoding\n",
    "\n",
    "Remember that we throw away the encoder and decoder RNNs, and only rely on self-attention to generate representations of the sequences? Without the sequential RNNs, the model now does not know the sequence of words in the input or output. To counter this loss of information, we try to encode the position of a word in a sequence into the embedding, using **Positional Encoding**. The positional encoding for each word at each position is another vector of the same dimension as the word embedding.\n",
    "\n",
    "In the original paper that proposed transformer, the positional encoding is calculated as follows:\n",
    "$$PE(pos, 2i) = \\sin(\\frac{pos}{10000^{2i/D}})$$\n",
    "$$PE(pos, 2i+1) = \\cos(\\frac{pos}{10000^{2i/D}})$$\n",
    "where $pos$ is a particular position in a sequence and $i \\in {0, ..., D/2}$ is a running index. <font color=\"red\">Looks like some mysterious magic... What does it mean?</font> Let me explain with a small example.\n",
    "\n",
    "Suppose you have an input sequence of 5 words, $\\boldsymbol{X} = (x_1,\\ldots, x_5)$, and each $x_t$ is represented by a $4$-dimensional embedding. Now you want to also encode the positions of each word. For the sake of demonstration, let's say you want to encode the second position, i.e., $pos=2$. You would use the formula above to compute the following:\n",
    "- Set $i=0$, $PE(2, 0) = \\sin(\\frac{2}{10000^0})=\\sin(2) \\approx 0.91$ and $PE(2, 1) = \\cos(\\frac{2}{10000^0})=\\cos(2) \\approx -0.42$;\n",
    "- Set $i=1$, $PE(2, 2) = \\sin(\\frac{2}{10000^{0.5}}) \\approx 0.02$ and $PE(2, 3) = \\cos(\\frac{2}{10000^{0.5}})=\\cos(2) \\approx 1.00$. Stop here because you only need 4 dimensions.\n",
    "Then, the new embedding for the second word in this sequence will be:\n",
    "$$x_2^{'} = x_2 + [0.91, -0.42, 0.02, 1.00]$$\n",
    "\n",
    "This works because, after injecting the positional encoding, _the second word in this sequence will have a different embedding than the same word appearing at a different position in a different sequence_. Essentially, this allows the embedding to contain position-specific information that can help learning. Finally, why using the trigonometry functions? It's mostly for mathematical convenience and it works in practice."
   ]
  },
  {
   "cell_type": "markdown",
   "metadata": {},
   "source": [
    "## Other Components of Transformer and its Implementation <a name=\"transformer_other\"></a>\n",
    "\n",
    "In addition to self-attention and positional encoding, the transformer architecture also uses several other technical building blocks, such as layer normalization and residual connection. If you are interested, please see the [Additional Resources](#resource) section for articles you can read to help you understand these, and for a detailed demonstration of how to implement a transformer model."
   ]
  },
  {
   "cell_type": "markdown",
   "metadata": {},
   "source": [
    "# Application Case: BERT <a name=\"bert\"></a>"
   ]
  },
  {
   "cell_type": "markdown",
   "metadata": {},
   "source": [
    "## What is BERT? <a name=\"bert_intro\"></a>\n",
    "\n",
    "BERT stands for _**B**idirectional **E**ncoder **R**epresentations from **T**ransformers_. It is a **language representation model**, which means it takes raw text and generate a meaningful representation (e.g., embedding) of it. It was developed by Google in 2018. With everything we have discussed so far, you are ready to make sense of all the key components of BERT:\n",
    "\n",
    "1. **B**idirectional means that, during training, the input sequences and its reverse sequence are both used;\n",
    "2. **E**ncoder **R**epresentations means that the model is aiming to generate representation of the input sequence, i.e., it acts like an encoder;\n",
    "3. **T**ransformers means that BERT uses a transformer architecture with self-attention."
   ]
  },
  {
   "cell_type": "markdown",
   "metadata": {},
   "source": [
    "## Use BERT <a name=\"bert_example\"></a>"
   ]
  },
  {
   "cell_type": "markdown",
   "metadata": {},
   "source": [
    "Google has released a number of different BERT models, trained with different hyperparameters. [Here is a directory of all those models](https://www.tensorflow.org/tutorials/text/classify_text_with_bert#choose_a_bert_model_to_fine-tune). You see that each model is identified by three parameters:\n",
    "- $L$: this is the number of transformer blocks. You can think of it as number of \"layers\";\n",
    "- $H$: this is the dimension of embedding. We called this $D$ in our discussion of transformer;\n",
    "- $A$: this is the number of heads in multi-head self-attention. This means cutting the embedding into $A$ pieces and apply self-attention to each piece."
   ]
  },
  {
   "cell_type": "markdown",
   "metadata": {},
   "source": [
    "You can access pre-trained BERT models and potentially fine-tune them for your own ML tasks via [Hugging Face](https://huggingface.co/), an online platform that hosts many commonly used pre-trained models. In the following example, we access a basic BERT model and use it to encode some text. See this [page](https://huggingface.co/bert-base-uncased) for detailed documentation."
   ]
  },
  {
   "cell_type": "code",
   "execution_count": 4,
   "metadata": {},
   "outputs": [
    {
     "name": "stdout",
     "output_type": "stream",
     "text": [
      "Collecting transformers\n",
      "  Downloading transformers-4.19.1-py3-none-any.whl (4.2 MB)\n",
      "Requirement already satisfied: packaging>=20.0 in c:\\users\\yang3653\\appdata\\local\\continuum\\anaconda3\\envs\\tf\\lib\\site-packages (from transformers) (20.8)\n",
      "Requirement already satisfied: tqdm>=4.27 in c:\\users\\yang3653\\appdata\\local\\continuum\\anaconda3\\envs\\tf\\lib\\site-packages (from transformers) (4.50.2)\n",
      "Requirement already satisfied: requests in c:\\users\\yang3653\\appdata\\local\\continuum\\anaconda3\\envs\\tf\\lib\\site-packages (from transformers) (2.25.1)\n",
      "Requirement already satisfied: numpy>=1.17 in c:\\users\\yang3653\\appdata\\local\\continuum\\anaconda3\\envs\\tf\\lib\\site-packages (from transformers) (1.19.2)\n",
      "Requirement already satisfied: regex!=2019.12.17 in c:\\users\\yang3653\\appdata\\local\\continuum\\anaconda3\\envs\\tf\\lib\\site-packages (from transformers) (2020.10.15)\n",
      "Collecting huggingface-hub<1.0,>=0.1.0\n",
      "  Downloading huggingface_hub-0.6.0-py3-none-any.whl (84 kB)\n",
      "Requirement already satisfied: typing-extensions>=3.7.4.3 in c:\\users\\yang3653\\appdata\\local\\continuum\\anaconda3\\envs\\tf\\lib\\site-packages (from huggingface-hub<1.0,>=0.1.0->transformers) (3.7.4.3)\n",
      "Collecting packaging>=20.0\n",
      "  Downloading packaging-21.3-py3-none-any.whl (40 kB)\n",
      "Requirement already satisfied: pyparsing!=3.0.5,>=2.0.2 in c:\\users\\yang3653\\appdata\\local\\continuum\\anaconda3\\envs\\tf\\lib\\site-packages (from packaging>=20.0->transformers) (2.4.7)\n",
      "Collecting pyyaml>=5.1\n",
      "  Downloading PyYAML-6.0-cp38-cp38-win_amd64.whl (155 kB)\n",
      "Collecting tokenizers!=0.11.3,<0.13,>=0.11.1\n",
      "  Downloading tokenizers-0.12.1-cp38-cp38-win_amd64.whl (3.3 MB)\n",
      "Collecting filelock\n",
      "  Downloading filelock-3.7.0-py3-none-any.whl (10 kB)\n",
      "Requirement already satisfied: idna<3,>=2.5 in c:\\users\\yang3653\\appdata\\local\\continuum\\anaconda3\\envs\\tf\\lib\\site-packages (from requests->transformers) (2.10)\n",
      "Requirement already satisfied: chardet<5,>=3.0.2 in c:\\users\\yang3653\\appdata\\local\\continuum\\anaconda3\\envs\\tf\\lib\\site-packages (from requests->transformers) (3.0.4)\n",
      "Requirement already satisfied: certifi>=2017.4.17 in c:\\users\\yang3653\\appdata\\local\\continuum\\anaconda3\\envs\\tf\\lib\\site-packages (from requests->transformers) (2020.12.5)\n",
      "Requirement already satisfied: urllib3<1.27,>=1.21.1 in c:\\users\\yang3653\\appdata\\local\\continuum\\anaconda3\\envs\\tf\\lib\\site-packages (from requests->transformers) (1.26.2)\n",
      "Installing collected packages: pyyaml, packaging, filelock, tokenizers, huggingface-hub, transformers\n",
      "  Attempting uninstall: packaging\n",
      "    Found existing installation: packaging 20.8\n",
      "    Uninstalling packaging-20.8:\n",
      "      Successfully uninstalled packaging-20.8\n",
      "Successfully installed filelock-3.7.0 huggingface-hub-0.6.0 packaging-21.3 pyyaml-6.0 tokenizers-0.12.1 transformers-4.19.1\n"
     ]
    }
   ],
   "source": [
    "# install transformer package from Hugging Face\n",
    "!pip install transformers"
   ]
  },
  {
   "cell_type": "code",
   "execution_count": 2,
   "metadata": {
    "scrolled": true
   },
   "outputs": [
    {
     "data": {
      "application/vnd.jupyter.widget-view+json": {
       "model_id": "5dde3f9a2f5a45689b65ecf8f0e77afd",
       "version_major": 2,
       "version_minor": 0
      },
      "text/plain": [
       "HBox(children=(HTML(value='Downloading'), FloatProgress(value=0.0, max=231508.0), HTML(value='')))"
      ]
     },
     "metadata": {},
     "output_type": "display_data"
    },
    {
     "name": "stdout",
     "output_type": "stream",
     "text": [
      "\n"
     ]
    },
    {
     "data": {
      "application/vnd.jupyter.widget-view+json": {
       "model_id": "5bed00abd38e4c66a6e176ebe9779a09",
       "version_major": 2,
       "version_minor": 0
      },
      "text/plain": [
       "HBox(children=(HTML(value='Downloading'), FloatProgress(value=0.0, max=28.0), HTML(value='')))"
      ]
     },
     "metadata": {},
     "output_type": "display_data"
    },
    {
     "name": "stdout",
     "output_type": "stream",
     "text": [
      "\n"
     ]
    },
    {
     "data": {
      "application/vnd.jupyter.widget-view+json": {
       "model_id": "22d5f38c45a440269609fc7e6dad677a",
       "version_major": 2,
       "version_minor": 0
      },
      "text/plain": [
       "HBox(children=(HTML(value='Downloading'), FloatProgress(value=0.0, max=570.0), HTML(value='')))"
      ]
     },
     "metadata": {},
     "output_type": "display_data"
    },
    {
     "name": "stdout",
     "output_type": "stream",
     "text": [
      "\n"
     ]
    },
    {
     "data": {
      "application/vnd.jupyter.widget-view+json": {
       "model_id": "342ee1c7d1b74628bf3896a80c1c7cea",
       "version_major": 2,
       "version_minor": 0
      },
      "text/plain": [
       "HBox(children=(HTML(value='Downloading'), FloatProgress(value=0.0, max=536063208.0), HTML(value='')))"
      ]
     },
     "metadata": {},
     "output_type": "display_data"
    },
    {
     "name": "stdout",
     "output_type": "stream",
     "text": [
      "\n"
     ]
    },
    {
     "name": "stderr",
     "output_type": "stream",
     "text": [
      "Some layers from the model checkpoint at bert-base-uncased were not used when initializing TFBertModel: ['mlm___cls', 'nsp___cls']\n",
      "- This IS expected if you are initializing TFBertModel from the checkpoint of a model trained on another task or with another architecture (e.g. initializing a BertForSequenceClassification model from a BertForPreTraining model).\n",
      "- This IS NOT expected if you are initializing TFBertModel from the checkpoint of a model that you expect to be exactly identical (initializing a BertForSequenceClassification model from a BertForSequenceClassification model).\n",
      "All the layers of TFBertModel were initialized from the model checkpoint at bert-base-uncased.\n",
      "If your task is similar to the task the model of the checkpoint was trained on, you can already use TFBertModel for predictions without further training.\n"
     ]
    }
   ],
   "source": [
    "from transformers import BertTokenizer, TFBertModel\n",
    "\n",
    "# fetch the pre-trained model (it will download a model file ~500M)\n",
    "tokenizer = BertTokenizer.from_pretrained('bert-base-uncased')\n",
    "model = TFBertModel.from_pretrained(\"bert-base-uncased\")"
   ]
  },
  {
   "cell_type": "code",
   "execution_count": 12,
   "metadata": {},
   "outputs": [],
   "source": [
    "# input text and encode\n",
    "text = \"We are using the BERT model!\"\n",
    "encoded_input = tokenizer(text, return_tensors='tf')\n",
    "output = model(encoded_input)"
   ]
  },
  {
   "cell_type": "code",
   "execution_count": 13,
   "metadata": {},
   "outputs": [
    {
     "data": {
      "text/plain": [
       "{'input_ids': <tf.Tensor: shape=(1, 9), dtype=int32, numpy=array([[  101,  2057,  2024,  2478,  1996, 14324,  2944,   999,   102]])>, 'token_type_ids': <tf.Tensor: shape=(1, 9), dtype=int32, numpy=array([[0, 0, 0, 0, 0, 0, 0, 0, 0]])>, 'attention_mask': <tf.Tensor: shape=(1, 9), dtype=int32, numpy=array([[1, 1, 1, 1, 1, 1, 1, 1, 1]])>}"
      ]
     },
     "execution_count": 13,
     "metadata": {},
     "output_type": "execute_result"
    }
   ],
   "source": [
    "# Look at the tokenized input\n",
    "# Question: what are tokens 101 and 102?\n",
    "encoded_input"
   ]
  },
  {
   "cell_type": "code",
   "execution_count": 16,
   "metadata": {},
   "outputs": [
    {
     "data": {
      "text/plain": [
       "TFBaseModelOutputWithPoolingAndCrossAttentions(last_hidden_state=<tf.Tensor: shape=(1, 9, 768), dtype=float32, numpy=\n",
       "array([[[ 0.10261209,  0.18043919, -0.00554929, ..., -0.166134  ,\n",
       "          0.26679957,  0.35773745],\n",
       "        [ 0.263622  , -0.21110201, -0.57594675, ..., -0.20186077,\n",
       "          1.308478  , -0.14822024],\n",
       "        [ 0.12224663, -0.15183868, -0.36246365, ..., -0.56034166,\n",
       "          0.18197185,  0.45692527],\n",
       "        ...,\n",
       "        [ 0.487611  ,  0.05848615, -0.26846886, ..., -0.64023006,\n",
       "         -0.01316616, -0.00961822],\n",
       "        [-0.16868652, -0.17555293, -0.15778571, ...,  0.54957277,\n",
       "          0.45626837, -0.39924195],\n",
       "        [ 0.52467674,  0.37009996, -0.21517405, ...,  0.00148578,\n",
       "         -0.5219994 , -0.30393368]]], dtype=float32)>, pooler_output=<tf.Tensor: shape=(1, 768), dtype=float32, numpy=\n",
       "array([[-8.78734827e-01, -3.25698197e-01, -3.28317106e-01,\n",
       "         6.70523882e-01,  6.76294491e-02, -4.97857258e-02,\n",
       "         8.80656004e-01,  2.76587784e-01, -1.80702090e-01,\n",
       "        -9.99952853e-01,  4.34783325e-02,  5.05748391e-01,\n",
       "         9.82219696e-01,  2.04030082e-01,  9.44258571e-01,\n",
       "        -6.23518169e-01,  7.85685144e-03, -5.62641799e-01,\n",
       "         2.75413692e-01, -6.43890440e-01,  6.54973030e-01,\n",
       "         9.98014152e-01,  5.39189219e-01,  2.80568451e-01,\n",
       "         3.46919954e-01,  6.95186794e-01, -6.27278507e-01,\n",
       "         9.35333967e-01,  9.50950146e-01,  7.03973353e-01,\n",
       "        -7.07702696e-01,  1.71931267e-01, -9.81890202e-01,\n",
       "        -1.79219425e-01, -4.41820800e-01, -9.87813234e-01,\n",
       "         2.80857116e-01, -7.27158844e-01,  6.23343885e-02,\n",
       "         1.89604927e-02, -8.98371339e-01,  1.58929959e-01,\n",
       "         9.99590158e-01, -4.11883116e-01,  9.89006758e-02,\n",
       "        -3.57154489e-01, -9.99994516e-01,  2.21773237e-01,\n",
       "        -8.59246016e-01,  2.33305633e-01,  2.69120753e-01,\n",
       "        -1.78335607e-01,  1.46656051e-01,  3.96779269e-01,\n",
       "         3.90325457e-01,  8.13974217e-02, -2.25540981e-01,\n",
       "         8.19753185e-02, -1.70295686e-01, -5.39923191e-01,\n",
       "        -5.92916071e-01,  2.91853637e-01, -4.13579017e-01,\n",
       "        -8.97091568e-01,  1.72661781e-01,  1.28206715e-01,\n",
       "         6.20134594e-03, -2.14740783e-01, -1.77664440e-02,\n",
       "        -3.99033651e-02,  8.69764864e-01,  2.00019509e-01,\n",
       "         2.01246832e-02, -8.21547568e-01,  1.00624897e-01,\n",
       "         1.92495257e-01, -5.63699186e-01,  1.00000000e+00,\n",
       "        -2.21787632e-01, -9.65783954e-01,  3.35388988e-01,\n",
       "         2.84605920e-01,  4.33147043e-01,  3.54774445e-01,\n",
       "         1.21714659e-01, -1.00000000e+00,  2.54565060e-01,\n",
       "        -8.17635730e-02, -9.87588823e-01,  2.04371825e-01,\n",
       "         3.83364707e-01, -1.52973607e-01,  2.03943223e-01,\n",
       "         5.20069897e-01, -4.06468898e-01, -2.53391236e-01,\n",
       "        -2.38453716e-01, -2.81073183e-01, -1.54782653e-01,\n",
       "        -2.11132560e-02, -1.77784823e-02, -2.03800425e-01,\n",
       "        -1.55137390e-01, -3.46282095e-01,  1.47095636e-01,\n",
       "        -3.79600376e-01, -3.69906008e-01,  4.54690695e-01,\n",
       "        -1.24441147e-01,  6.93087399e-01,  3.74282241e-01,\n",
       "        -3.42686892e-01,  2.79299527e-01, -9.45988655e-01,\n",
       "         5.96868396e-01, -2.80452639e-01, -9.82781827e-01,\n",
       "        -4.90857422e-01, -9.85587358e-01,  6.12973213e-01,\n",
       "        -1.43317699e-01, -6.91471174e-02,  9.56331015e-01,\n",
       "         2.70761698e-01,  3.20910186e-01, -2.27423124e-02,\n",
       "        -1.88038304e-01, -1.00000000e+00, -2.23407596e-01,\n",
       "        -3.91020864e-01, -8.88535604e-02, -1.46055534e-01,\n",
       "        -9.69378948e-01, -9.50656414e-01,  5.77531338e-01,\n",
       "         9.55189168e-01,  1.85606480e-01,  9.99256492e-01,\n",
       "        -2.20427796e-01,  9.24856126e-01, -4.45280969e-03,\n",
       "        -2.08308801e-01, -1.76956788e-01, -3.98821056e-01,\n",
       "         5.95907867e-01,  2.28622675e-01, -6.36695802e-01,\n",
       "         2.32059166e-01,  4.05228809e-02, -1.79734126e-01,\n",
       "        -3.67709398e-01, -2.29818821e-01, -2.95393378e-01,\n",
       "        -9.38730478e-01, -3.68636638e-01,  9.38845456e-01,\n",
       "        -3.78510989e-02, -3.31998199e-01,  4.98391122e-01,\n",
       "        -1.76862538e-01, -3.84551495e-01,  8.11352372e-01,\n",
       "         4.57894355e-01,  3.15411806e-01, -9.31794345e-02,\n",
       "         2.73526967e-01,  7.80324414e-02,  4.89669710e-01,\n",
       "        -8.58586490e-01,  2.35194296e-01,  3.33799511e-01,\n",
       "        -2.74861544e-01, -3.01866442e-01, -9.73188698e-01,\n",
       "        -3.18678290e-01,  5.61900198e-01,  9.84158099e-01,\n",
       "         7.78745353e-01,  2.15006962e-01,  3.41620505e-01,\n",
       "        -1.67594388e-01,  2.34875783e-01, -9.35596228e-01,\n",
       "         9.71766651e-01, -1.57090798e-01,  2.67671078e-01,\n",
       "        -4.58420590e-02,  1.93604544e-01, -8.29781353e-01,\n",
       "        -1.57395571e-01,  8.27280283e-01, -7.33340755e-02,\n",
       "        -8.31848741e-01,  9.53281522e-02, -4.05152172e-01,\n",
       "        -3.69469523e-01, -3.16484511e-01,  4.88623649e-01,\n",
       "        -2.12188363e-01, -3.50075871e-01,  3.26649733e-02,\n",
       "         9.33767915e-01,  9.68594491e-01,  7.72753537e-01,\n",
       "        -3.76413137e-01,  6.08025908e-01, -8.72552097e-01,\n",
       "        -4.03848231e-01,  1.10359572e-01,  2.27107257e-01,\n",
       "         7.50229508e-02,  9.90339756e-01, -3.98373038e-01,\n",
       "        -5.27714193e-02, -9.32333529e-01, -9.80521321e-01,\n",
       "        -1.19610526e-01, -8.63848269e-01, -1.65523347e-02,\n",
       "        -7.12563157e-01,  4.53721911e-01,  3.56207103e-01,\n",
       "         1.33278117e-01,  3.37267667e-01, -9.73698258e-01,\n",
       "        -7.70551562e-01,  3.74536067e-01, -3.18802953e-01,\n",
       "         4.42139983e-01, -2.47391507e-01,  6.06002510e-01,\n",
       "         4.42190766e-01, -5.73994458e-01,  6.87730789e-01,\n",
       "         8.98433566e-01, -3.32827747e-01, -7.47683465e-01,\n",
       "         8.23455632e-01, -2.36669004e-01,  8.63408983e-01,\n",
       "        -5.65931082e-01,  9.84694064e-01,  3.72442126e-01,\n",
       "         4.87329841e-01, -9.25008297e-01, -2.22613752e-01,\n",
       "        -8.78267169e-01, -2.02192426e-01,  2.92679667e-03,\n",
       "        -2.49615416e-01,  4.52272654e-01,  5.65947652e-01,\n",
       "         3.51830661e-01,  5.92193782e-01, -4.22784150e-01,\n",
       "         9.94401455e-01, -7.13852286e-01, -9.35386717e-01,\n",
       "         1.31308109e-01, -1.66538686e-01, -9.81504440e-01,\n",
       "         3.95584941e-01,  2.60453850e-01, -3.70292187e-01,\n",
       "        -4.29365933e-01, -6.02952719e-01, -9.48078215e-01,\n",
       "         8.63633931e-01,  1.10244907e-01,  9.86000419e-01,\n",
       "        -8.75240043e-02, -8.56879354e-01, -3.48551184e-01,\n",
       "        -9.09709930e-01, -2.01060414e-01, -1.44988850e-01,\n",
       "         2.75220066e-01, -1.36509523e-01, -9.56022561e-01,\n",
       "         4.27542418e-01,  5.26469767e-01,  4.66602892e-01,\n",
       "        -2.00794473e-01,  9.96310353e-01,  9.99979138e-01,\n",
       "         9.68557298e-01,  8.92553687e-01,  9.10764754e-01,\n",
       "        -9.90309119e-01, -2.08085820e-01,  9.99980450e-01,\n",
       "        -8.28513801e-01, -9.99999642e-01, -9.31876540e-01,\n",
       "        -3.99393380e-01,  4.16211486e-01, -1.00000000e+00,\n",
       "        -1.37056887e-01,  4.65024523e-02, -9.09568906e-01,\n",
       "         6.47307858e-02,  9.73025858e-01,  9.86061275e-01,\n",
       "        -1.00000000e+00,  8.46311450e-01,  9.31820989e-01,\n",
       "        -5.81116378e-01,  5.70267320e-01, -1.97303370e-01,\n",
       "         9.68780875e-01,  5.69642603e-01,  3.79259855e-01,\n",
       "        -2.04666719e-01,  3.69923919e-01, -5.84048033e-01,\n",
       "        -8.61861348e-01, -1.03053106e-02, -8.65144134e-02,\n",
       "         9.50026870e-01,  7.70883113e-02, -6.97549164e-01,\n",
       "        -9.16969001e-01,  5.69302402e-02, -6.45725727e-02,\n",
       "        -3.13418001e-01, -9.58576977e-01, -2.09968925e-01,\n",
       "        -2.51608610e-01,  6.16406798e-01, -2.28298791e-02,\n",
       "         1.80578277e-01, -7.21990168e-01,  2.18542159e-01,\n",
       "        -3.48271072e-01,  3.80749822e-01,  6.25714302e-01,\n",
       "        -9.38922167e-01, -5.99819243e-01,  3.32828574e-02,\n",
       "        -4.51116860e-01, -1.63040295e-01, -9.53859985e-01,\n",
       "         9.58749712e-01, -3.02904159e-01,  9.24464688e-02,\n",
       "         1.00000000e+00, -1.62672520e-01, -8.51902664e-01,\n",
       "         4.90244776e-01,  1.78810179e-01, -4.50366139e-01,\n",
       "         1.00000000e+00,  5.80830216e-01, -9.72714484e-01,\n",
       "        -5.01797080e-01,  3.75872195e-01, -4.14121807e-01,\n",
       "        -4.22003090e-01,  9.98691797e-01, -1.82080939e-01,\n",
       "        -1.20563649e-01,  2.07324669e-01,  9.62340772e-01,\n",
       "        -9.85113740e-01,  8.89728248e-01, -9.06691194e-01,\n",
       "        -9.59492743e-01,  9.53451514e-01,  9.28224027e-01,\n",
       "        -2.19139546e-01, -6.33601785e-01,  9.73953959e-03,\n",
       "        -4.24671978e-01,  2.30816096e-01, -9.53832746e-01,\n",
       "         5.05898058e-01,  4.64295417e-01, -2.92715486e-02,\n",
       "         8.66881609e-01, -7.86206365e-01, -4.74578291e-01,\n",
       "         2.97276676e-01, -7.05367848e-02,  2.77469695e-01,\n",
       "         4.53787029e-01,  4.71232116e-01, -1.64594144e-01,\n",
       "         4.72750999e-02, -1.92405149e-01, -3.66292715e-01,\n",
       "        -9.69866037e-01,  5.55830188e-02,  1.00000000e+00,\n",
       "        -1.19822342e-02, -1.82129443e-04, -2.85125434e-01,\n",
       "        -4.64347526e-02, -3.08597296e-01,  4.30776179e-01,\n",
       "         5.04439175e-01, -1.92210749e-01, -8.72224867e-01,\n",
       "         2.10603610e-01, -9.33181465e-01, -9.80421126e-01,\n",
       "         6.81359887e-01,  1.40876845e-01, -2.95872420e-01,\n",
       "         9.99806762e-01,  2.78796524e-01,  1.62152648e-01,\n",
       "        -2.52243690e-03,  7.11778164e-01,  2.15992425e-02,\n",
       "         5.62938333e-01,  2.97641546e-01,  9.69979882e-01,\n",
       "        -1.88880622e-01,  4.88082379e-01,  8.20398033e-01,\n",
       "        -3.50302339e-01, -2.83560812e-01, -6.12565398e-01,\n",
       "        -1.54352551e-02, -9.12919223e-01,  1.25817940e-01,\n",
       "        -9.36130702e-01,  9.58291292e-01,  1.21257074e-01,\n",
       "         3.43669832e-01,  1.40896946e-01,  1.68940544e-01,\n",
       "         1.00000000e+00, -2.85069913e-01,  5.92145979e-01,\n",
       "        -2.80246139e-01,  7.94635534e-01, -9.86922204e-01,\n",
       "        -7.84085691e-01, -2.62509823e-01,  6.59338906e-02,\n",
       "        -1.58151209e-01, -3.14305753e-01,  2.20784366e-01,\n",
       "        -9.58403230e-01,  2.56395519e-01,  1.25021935e-02,\n",
       "        -9.79425430e-01, -9.86912072e-01,  4.38348323e-01,\n",
       "         7.55907476e-01, -1.42517211e-02, -8.38730633e-01,\n",
       "        -6.34958088e-01, -5.94622850e-01,  1.47147089e-01,\n",
       "        -1.06524996e-01, -9.17863846e-01,  3.64055544e-01,\n",
       "        -2.05472842e-01,  4.54669982e-01, -2.39828452e-01,\n",
       "         4.91848916e-01,  2.35310212e-01,  7.26663113e-01,\n",
       "         4.38361131e-02,  5.74373975e-02, -1.28145062e-03,\n",
       "        -7.46204972e-01,  7.52747834e-01, -7.80600667e-01,\n",
       "        -3.78396809e-01, -1.41046494e-01,  1.00000000e+00,\n",
       "        -4.99441266e-01,  5.26705384e-01,  7.41574466e-01,\n",
       "         5.85063875e-01, -1.36753604e-01,  1.90162152e-01,\n",
       "         5.56856811e-01,  1.28343463e-01, -2.21230760e-01,\n",
       "        -2.11827576e-01, -6.68248892e-01, -3.48785311e-01,\n",
       "         4.95144486e-01, -3.12088039e-02,  2.19363078e-01,\n",
       "         7.48234987e-01,  5.40513098e-01,  7.21349344e-02,\n",
       "         4.29088585e-02, -1.00242995e-01,  9.98324156e-01,\n",
       "        -6.53915433e-03, -4.12907377e-02, -4.87146556e-01,\n",
       "        -3.57575505e-03, -2.69600600e-01, -4.04136598e-01,\n",
       "         1.00000000e+00,  3.01777363e-01,  1.71233073e-01,\n",
       "        -9.84637022e-01, -2.41307542e-01, -9.09752011e-01,\n",
       "         9.99922574e-01,  8.06832492e-01, -8.09211612e-01,\n",
       "         4.72138733e-01,  2.98552185e-01, -4.52987812e-02,\n",
       "         7.47803211e-01, -1.44971177e-01, -2.46243000e-01,\n",
       "         2.18701512e-01,  1.29333556e-01,  9.53508556e-01,\n",
       "        -4.58412379e-01, -9.55183566e-01, -6.00613952e-01,\n",
       "         3.09518337e-01, -9.59915340e-01,  9.94016469e-01,\n",
       "        -4.43690896e-01, -2.07088172e-01, -3.03067625e-01,\n",
       "         3.57810915e-01,  5.09513378e-01, -6.86136857e-02,\n",
       "        -9.77442324e-01, -6.21347539e-02,  3.58104822e-03,\n",
       "         9.57711220e-01,  1.13723092e-01, -4.93515849e-01,\n",
       "        -9.06929135e-01, -1.00530379e-01,  1.33775160e-01,\n",
       "        -2.13098109e-01, -9.15971696e-01,  9.65532660e-01,\n",
       "        -9.79793191e-01,  4.09691811e-01,  9.99999523e-01,\n",
       "         3.05352211e-01, -6.46948278e-01,  5.35247959e-02,\n",
       "        -3.98079813e-01,  2.45531783e-01,  2.19445884e-01,\n",
       "         5.48078120e-01, -9.49364185e-01, -2.64547527e-01,\n",
       "        -1.41302705e-01,  2.11955592e-01, -1.21996567e-01,\n",
       "         4.30372626e-01,  6.55721903e-01,  2.51634300e-01,\n",
       "        -4.27288145e-01, -5.06994188e-01,  7.39996042e-03,\n",
       "         3.67606819e-01,  8.17710817e-01, -2.35767588e-01,\n",
       "        -5.30820861e-02,  2.92331260e-02, -1.22121580e-01,\n",
       "        -9.15593028e-01, -1.86418876e-01, -2.00486958e-01,\n",
       "        -9.99089420e-01,  6.34987772e-01, -1.00000000e+00,\n",
       "        -1.73069268e-01, -1.95214495e-01, -1.84107035e-01,\n",
       "         7.88663924e-01,  3.78994077e-01,  2.39148498e-01,\n",
       "        -7.13645697e-01, -2.39147753e-01,  7.18260825e-01,\n",
       "         6.80139780e-01, -1.17763393e-01,  2.29843318e-01,\n",
       "        -6.68980658e-01,  1.63184345e-01, -1.02425866e-01,\n",
       "         2.34207973e-01, -5.40278628e-02,  7.63468981e-01,\n",
       "        -1.10938117e-01,  1.00000000e+00,  1.09856166e-01,\n",
       "        -4.92708892e-01, -9.65841711e-01,  2.00337559e-01,\n",
       "        -1.63144931e-01,  9.99994397e-01, -8.80369008e-01,\n",
       "        -9.28947151e-01,  3.34288716e-01, -5.61198175e-01,\n",
       "        -8.62057030e-01,  1.85853511e-01, -7.70698413e-02,\n",
       "        -5.62556922e-01, -4.45770025e-01,  9.46737647e-01,\n",
       "         8.51094663e-01, -5.07376373e-01,  4.18717742e-01,\n",
       "        -3.20580512e-01, -4.25964355e-01, -3.78064513e-02,\n",
       "         1.14818774e-01,  9.81518865e-01,  3.28122944e-01,\n",
       "         8.90303433e-01,  4.65355814e-01, -1.13290399e-01,\n",
       "         9.62152898e-01,  1.72192141e-01,  5.09450972e-01,\n",
       "         4.06965092e-02,  1.00000000e+00,  2.59593844e-01,\n",
       "        -9.03993368e-01,  4.32891279e-01, -9.79339659e-01,\n",
       "        -1.81019053e-01, -9.46508408e-01,  1.77162021e-01,\n",
       "         1.46241590e-01,  8.90613556e-01, -2.52500504e-01,\n",
       "         9.52218890e-01, -4.15646285e-02,  3.20132775e-03,\n",
       "         1.02826804e-01,  2.84712434e-01,  2.71747261e-01,\n",
       "        -9.20610309e-01, -9.79607940e-01, -9.78938580e-01,\n",
       "         4.01243567e-01, -4.38529223e-01, -7.24833608e-02,\n",
       "         2.08293498e-01,  7.91824013e-02,  3.48617733e-01,\n",
       "         4.22364265e-01, -1.00000000e+00,  9.22120214e-01,\n",
       "         3.31415415e-01,  3.71091276e-01,  9.49504852e-01,\n",
       "         5.12404621e-01,  2.54232824e-01,  1.99976891e-01,\n",
       "        -9.81030881e-01, -9.72250521e-01, -3.25401336e-01,\n",
       "        -1.75557598e-01,  7.48545408e-01,  5.41270435e-01,\n",
       "         8.78954351e-01,  3.10390055e-01, -4.92143959e-01,\n",
       "        -2.79587626e-01,  1.12942476e-02, -4.91583049e-01,\n",
       "        -9.89385664e-01,  3.41896355e-01,  2.61993911e-02,\n",
       "        -9.51224983e-01,  9.50833619e-01, -1.99915230e-01,\n",
       "        -1.23899862e-01,  3.68572533e-01, -3.34178716e-01,\n",
       "         9.31527972e-01,  7.80175447e-01,  3.76220316e-01,\n",
       "         1.22112580e-01,  4.49008912e-01,  8.69153857e-01,\n",
       "         9.50493395e-01,  9.81632352e-01, -2.91600466e-01,\n",
       "         7.71657646e-01,  1.38718843e-01,  4.56029594e-01,\n",
       "         5.64257264e-01, -9.23859417e-01,  5.78307807e-02,\n",
       "         2.09333897e-01, -1.36404604e-01,  1.48712873e-01,\n",
       "        -1.20140165e-01, -9.59581792e-01,  4.89261240e-01,\n",
       "        -6.45713434e-02,  4.62750584e-01, -4.08875883e-01,\n",
       "         1.55632809e-01, -3.88409287e-01, -1.53906092e-01,\n",
       "        -6.93470180e-01, -5.08693099e-01,  5.52573025e-01,\n",
       "         2.31786638e-01,  9.06549990e-01,  5.04951537e-01,\n",
       "         2.36577559e-02, -5.28415084e-01, -2.21986882e-02,\n",
       "        -1.49413615e-01, -9.03401852e-01,  9.08470929e-01,\n",
       "         1.36968372e-02,  8.12373981e-02,  3.34383398e-01,\n",
       "        -1.22592524e-01,  7.57111371e-01, -1.72285438e-01,\n",
       "        -2.82213509e-01, -2.87530512e-01, -7.19594300e-01,\n",
       "         8.73281300e-01, -1.72636658e-01, -5.15439034e-01,\n",
       "        -5.05485117e-01,  6.00731075e-01,  2.76002467e-01,\n",
       "         9.98461604e-01, -2.58334219e-01, -3.24087113e-01,\n",
       "        -1.79645687e-01, -3.20625514e-01,  3.12705100e-01,\n",
       "        -2.12510139e-01, -1.00000000e+00,  3.46802562e-01,\n",
       "         6.10367283e-02,  4.06966239e-01, -5.14536947e-02,\n",
       "         1.22119337e-01,  2.68277638e-02, -9.77253914e-01,\n",
       "        -2.17439011e-01,  2.50956684e-01,  1.32614583e-01,\n",
       "        -5.04280031e-01, -1.83595166e-01,  4.99527067e-01,\n",
       "         5.41158319e-01,  6.44520938e-01,  8.50675702e-01,\n",
       "         6.62853941e-02,  3.54359329e-01,  5.68527460e-01,\n",
       "        -1.32894665e-01, -6.37096703e-01,  8.88132870e-01]], dtype=float32)>, past_key_values=None, hidden_states=None, attentions=None, cross_attentions=None)"
      ]
     },
     "execution_count": 16,
     "metadata": {},
     "output_type": "execute_result"
    }
   ],
   "source": [
    "# Look at the encoded input\n",
    "# Question: what is the dimension of encoding?\n",
    "# Question: why are there two encoding outputs? What are they?\n",
    "output"
   ]
  },
  {
   "cell_type": "markdown",
   "metadata": {},
   "source": [
    "# Application Case: GPT <a name=\"gpt\"></a>"
   ]
  },
  {
   "cell_type": "markdown",
   "metadata": {},
   "source": [
    "Another set of famous applications of transformers is the Generative Pre-Training (GPT) models developed by [OpenAI](openai.com). Here are some resources for you to read:\n",
    "- GPT-1: [Blog Post](https://openai.com/blog/language-unsupervised/), [Reserach Paper](https://www.cs.ubc.ca/~amuham01/LING530/papers/radford2018improving.pdf);\n",
    "- GPT-2: [Blog Post](https://openai.com/blog/better-language-models/), [Research Paper](https://cdn.openai.com/better-language-models/language_models_are_unsupervised_multitask_learners.pdf). GPT-2 is basically GPT-1 trained on much more data with much more parameters (1.5 Billion parameters), but the underlying model structure is largely the same;\n",
    "- GPT-3: [Blog Post](https://openai.com/blog/openai-api/), [Research Paper](https://arxiv.org/pdf/2005.14165.pdf). Again, GPT-3 largely uses the same architecture as GPT-2, with much more parameters (175 billion parameters).\n",
    "\n",
    "~~For now, you can only use GPT models via OpenAI's proprietary API (i.e., it is not open-sourced).~~ You can now use GPT models via Hugging Face as well. See [this](https://huggingface.co/gpt2) as an example. \n",
    "\n",
    "<font color=\"blue\">Finally, some of my personal opinions: </font> as you can see from the progression of GPT models, a general trend in the development of language models is to _build extremely large models_, i.e., take the state-of-the-art architecture and train it with more and more parameters and on larger and larger datasets. However, looking back on what we have learned so far, you really need _fundamentally new ideas_ (e.g., from bag-of-words to embeddings, from simple RNNs to LSTMs, from RNNs + attention to transformers) to achieve significant (non-incremental) improvement. Therefore, although the transformer architecture is the current state-of-the-art, I don't believe it's the end of the line for NLP. Some other breakthroughs will need to take place and bring the next leap in performance."
   ]
  },
  {
   "cell_type": "markdown",
   "metadata": {},
   "source": [
    "# Additional Resources <a name=\"resource\"></a>\n",
    "\n",
    "- Encoder-Decoder Architecture:\n",
    "    - [Understanding Encoder-Decoder Sequence to Sequence Model](https://towardsdatascience.com/understanding-encoder-decoder-sequence-to-sequence-model-679e04af4346). This is an accessible introduction to seq2seq modeling. I recommend reading it;\n",
    "    - [Character-level recurrent sequence-to-sequence model](https://keras.io/examples/nlp/lstm_seq2seq/);\n",
    "    - Original research papers that proposed the encoder-decoder architecture: [Sequence to Sequence Learning with Neural Networks](https://arxiv.org/abs/1409.3215); [Learning Phrase Representations using RNN Encoder-Decoder for Statistical Machine Translation](https://arxiv.org/abs/1406.1078);\n",
    "- Attention Mechanism:\n",
    "    - Original research paper that proposed the attention mechanism: [Neural machine translation by jointly learning to align and translate](https://arxiv.org/pdf/1409.0473.pdf?utm_source=ColumnsChannel);\n",
    "    - Implementation of attention: [Neural machine translation with attention](https://www.tensorflow.org/tutorials/text/nmt_with_attention);\n",
    "- Transformer:\n",
    "    - Original research paper that proposed the transformer architecture: [Attention Is All You Need](https://arxiv.org/pdf/1706.03762.pdf);\n",
    "    - Original paper on self-attention: [Long Short-Term Memory-Networks for Machine Reading](https://arxiv.org/pdf/1601.06733.pdf);\n",
    "    - Additional articles to learn about self-attention: [Illustrated: Self-Attention](https://towardsdatascience.com/illustrated-self-attention-2d627e33b20a), [Introduction of Self-Attention Layer in Transformer](https://medium.com/lsc-psd/introduction-of-self-attention-layer-in-transformer-fc7bff63f3bc);\n",
    "    - Additional articles on other components in a transformer: [Layer Normalization](https://arxiv.org/abs/1607.06450), [Normalization Techniques in Deep Neural Networks](https://medium.com/techspace-usict/normalization-techniques-in-deep-neural-networks-9121bf100d8), [Deep Residual Learning for Image Recognition](https://arxiv.org/abs/1512.03385);\n",
    "    - Implementation of Transformer: [Transformer model for language understanding](https://www.tensorflow.org/tutorials/text/transformer);\n",
    "    - [Transformer for text classification](https://keras.io/examples/nlp/text_classification_with_transformer/)\n",
    "- BERT:\n",
    "    - Original research paper that proposed BERT: [BERT: Pre-training of Deep Bidirectional Transformers for Language Understanding](https://arxiv.org/abs/1810.04805). In particular, Section 3 talks about BERT model architecture;\n",
    "    - [Open Sourcing BERT: State-of-the-Art Pre-training for Natural Language Processing](https://ai.googleblog.com/2018/11/open-sourcing-bert-state-of-art-pre.html);\n",
    "    - [Text Classification with BERT](https://www.tensorflow.org/tutorials/text/classify_text_with_bert)."
   ]
  }
 ],
 "metadata": {
  "kernelspec": {
   "display_name": "Python 3 (ipykernel)",
   "language": "python",
   "name": "python3"
  },
  "language_info": {
   "codemirror_mode": {
    "name": "ipython",
    "version": 3
   },
   "file_extension": ".py",
   "mimetype": "text/x-python",
   "name": "python",
   "nbconvert_exporter": "python",
   "pygments_lexer": "ipython3",
   "version": "3.7.3"
  }
 },
 "nbformat": 4,
 "nbformat_minor": 4
}
